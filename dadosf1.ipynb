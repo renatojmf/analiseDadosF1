{
  "nbformat": 4,
  "nbformat_minor": 0,
  "metadata": {
    "colab": {
      "name": "dadosf1.ipynb",
      "provenance": [],
      "collapsed_sections": [],
      "include_colab_link": true
    },
    "kernelspec": {
      "name": "python3",
      "display_name": "Python 3"
    }
  },
  "cells": [
    {
      "cell_type": "markdown",
      "metadata": {
        "id": "view-in-github",
        "colab_type": "text"
      },
      "source": [
        "<a href=\"https://colab.research.google.com/github/JosenildoVicente/analiseDadosF1/blob/master/dadosf1.ipynb\" target=\"_parent\"><img src=\"https://colab.research.google.com/assets/colab-badge.svg\" alt=\"Open In Colab\"/></a>"
      ]
    },
    {
      "cell_type": "markdown",
      "metadata": {
        "id": "wsuo_XNz_3sZ"
      },
      "source": [
        "Importação dos módulos"
      ]
    },
    {
      "cell_type": "code",
      "metadata": {
        "id": "yIyrgUogDNqP"
      },
      "source": [
        "import pandas as pd\n",
        "import numpy as np\n",
        "import os\n",
        "import re\n",
        "import seaborn as sns\n",
        "from scipy import stats\n",
        "from matplotlib import pyplot as plt"
      ],
      "execution_count": 219,
      "outputs": []
    },
    {
      "cell_type": "markdown",
      "metadata": {
        "id": "vGw2jpgdWn4t"
      },
      "source": [
        "\n",
        "\n",
        "**Adição dos arquivos csv**"
      ]
    },
    {
      "cell_type": "code",
      "metadata": {
        "id": "YyaArg_vEA46"
      },
      "source": [
        "circuitos=pd.read_csv(\"https://raw.githubusercontent.com/JosenildoVicente/analiseDadosF1/master/f1/circuits.csv\", encoding = \"ISO-8859-1\")\n",
        "equipes_resultados=pd.read_csv(\"https://raw.githubusercontent.com/JosenildoVicente/analiseDadosF1/master/f1/constructorResults.csv\", encoding = \"ISO-8859-1\")\n",
        "equipes_classificacao=pd.read_csv(\"https://raw.githubusercontent.com/JosenildoVicente/analiseDadosF1/master/f1/constructorStandings.csv\", encoding = \"ISO-8859-1\")\n",
        "equipes=pd.read_csv(\"https://raw.githubusercontent.com/JosenildoVicente/analiseDadosF1/master/f1/constructors.csv\", encoding = \"ISO-8859-1\")\n",
        "pilotos_classificacao=pd.read_csv(\"https://raw.githubusercontent.com/JosenildoVicente/analiseDadosF1/master/f1/driverStandings.csv\", encoding = \"ISO-8859-1\")\n",
        "pilotos=pd.read_csv(\"https://raw.githubusercontent.com/JosenildoVicente/analiseDadosF1/master/f1/drivers.csv\", encoding = \"ISO-8859-1\")\n",
        "tempos_voltas=pd.read_csv(\"https://raw.githubusercontent.com/JosenildoVicente/analiseDadosF1/master/f1/lapTimes.csv\", encoding = \"ISO-8859-1\")\n",
        "tempos_parada=pd.read_csv(\"https://raw.githubusercontent.com/JosenildoVicente/analiseDadosF1/master/f1/pitStops.csv\", encoding = \"ISO-8859-1\")\n",
        "qualificacao=pd.read_csv(\"https://raw.githubusercontent.com/JosenildoVicente/analiseDadosF1/master/f1/qualifying.csv\", encoding = \"ISO-8859-1\")\n",
        "corridas=pd.read_csv(\"https://raw.githubusercontent.com/JosenildoVicente/analiseDadosF1/master/f1/races.csv\", encoding = \"ISO-8859-1\")\n",
        "resultados=pd.read_csv(\"https://raw.githubusercontent.com/JosenildoVicente/analiseDadosF1/master/f1/results.csv\", encoding = \"ISO-8859-1\")\n",
        "temporadas=pd.read_csv(\"https://raw.githubusercontent.com/JosenildoVicente/analiseDadosF1/master/f1/seasons.csv\", encoding = \"ISO-8859-1\")\n",
        "status=pd.read_csv(\"https://raw.githubusercontent.com/JosenildoVicente/analiseDadosF1/master/f1/status.csv\", encoding = \"ISO-8859-1\")"
      ],
      "execution_count": null,
      "outputs": []
    },
    {
      "cell_type": "markdown",
      "metadata": {
        "id": "s4uy6x2hE0BY"
      },
      "source": [
        "**Pré processamento dos dados:**"
      ]
    },
    {
      "cell_type": "markdown",
      "metadata": {
        "id": "DXOqhOApXh2E"
      },
      "source": [
        "## **Verificando as tabelas**"
      ]
    },
    {
      "cell_type": "code",
      "metadata": {
        "id": "vITOTyzhVJMo",
        "outputId": "7f1444ea-9f77-4f1e-f739-0b4d909dfce0",
        "colab": {
          "base_uri": "https://localhost:8080/",
          "height": 204
        }
      },
      "source": [
        "circuitos.head()"
      ],
      "execution_count": null,
      "outputs": [
        {
          "output_type": "execute_result",
          "data": {
            "text/html": [
              "<div>\n",
              "<style scoped>\n",
              "    .dataframe tbody tr th:only-of-type {\n",
              "        vertical-align: middle;\n",
              "    }\n",
              "\n",
              "    .dataframe tbody tr th {\n",
              "        vertical-align: top;\n",
              "    }\n",
              "\n",
              "    .dataframe thead th {\n",
              "        text-align: right;\n",
              "    }\n",
              "</style>\n",
              "<table border=\"1\" class=\"dataframe\">\n",
              "  <thead>\n",
              "    <tr style=\"text-align: right;\">\n",
              "      <th></th>\n",
              "      <th>circuitId</th>\n",
              "      <th>circuitRef</th>\n",
              "      <th>name</th>\n",
              "      <th>location</th>\n",
              "      <th>country</th>\n",
              "      <th>lat</th>\n",
              "      <th>lng</th>\n",
              "      <th>alt</th>\n",
              "      <th>url</th>\n",
              "    </tr>\n",
              "  </thead>\n",
              "  <tbody>\n",
              "    <tr>\n",
              "      <th>0</th>\n",
              "      <td>1</td>\n",
              "      <td>albert_park</td>\n",
              "      <td>Albert Park Grand Prix Circuit</td>\n",
              "      <td>Melbourne</td>\n",
              "      <td>Australia</td>\n",
              "      <td>-37.84970</td>\n",
              "      <td>144.96800</td>\n",
              "      <td>10.0</td>\n",
              "      <td>http://en.wikipedia.org/wiki/Melbourne_Grand_P...</td>\n",
              "    </tr>\n",
              "    <tr>\n",
              "      <th>1</th>\n",
              "      <td>2</td>\n",
              "      <td>sepang</td>\n",
              "      <td>Sepang International Circuit</td>\n",
              "      <td>Kuala Lumpur</td>\n",
              "      <td>Malaysia</td>\n",
              "      <td>2.76083</td>\n",
              "      <td>101.73800</td>\n",
              "      <td>NaN</td>\n",
              "      <td>http://en.wikipedia.org/wiki/Sepang_Internatio...</td>\n",
              "    </tr>\n",
              "    <tr>\n",
              "      <th>2</th>\n",
              "      <td>3</td>\n",
              "      <td>bahrain</td>\n",
              "      <td>Bahrain International Circuit</td>\n",
              "      <td>Sakhir</td>\n",
              "      <td>Bahrain</td>\n",
              "      <td>26.03250</td>\n",
              "      <td>50.51060</td>\n",
              "      <td>NaN</td>\n",
              "      <td>http://en.wikipedia.org/wiki/Bahrain_Internati...</td>\n",
              "    </tr>\n",
              "    <tr>\n",
              "      <th>3</th>\n",
              "      <td>4</td>\n",
              "      <td>catalunya</td>\n",
              "      <td>Circuit de Barcelona-Catalunya</td>\n",
              "      <td>MontmelÌ_</td>\n",
              "      <td>Spain</td>\n",
              "      <td>41.57000</td>\n",
              "      <td>2.26111</td>\n",
              "      <td>NaN</td>\n",
              "      <td>http://en.wikipedia.org/wiki/Circuit_de_Barcel...</td>\n",
              "    </tr>\n",
              "    <tr>\n",
              "      <th>4</th>\n",
              "      <td>5</td>\n",
              "      <td>istanbul</td>\n",
              "      <td>Istanbul Park</td>\n",
              "      <td>Istanbul</td>\n",
              "      <td>Turkey</td>\n",
              "      <td>40.95170</td>\n",
              "      <td>29.40500</td>\n",
              "      <td>NaN</td>\n",
              "      <td>http://en.wikipedia.org/wiki/Istanbul_Park</td>\n",
              "    </tr>\n",
              "  </tbody>\n",
              "</table>\n",
              "</div>"
            ],
            "text/plain": [
              "   circuitId  ...                                                url\n",
              "0          1  ...  http://en.wikipedia.org/wiki/Melbourne_Grand_P...\n",
              "1          2  ...  http://en.wikipedia.org/wiki/Sepang_Internatio...\n",
              "2          3  ...  http://en.wikipedia.org/wiki/Bahrain_Internati...\n",
              "3          4  ...  http://en.wikipedia.org/wiki/Circuit_de_Barcel...\n",
              "4          5  ...         http://en.wikipedia.org/wiki/Istanbul_Park\n",
              "\n",
              "[5 rows x 9 columns]"
            ]
          },
          "metadata": {
            "tags": []
          },
          "execution_count": 3
        }
      ]
    },
    {
      "cell_type": "code",
      "metadata": {
        "id": "3vOF7R9UX4ZK",
        "outputId": "36a359f1-174e-4c2d-9c98-00387c4f484e",
        "colab": {
          "base_uri": "https://localhost:8080/",
          "height": 204
        }
      },
      "source": [
        "equipes_resultados.head()"
      ],
      "execution_count": null,
      "outputs": [
        {
          "output_type": "execute_result",
          "data": {
            "text/html": [
              "<div>\n",
              "<style scoped>\n",
              "    .dataframe tbody tr th:only-of-type {\n",
              "        vertical-align: middle;\n",
              "    }\n",
              "\n",
              "    .dataframe tbody tr th {\n",
              "        vertical-align: top;\n",
              "    }\n",
              "\n",
              "    .dataframe thead th {\n",
              "        text-align: right;\n",
              "    }\n",
              "</style>\n",
              "<table border=\"1\" class=\"dataframe\">\n",
              "  <thead>\n",
              "    <tr style=\"text-align: right;\">\n",
              "      <th></th>\n",
              "      <th>constructorResultsId</th>\n",
              "      <th>raceId</th>\n",
              "      <th>constructorId</th>\n",
              "      <th>points</th>\n",
              "      <th>status</th>\n",
              "    </tr>\n",
              "  </thead>\n",
              "  <tbody>\n",
              "    <tr>\n",
              "      <th>0</th>\n",
              "      <td>1</td>\n",
              "      <td>18</td>\n",
              "      <td>1</td>\n",
              "      <td>14.0</td>\n",
              "      <td>NaN</td>\n",
              "    </tr>\n",
              "    <tr>\n",
              "      <th>1</th>\n",
              "      <td>2</td>\n",
              "      <td>18</td>\n",
              "      <td>2</td>\n",
              "      <td>8.0</td>\n",
              "      <td>NaN</td>\n",
              "    </tr>\n",
              "    <tr>\n",
              "      <th>2</th>\n",
              "      <td>3</td>\n",
              "      <td>18</td>\n",
              "      <td>3</td>\n",
              "      <td>9.0</td>\n",
              "      <td>NaN</td>\n",
              "    </tr>\n",
              "    <tr>\n",
              "      <th>3</th>\n",
              "      <td>4</td>\n",
              "      <td>18</td>\n",
              "      <td>4</td>\n",
              "      <td>5.0</td>\n",
              "      <td>NaN</td>\n",
              "    </tr>\n",
              "    <tr>\n",
              "      <th>4</th>\n",
              "      <td>5</td>\n",
              "      <td>18</td>\n",
              "      <td>5</td>\n",
              "      <td>2.0</td>\n",
              "      <td>NaN</td>\n",
              "    </tr>\n",
              "  </tbody>\n",
              "</table>\n",
              "</div>"
            ],
            "text/plain": [
              "   constructorResultsId  raceId  constructorId  points status\n",
              "0                     1      18              1    14.0    NaN\n",
              "1                     2      18              2     8.0    NaN\n",
              "2                     3      18              3     9.0    NaN\n",
              "3                     4      18              4     5.0    NaN\n",
              "4                     5      18              5     2.0    NaN"
            ]
          },
          "metadata": {
            "tags": []
          },
          "execution_count": 4
        }
      ]
    },
    {
      "cell_type": "code",
      "metadata": {
        "id": "lBcF9p5FX9sk",
        "outputId": "15a25be9-0a98-4899-d6a7-d1fb54afee4b",
        "colab": {
          "base_uri": "https://localhost:8080/",
          "height": 204
        }
      },
      "source": [
        "equipes_classificacao.head()"
      ],
      "execution_count": null,
      "outputs": [
        {
          "output_type": "execute_result",
          "data": {
            "text/html": [
              "<div>\n",
              "<style scoped>\n",
              "    .dataframe tbody tr th:only-of-type {\n",
              "        vertical-align: middle;\n",
              "    }\n",
              "\n",
              "    .dataframe tbody tr th {\n",
              "        vertical-align: top;\n",
              "    }\n",
              "\n",
              "    .dataframe thead th {\n",
              "        text-align: right;\n",
              "    }\n",
              "</style>\n",
              "<table border=\"1\" class=\"dataframe\">\n",
              "  <thead>\n",
              "    <tr style=\"text-align: right;\">\n",
              "      <th></th>\n",
              "      <th>constructorStandingsId</th>\n",
              "      <th>raceId</th>\n",
              "      <th>constructorId</th>\n",
              "      <th>points</th>\n",
              "      <th>position</th>\n",
              "      <th>positionText</th>\n",
              "      <th>wins</th>\n",
              "      <th>Unnamed: 7</th>\n",
              "    </tr>\n",
              "  </thead>\n",
              "  <tbody>\n",
              "    <tr>\n",
              "      <th>0</th>\n",
              "      <td>1</td>\n",
              "      <td>18</td>\n",
              "      <td>1</td>\n",
              "      <td>14.0</td>\n",
              "      <td>1</td>\n",
              "      <td>1</td>\n",
              "      <td>1</td>\n",
              "      <td>NaN</td>\n",
              "    </tr>\n",
              "    <tr>\n",
              "      <th>1</th>\n",
              "      <td>2</td>\n",
              "      <td>18</td>\n",
              "      <td>2</td>\n",
              "      <td>8.0</td>\n",
              "      <td>3</td>\n",
              "      <td>3</td>\n",
              "      <td>0</td>\n",
              "      <td>NaN</td>\n",
              "    </tr>\n",
              "    <tr>\n",
              "      <th>2</th>\n",
              "      <td>3</td>\n",
              "      <td>18</td>\n",
              "      <td>3</td>\n",
              "      <td>9.0</td>\n",
              "      <td>2</td>\n",
              "      <td>2</td>\n",
              "      <td>0</td>\n",
              "      <td>NaN</td>\n",
              "    </tr>\n",
              "    <tr>\n",
              "      <th>3</th>\n",
              "      <td>4</td>\n",
              "      <td>18</td>\n",
              "      <td>4</td>\n",
              "      <td>5.0</td>\n",
              "      <td>4</td>\n",
              "      <td>4</td>\n",
              "      <td>0</td>\n",
              "      <td>NaN</td>\n",
              "    </tr>\n",
              "    <tr>\n",
              "      <th>4</th>\n",
              "      <td>5</td>\n",
              "      <td>18</td>\n",
              "      <td>5</td>\n",
              "      <td>2.0</td>\n",
              "      <td>5</td>\n",
              "      <td>5</td>\n",
              "      <td>0</td>\n",
              "      <td>NaN</td>\n",
              "    </tr>\n",
              "  </tbody>\n",
              "</table>\n",
              "</div>"
            ],
            "text/plain": [
              "   constructorStandingsId  raceId  constructorId  ...  positionText  wins Unnamed: 7\n",
              "0                       1      18              1  ...             1     1        NaN\n",
              "1                       2      18              2  ...             3     0        NaN\n",
              "2                       3      18              3  ...             2     0        NaN\n",
              "3                       4      18              4  ...             4     0        NaN\n",
              "4                       5      18              5  ...             5     0        NaN\n",
              "\n",
              "[5 rows x 8 columns]"
            ]
          },
          "metadata": {
            "tags": []
          },
          "execution_count": 5
        }
      ]
    },
    {
      "cell_type": "code",
      "metadata": {
        "id": "s10rD9WEYBQC",
        "outputId": "cd929bac-dfcb-4dff-b6aa-8d28afb71606",
        "colab": {
          "base_uri": "https://localhost:8080/",
          "height": 204
        }
      },
      "source": [
        "equipes.head()"
      ],
      "execution_count": null,
      "outputs": [
        {
          "output_type": "execute_result",
          "data": {
            "text/html": [
              "<div>\n",
              "<style scoped>\n",
              "    .dataframe tbody tr th:only-of-type {\n",
              "        vertical-align: middle;\n",
              "    }\n",
              "\n",
              "    .dataframe tbody tr th {\n",
              "        vertical-align: top;\n",
              "    }\n",
              "\n",
              "    .dataframe thead th {\n",
              "        text-align: right;\n",
              "    }\n",
              "</style>\n",
              "<table border=\"1\" class=\"dataframe\">\n",
              "  <thead>\n",
              "    <tr style=\"text-align: right;\">\n",
              "      <th></th>\n",
              "      <th>constructorId</th>\n",
              "      <th>constructorRef</th>\n",
              "      <th>name</th>\n",
              "      <th>nationality</th>\n",
              "      <th>url</th>\n",
              "      <th>Unnamed: 5</th>\n",
              "    </tr>\n",
              "  </thead>\n",
              "  <tbody>\n",
              "    <tr>\n",
              "      <th>0</th>\n",
              "      <td>1</td>\n",
              "      <td>mclaren</td>\n",
              "      <td>McLaren</td>\n",
              "      <td>British</td>\n",
              "      <td>http://en.wikipedia.org/wiki/McLaren</td>\n",
              "      <td>NaN</td>\n",
              "    </tr>\n",
              "    <tr>\n",
              "      <th>1</th>\n",
              "      <td>2</td>\n",
              "      <td>bmw_sauber</td>\n",
              "      <td>BMW Sauber</td>\n",
              "      <td>German</td>\n",
              "      <td>http://en.wikipedia.org/wiki/BMW_Sauber</td>\n",
              "      <td>NaN</td>\n",
              "    </tr>\n",
              "    <tr>\n",
              "      <th>2</th>\n",
              "      <td>3</td>\n",
              "      <td>williams</td>\n",
              "      <td>Williams</td>\n",
              "      <td>British</td>\n",
              "      <td>http://en.wikipedia.org/wiki/Williams_Grand_Pr...</td>\n",
              "      <td>NaN</td>\n",
              "    </tr>\n",
              "    <tr>\n",
              "      <th>3</th>\n",
              "      <td>4</td>\n",
              "      <td>renault</td>\n",
              "      <td>Renault</td>\n",
              "      <td>French</td>\n",
              "      <td>http://en.wikipedia.org/wiki/Renault_F1</td>\n",
              "      <td>NaN</td>\n",
              "    </tr>\n",
              "    <tr>\n",
              "      <th>4</th>\n",
              "      <td>5</td>\n",
              "      <td>toro_rosso</td>\n",
              "      <td>Toro Rosso</td>\n",
              "      <td>Italian</td>\n",
              "      <td>http://en.wikipedia.org/wiki/Scuderia_Toro_Rosso</td>\n",
              "      <td>NaN</td>\n",
              "    </tr>\n",
              "  </tbody>\n",
              "</table>\n",
              "</div>"
            ],
            "text/plain": [
              "   constructorId  ... Unnamed: 5\n",
              "0              1  ...        NaN\n",
              "1              2  ...        NaN\n",
              "2              3  ...        NaN\n",
              "3              4  ...        NaN\n",
              "4              5  ...        NaN\n",
              "\n",
              "[5 rows x 6 columns]"
            ]
          },
          "metadata": {
            "tags": []
          },
          "execution_count": 6
        }
      ]
    },
    {
      "cell_type": "code",
      "metadata": {
        "id": "cTgHQoJCYXkv",
        "outputId": "670841e6-bf4e-4286-f243-beaf204d2d23",
        "colab": {
          "base_uri": "https://localhost:8080/",
          "height": 204
        }
      },
      "source": [
        "pilotos_classificacao.head()"
      ],
      "execution_count": null,
      "outputs": [
        {
          "output_type": "execute_result",
          "data": {
            "text/html": [
              "<div>\n",
              "<style scoped>\n",
              "    .dataframe tbody tr th:only-of-type {\n",
              "        vertical-align: middle;\n",
              "    }\n",
              "\n",
              "    .dataframe tbody tr th {\n",
              "        vertical-align: top;\n",
              "    }\n",
              "\n",
              "    .dataframe thead th {\n",
              "        text-align: right;\n",
              "    }\n",
              "</style>\n",
              "<table border=\"1\" class=\"dataframe\">\n",
              "  <thead>\n",
              "    <tr style=\"text-align: right;\">\n",
              "      <th></th>\n",
              "      <th>driverStandingsId</th>\n",
              "      <th>raceId</th>\n",
              "      <th>driverId</th>\n",
              "      <th>points</th>\n",
              "      <th>position</th>\n",
              "      <th>positionText</th>\n",
              "      <th>wins</th>\n",
              "    </tr>\n",
              "  </thead>\n",
              "  <tbody>\n",
              "    <tr>\n",
              "      <th>0</th>\n",
              "      <td>1</td>\n",
              "      <td>18</td>\n",
              "      <td>1</td>\n",
              "      <td>10.0</td>\n",
              "      <td>1</td>\n",
              "      <td>1</td>\n",
              "      <td>1</td>\n",
              "    </tr>\n",
              "    <tr>\n",
              "      <th>1</th>\n",
              "      <td>2</td>\n",
              "      <td>18</td>\n",
              "      <td>2</td>\n",
              "      <td>8.0</td>\n",
              "      <td>2</td>\n",
              "      <td>2</td>\n",
              "      <td>0</td>\n",
              "    </tr>\n",
              "    <tr>\n",
              "      <th>2</th>\n",
              "      <td>3</td>\n",
              "      <td>18</td>\n",
              "      <td>3</td>\n",
              "      <td>6.0</td>\n",
              "      <td>3</td>\n",
              "      <td>3</td>\n",
              "      <td>0</td>\n",
              "    </tr>\n",
              "    <tr>\n",
              "      <th>3</th>\n",
              "      <td>4</td>\n",
              "      <td>18</td>\n",
              "      <td>4</td>\n",
              "      <td>5.0</td>\n",
              "      <td>4</td>\n",
              "      <td>4</td>\n",
              "      <td>0</td>\n",
              "    </tr>\n",
              "    <tr>\n",
              "      <th>4</th>\n",
              "      <td>5</td>\n",
              "      <td>18</td>\n",
              "      <td>5</td>\n",
              "      <td>4.0</td>\n",
              "      <td>5</td>\n",
              "      <td>5</td>\n",
              "      <td>0</td>\n",
              "    </tr>\n",
              "  </tbody>\n",
              "</table>\n",
              "</div>"
            ],
            "text/plain": [
              "   driverStandingsId  raceId  driverId  points  position positionText  wins\n",
              "0                  1      18         1    10.0         1            1     1\n",
              "1                  2      18         2     8.0         2            2     0\n",
              "2                  3      18         3     6.0         3            3     0\n",
              "3                  4      18         4     5.0         4            4     0\n",
              "4                  5      18         5     4.0         5            5     0"
            ]
          },
          "metadata": {
            "tags": []
          },
          "execution_count": 7
        }
      ]
    },
    {
      "cell_type": "code",
      "metadata": {
        "id": "sACw4o6RYbz-",
        "outputId": "92d5f667-19de-41c9-bc8e-f04700a35884",
        "colab": {
          "base_uri": "https://localhost:8080/",
          "height": 204
        }
      },
      "source": [
        "pilotos.head()"
      ],
      "execution_count": null,
      "outputs": [
        {
          "output_type": "execute_result",
          "data": {
            "text/html": [
              "<div>\n",
              "<style scoped>\n",
              "    .dataframe tbody tr th:only-of-type {\n",
              "        vertical-align: middle;\n",
              "    }\n",
              "\n",
              "    .dataframe tbody tr th {\n",
              "        vertical-align: top;\n",
              "    }\n",
              "\n",
              "    .dataframe thead th {\n",
              "        text-align: right;\n",
              "    }\n",
              "</style>\n",
              "<table border=\"1\" class=\"dataframe\">\n",
              "  <thead>\n",
              "    <tr style=\"text-align: right;\">\n",
              "      <th></th>\n",
              "      <th>driverId</th>\n",
              "      <th>driverRef</th>\n",
              "      <th>number</th>\n",
              "      <th>code</th>\n",
              "      <th>forename</th>\n",
              "      <th>surname</th>\n",
              "      <th>dob</th>\n",
              "      <th>nationality</th>\n",
              "      <th>url</th>\n",
              "    </tr>\n",
              "  </thead>\n",
              "  <tbody>\n",
              "    <tr>\n",
              "      <th>0</th>\n",
              "      <td>1</td>\n",
              "      <td>hamilton</td>\n",
              "      <td>44.0</td>\n",
              "      <td>HAM</td>\n",
              "      <td>Lewis</td>\n",
              "      <td>Hamilton</td>\n",
              "      <td>07/01/1985</td>\n",
              "      <td>British</td>\n",
              "      <td>http://en.wikipedia.org/wiki/Lewis_Hamilton</td>\n",
              "    </tr>\n",
              "    <tr>\n",
              "      <th>1</th>\n",
              "      <td>2</td>\n",
              "      <td>heidfeld</td>\n",
              "      <td>NaN</td>\n",
              "      <td>HEI</td>\n",
              "      <td>Nick</td>\n",
              "      <td>Heidfeld</td>\n",
              "      <td>10/05/1977</td>\n",
              "      <td>German</td>\n",
              "      <td>http://en.wikipedia.org/wiki/Nick_Heidfeld</td>\n",
              "    </tr>\n",
              "    <tr>\n",
              "      <th>2</th>\n",
              "      <td>3</td>\n",
              "      <td>rosberg</td>\n",
              "      <td>6.0</td>\n",
              "      <td>ROS</td>\n",
              "      <td>Nico</td>\n",
              "      <td>Rosberg</td>\n",
              "      <td>27/06/1985</td>\n",
              "      <td>German</td>\n",
              "      <td>http://en.wikipedia.org/wiki/Nico_Rosberg</td>\n",
              "    </tr>\n",
              "    <tr>\n",
              "      <th>3</th>\n",
              "      <td>4</td>\n",
              "      <td>alonso</td>\n",
              "      <td>14.0</td>\n",
              "      <td>ALO</td>\n",
              "      <td>Fernando</td>\n",
              "      <td>Alonso</td>\n",
              "      <td>29/07/1981</td>\n",
              "      <td>Spanish</td>\n",
              "      <td>http://en.wikipedia.org/wiki/Fernando_Alonso</td>\n",
              "    </tr>\n",
              "    <tr>\n",
              "      <th>4</th>\n",
              "      <td>5</td>\n",
              "      <td>kovalainen</td>\n",
              "      <td>NaN</td>\n",
              "      <td>KOV</td>\n",
              "      <td>Heikki</td>\n",
              "      <td>Kovalainen</td>\n",
              "      <td>19/10/1981</td>\n",
              "      <td>Finnish</td>\n",
              "      <td>http://en.wikipedia.org/wiki/Heikki_Kovalainen</td>\n",
              "    </tr>\n",
              "  </tbody>\n",
              "</table>\n",
              "</div>"
            ],
            "text/plain": [
              "   driverId  ...                                             url\n",
              "0         1  ...     http://en.wikipedia.org/wiki/Lewis_Hamilton\n",
              "1         2  ...      http://en.wikipedia.org/wiki/Nick_Heidfeld\n",
              "2         3  ...       http://en.wikipedia.org/wiki/Nico_Rosberg\n",
              "3         4  ...    http://en.wikipedia.org/wiki/Fernando_Alonso\n",
              "4         5  ...  http://en.wikipedia.org/wiki/Heikki_Kovalainen\n",
              "\n",
              "[5 rows x 9 columns]"
            ]
          },
          "metadata": {
            "tags": []
          },
          "execution_count": 8
        }
      ]
    },
    {
      "cell_type": "code",
      "metadata": {
        "id": "Y5UjDPknYey2",
        "outputId": "0b100dcd-c25e-4d5a-f23a-35758671bcd5",
        "colab": {
          "base_uri": "https://localhost:8080/",
          "height": 204
        }
      },
      "source": [
        "tempos_voltas.head()"
      ],
      "execution_count": null,
      "outputs": [
        {
          "output_type": "execute_result",
          "data": {
            "text/html": [
              "<div>\n",
              "<style scoped>\n",
              "    .dataframe tbody tr th:only-of-type {\n",
              "        vertical-align: middle;\n",
              "    }\n",
              "\n",
              "    .dataframe tbody tr th {\n",
              "        vertical-align: top;\n",
              "    }\n",
              "\n",
              "    .dataframe thead th {\n",
              "        text-align: right;\n",
              "    }\n",
              "</style>\n",
              "<table border=\"1\" class=\"dataframe\">\n",
              "  <thead>\n",
              "    <tr style=\"text-align: right;\">\n",
              "      <th></th>\n",
              "      <th>raceId</th>\n",
              "      <th>driverId</th>\n",
              "      <th>lap</th>\n",
              "      <th>position</th>\n",
              "      <th>time</th>\n",
              "      <th>milliseconds</th>\n",
              "    </tr>\n",
              "  </thead>\n",
              "  <tbody>\n",
              "    <tr>\n",
              "      <th>0</th>\n",
              "      <td>841</td>\n",
              "      <td>20</td>\n",
              "      <td>1</td>\n",
              "      <td>1</td>\n",
              "      <td>1:38.109</td>\n",
              "      <td>98109</td>\n",
              "    </tr>\n",
              "    <tr>\n",
              "      <th>1</th>\n",
              "      <td>841</td>\n",
              "      <td>20</td>\n",
              "      <td>2</td>\n",
              "      <td>1</td>\n",
              "      <td>1:33.006</td>\n",
              "      <td>93006</td>\n",
              "    </tr>\n",
              "    <tr>\n",
              "      <th>2</th>\n",
              "      <td>841</td>\n",
              "      <td>20</td>\n",
              "      <td>3</td>\n",
              "      <td>1</td>\n",
              "      <td>1:32.713</td>\n",
              "      <td>92713</td>\n",
              "    </tr>\n",
              "    <tr>\n",
              "      <th>3</th>\n",
              "      <td>841</td>\n",
              "      <td>20</td>\n",
              "      <td>4</td>\n",
              "      <td>1</td>\n",
              "      <td>1:32.803</td>\n",
              "      <td>92803</td>\n",
              "    </tr>\n",
              "    <tr>\n",
              "      <th>4</th>\n",
              "      <td>841</td>\n",
              "      <td>20</td>\n",
              "      <td>5</td>\n",
              "      <td>1</td>\n",
              "      <td>1:32.342</td>\n",
              "      <td>92342</td>\n",
              "    </tr>\n",
              "  </tbody>\n",
              "</table>\n",
              "</div>"
            ],
            "text/plain": [
              "   raceId  driverId  lap  position      time  milliseconds\n",
              "0     841        20    1         1  1:38.109         98109\n",
              "1     841        20    2         1  1:33.006         93006\n",
              "2     841        20    3         1  1:32.713         92713\n",
              "3     841        20    4         1  1:32.803         92803\n",
              "4     841        20    5         1  1:32.342         92342"
            ]
          },
          "metadata": {
            "tags": []
          },
          "execution_count": 9
        }
      ]
    },
    {
      "cell_type": "code",
      "metadata": {
        "id": "F7YdaX7XYf-g",
        "outputId": "42fc393a-b8c2-49b2-88c0-bb70fa671d56",
        "colab": {
          "base_uri": "https://localhost:8080/",
          "height": 204
        }
      },
      "source": [
        "tempos_parada.head()"
      ],
      "execution_count": null,
      "outputs": [
        {
          "output_type": "execute_result",
          "data": {
            "text/html": [
              "<div>\n",
              "<style scoped>\n",
              "    .dataframe tbody tr th:only-of-type {\n",
              "        vertical-align: middle;\n",
              "    }\n",
              "\n",
              "    .dataframe tbody tr th {\n",
              "        vertical-align: top;\n",
              "    }\n",
              "\n",
              "    .dataframe thead th {\n",
              "        text-align: right;\n",
              "    }\n",
              "</style>\n",
              "<table border=\"1\" class=\"dataframe\">\n",
              "  <thead>\n",
              "    <tr style=\"text-align: right;\">\n",
              "      <th></th>\n",
              "      <th>raceId</th>\n",
              "      <th>driverId</th>\n",
              "      <th>stop</th>\n",
              "      <th>lap</th>\n",
              "      <th>time</th>\n",
              "      <th>duration</th>\n",
              "      <th>milliseconds</th>\n",
              "    </tr>\n",
              "  </thead>\n",
              "  <tbody>\n",
              "    <tr>\n",
              "      <th>0</th>\n",
              "      <td>841</td>\n",
              "      <td>153</td>\n",
              "      <td>1</td>\n",
              "      <td>1</td>\n",
              "      <td>17:05:23</td>\n",
              "      <td>26.898</td>\n",
              "      <td>26898</td>\n",
              "    </tr>\n",
              "    <tr>\n",
              "      <th>1</th>\n",
              "      <td>841</td>\n",
              "      <td>30</td>\n",
              "      <td>1</td>\n",
              "      <td>1</td>\n",
              "      <td>17:05:52</td>\n",
              "      <td>25.021</td>\n",
              "      <td>25021</td>\n",
              "    </tr>\n",
              "    <tr>\n",
              "      <th>2</th>\n",
              "      <td>841</td>\n",
              "      <td>17</td>\n",
              "      <td>1</td>\n",
              "      <td>11</td>\n",
              "      <td>17:20:48</td>\n",
              "      <td>23.426</td>\n",
              "      <td>23426</td>\n",
              "    </tr>\n",
              "    <tr>\n",
              "      <th>3</th>\n",
              "      <td>841</td>\n",
              "      <td>4</td>\n",
              "      <td>1</td>\n",
              "      <td>12</td>\n",
              "      <td>17:22:34</td>\n",
              "      <td>23.251</td>\n",
              "      <td>23251</td>\n",
              "    </tr>\n",
              "    <tr>\n",
              "      <th>4</th>\n",
              "      <td>841</td>\n",
              "      <td>13</td>\n",
              "      <td>1</td>\n",
              "      <td>13</td>\n",
              "      <td>17:24:10</td>\n",
              "      <td>23.842</td>\n",
              "      <td>23842</td>\n",
              "    </tr>\n",
              "  </tbody>\n",
              "</table>\n",
              "</div>"
            ],
            "text/plain": [
              "   raceId  driverId  stop  lap      time duration  milliseconds\n",
              "0     841       153     1    1  17:05:23   26.898         26898\n",
              "1     841        30     1    1  17:05:52   25.021         25021\n",
              "2     841        17     1   11  17:20:48   23.426         23426\n",
              "3     841         4     1   12  17:22:34   23.251         23251\n",
              "4     841        13     1   13  17:24:10   23.842         23842"
            ]
          },
          "metadata": {
            "tags": []
          },
          "execution_count": 10
        }
      ]
    },
    {
      "cell_type": "code",
      "metadata": {
        "id": "qIB4S-MkYhus",
        "outputId": "7bc48b0c-170a-4304-959c-ae536dd0d23f",
        "colab": {
          "base_uri": "https://localhost:8080/",
          "height": 204
        }
      },
      "source": [
        "qualificacao.head()"
      ],
      "execution_count": null,
      "outputs": [
        {
          "output_type": "execute_result",
          "data": {
            "text/html": [
              "<div>\n",
              "<style scoped>\n",
              "    .dataframe tbody tr th:only-of-type {\n",
              "        vertical-align: middle;\n",
              "    }\n",
              "\n",
              "    .dataframe tbody tr th {\n",
              "        vertical-align: top;\n",
              "    }\n",
              "\n",
              "    .dataframe thead th {\n",
              "        text-align: right;\n",
              "    }\n",
              "</style>\n",
              "<table border=\"1\" class=\"dataframe\">\n",
              "  <thead>\n",
              "    <tr style=\"text-align: right;\">\n",
              "      <th></th>\n",
              "      <th>qualifyId</th>\n",
              "      <th>raceId</th>\n",
              "      <th>driverId</th>\n",
              "      <th>constructorId</th>\n",
              "      <th>number</th>\n",
              "      <th>position</th>\n",
              "      <th>q1</th>\n",
              "      <th>q2</th>\n",
              "      <th>q3</th>\n",
              "    </tr>\n",
              "  </thead>\n",
              "  <tbody>\n",
              "    <tr>\n",
              "      <th>0</th>\n",
              "      <td>1</td>\n",
              "      <td>18</td>\n",
              "      <td>1</td>\n",
              "      <td>1</td>\n",
              "      <td>22</td>\n",
              "      <td>1</td>\n",
              "      <td>1:26.572</td>\n",
              "      <td>1:25.187</td>\n",
              "      <td>1:26.714</td>\n",
              "    </tr>\n",
              "    <tr>\n",
              "      <th>1</th>\n",
              "      <td>2</td>\n",
              "      <td>18</td>\n",
              "      <td>9</td>\n",
              "      <td>2</td>\n",
              "      <td>4</td>\n",
              "      <td>2</td>\n",
              "      <td>1:26.103</td>\n",
              "      <td>1:25.315</td>\n",
              "      <td>1:26.869</td>\n",
              "    </tr>\n",
              "    <tr>\n",
              "      <th>2</th>\n",
              "      <td>3</td>\n",
              "      <td>18</td>\n",
              "      <td>5</td>\n",
              "      <td>1</td>\n",
              "      <td>23</td>\n",
              "      <td>3</td>\n",
              "      <td>1:25.664</td>\n",
              "      <td>1:25.452</td>\n",
              "      <td>1:27.079</td>\n",
              "    </tr>\n",
              "    <tr>\n",
              "      <th>3</th>\n",
              "      <td>4</td>\n",
              "      <td>18</td>\n",
              "      <td>13</td>\n",
              "      <td>6</td>\n",
              "      <td>2</td>\n",
              "      <td>4</td>\n",
              "      <td>1:25.994</td>\n",
              "      <td>1:25.691</td>\n",
              "      <td>1:27.178</td>\n",
              "    </tr>\n",
              "    <tr>\n",
              "      <th>4</th>\n",
              "      <td>5</td>\n",
              "      <td>18</td>\n",
              "      <td>2</td>\n",
              "      <td>2</td>\n",
              "      <td>3</td>\n",
              "      <td>5</td>\n",
              "      <td>1:25.960</td>\n",
              "      <td>1:25.518</td>\n",
              "      <td>1:27.236</td>\n",
              "    </tr>\n",
              "  </tbody>\n",
              "</table>\n",
              "</div>"
            ],
            "text/plain": [
              "   qualifyId  raceId  driverId  ...        q1        q2        q3\n",
              "0          1      18         1  ...  1:26.572  1:25.187  1:26.714\n",
              "1          2      18         9  ...  1:26.103  1:25.315  1:26.869\n",
              "2          3      18         5  ...  1:25.664  1:25.452  1:27.079\n",
              "3          4      18        13  ...  1:25.994  1:25.691  1:27.178\n",
              "4          5      18         2  ...  1:25.960  1:25.518  1:27.236\n",
              "\n",
              "[5 rows x 9 columns]"
            ]
          },
          "metadata": {
            "tags": []
          },
          "execution_count": 11
        }
      ]
    },
    {
      "cell_type": "code",
      "metadata": {
        "id": "XpAEVx7HYkNA",
        "outputId": "499972b9-36e4-4700-ce21-7ca19508229d",
        "colab": {
          "base_uri": "https://localhost:8080/",
          "height": 204
        }
      },
      "source": [
        "corridas.head()"
      ],
      "execution_count": null,
      "outputs": [
        {
          "output_type": "execute_result",
          "data": {
            "text/html": [
              "<div>\n",
              "<style scoped>\n",
              "    .dataframe tbody tr th:only-of-type {\n",
              "        vertical-align: middle;\n",
              "    }\n",
              "\n",
              "    .dataframe tbody tr th {\n",
              "        vertical-align: top;\n",
              "    }\n",
              "\n",
              "    .dataframe thead th {\n",
              "        text-align: right;\n",
              "    }\n",
              "</style>\n",
              "<table border=\"1\" class=\"dataframe\">\n",
              "  <thead>\n",
              "    <tr style=\"text-align: right;\">\n",
              "      <th></th>\n",
              "      <th>raceId</th>\n",
              "      <th>year</th>\n",
              "      <th>round</th>\n",
              "      <th>circuitId</th>\n",
              "      <th>name</th>\n",
              "      <th>date</th>\n",
              "      <th>time</th>\n",
              "      <th>url</th>\n",
              "    </tr>\n",
              "  </thead>\n",
              "  <tbody>\n",
              "    <tr>\n",
              "      <th>0</th>\n",
              "      <td>1</td>\n",
              "      <td>2009</td>\n",
              "      <td>1</td>\n",
              "      <td>1</td>\n",
              "      <td>Australian Grand Prix</td>\n",
              "      <td>2009-03-29</td>\n",
              "      <td>06:00:00</td>\n",
              "      <td>http://en.wikipedia.org/wiki/2009_Australian_G...</td>\n",
              "    </tr>\n",
              "    <tr>\n",
              "      <th>1</th>\n",
              "      <td>2</td>\n",
              "      <td>2009</td>\n",
              "      <td>2</td>\n",
              "      <td>2</td>\n",
              "      <td>Malaysian Grand Prix</td>\n",
              "      <td>2009-04-05</td>\n",
              "      <td>09:00:00</td>\n",
              "      <td>http://en.wikipedia.org/wiki/2009_Malaysian_Gr...</td>\n",
              "    </tr>\n",
              "    <tr>\n",
              "      <th>2</th>\n",
              "      <td>3</td>\n",
              "      <td>2009</td>\n",
              "      <td>3</td>\n",
              "      <td>17</td>\n",
              "      <td>Chinese Grand Prix</td>\n",
              "      <td>2009-04-19</td>\n",
              "      <td>07:00:00</td>\n",
              "      <td>http://en.wikipedia.org/wiki/2009_Chinese_Gran...</td>\n",
              "    </tr>\n",
              "    <tr>\n",
              "      <th>3</th>\n",
              "      <td>4</td>\n",
              "      <td>2009</td>\n",
              "      <td>4</td>\n",
              "      <td>3</td>\n",
              "      <td>Bahrain Grand Prix</td>\n",
              "      <td>2009-04-26</td>\n",
              "      <td>12:00:00</td>\n",
              "      <td>http://en.wikipedia.org/wiki/2009_Bahrain_Gran...</td>\n",
              "    </tr>\n",
              "    <tr>\n",
              "      <th>4</th>\n",
              "      <td>5</td>\n",
              "      <td>2009</td>\n",
              "      <td>5</td>\n",
              "      <td>4</td>\n",
              "      <td>Spanish Grand Prix</td>\n",
              "      <td>2009-05-10</td>\n",
              "      <td>12:00:00</td>\n",
              "      <td>http://en.wikipedia.org/wiki/2009_Spanish_Gran...</td>\n",
              "    </tr>\n",
              "  </tbody>\n",
              "</table>\n",
              "</div>"
            ],
            "text/plain": [
              "   raceId  year  ...      time                                                url\n",
              "0       1  2009  ...  06:00:00  http://en.wikipedia.org/wiki/2009_Australian_G...\n",
              "1       2  2009  ...  09:00:00  http://en.wikipedia.org/wiki/2009_Malaysian_Gr...\n",
              "2       3  2009  ...  07:00:00  http://en.wikipedia.org/wiki/2009_Chinese_Gran...\n",
              "3       4  2009  ...  12:00:00  http://en.wikipedia.org/wiki/2009_Bahrain_Gran...\n",
              "4       5  2009  ...  12:00:00  http://en.wikipedia.org/wiki/2009_Spanish_Gran...\n",
              "\n",
              "[5 rows x 8 columns]"
            ]
          },
          "metadata": {
            "tags": []
          },
          "execution_count": 12
        }
      ]
    },
    {
      "cell_type": "code",
      "metadata": {
        "id": "0qekKvbnYnA2",
        "outputId": "0b1fba46-ca76-48df-c14e-979592337452",
        "colab": {
          "base_uri": "https://localhost:8080/",
          "height": 224
        }
      },
      "source": [
        "resultados.head()"
      ],
      "execution_count": null,
      "outputs": [
        {
          "output_type": "execute_result",
          "data": {
            "text/html": [
              "<div>\n",
              "<style scoped>\n",
              "    .dataframe tbody tr th:only-of-type {\n",
              "        vertical-align: middle;\n",
              "    }\n",
              "\n",
              "    .dataframe tbody tr th {\n",
              "        vertical-align: top;\n",
              "    }\n",
              "\n",
              "    .dataframe thead th {\n",
              "        text-align: right;\n",
              "    }\n",
              "</style>\n",
              "<table border=\"1\" class=\"dataframe\">\n",
              "  <thead>\n",
              "    <tr style=\"text-align: right;\">\n",
              "      <th></th>\n",
              "      <th>resultId</th>\n",
              "      <th>raceId</th>\n",
              "      <th>driverId</th>\n",
              "      <th>constructorId</th>\n",
              "      <th>number</th>\n",
              "      <th>grid</th>\n",
              "      <th>position</th>\n",
              "      <th>positionText</th>\n",
              "      <th>positionOrder</th>\n",
              "      <th>points</th>\n",
              "      <th>laps</th>\n",
              "      <th>time</th>\n",
              "      <th>milliseconds</th>\n",
              "      <th>fastestLap</th>\n",
              "      <th>rank</th>\n",
              "      <th>fastestLapTime</th>\n",
              "      <th>fastestLapSpeed</th>\n",
              "      <th>statusId</th>\n",
              "    </tr>\n",
              "  </thead>\n",
              "  <tbody>\n",
              "    <tr>\n",
              "      <th>0</th>\n",
              "      <td>1</td>\n",
              "      <td>18</td>\n",
              "      <td>1</td>\n",
              "      <td>1</td>\n",
              "      <td>22.0</td>\n",
              "      <td>1</td>\n",
              "      <td>1.0</td>\n",
              "      <td>1</td>\n",
              "      <td>1</td>\n",
              "      <td>10.0</td>\n",
              "      <td>58</td>\n",
              "      <td>34:50.6</td>\n",
              "      <td>5690616.0</td>\n",
              "      <td>39.0</td>\n",
              "      <td>2.0</td>\n",
              "      <td>01:27.5</td>\n",
              "      <td>218.3</td>\n",
              "      <td>1</td>\n",
              "    </tr>\n",
              "    <tr>\n",
              "      <th>1</th>\n",
              "      <td>2</td>\n",
              "      <td>18</td>\n",
              "      <td>2</td>\n",
              "      <td>2</td>\n",
              "      <td>3.0</td>\n",
              "      <td>5</td>\n",
              "      <td>2.0</td>\n",
              "      <td>2</td>\n",
              "      <td>2</td>\n",
              "      <td>8.0</td>\n",
              "      <td>58</td>\n",
              "      <td>5.478</td>\n",
              "      <td>5696094.0</td>\n",
              "      <td>41.0</td>\n",
              "      <td>3.0</td>\n",
              "      <td>01:27.7</td>\n",
              "      <td>217.586</td>\n",
              "      <td>1</td>\n",
              "    </tr>\n",
              "    <tr>\n",
              "      <th>2</th>\n",
              "      <td>3</td>\n",
              "      <td>18</td>\n",
              "      <td>3</td>\n",
              "      <td>3</td>\n",
              "      <td>7.0</td>\n",
              "      <td>7</td>\n",
              "      <td>3.0</td>\n",
              "      <td>3</td>\n",
              "      <td>3</td>\n",
              "      <td>6.0</td>\n",
              "      <td>58</td>\n",
              "      <td>8.163</td>\n",
              "      <td>5698779.0</td>\n",
              "      <td>41.0</td>\n",
              "      <td>5.0</td>\n",
              "      <td>01:28.1</td>\n",
              "      <td>216.719</td>\n",
              "      <td>1</td>\n",
              "    </tr>\n",
              "    <tr>\n",
              "      <th>3</th>\n",
              "      <td>4</td>\n",
              "      <td>18</td>\n",
              "      <td>4</td>\n",
              "      <td>4</td>\n",
              "      <td>5.0</td>\n",
              "      <td>11</td>\n",
              "      <td>4.0</td>\n",
              "      <td>4</td>\n",
              "      <td>4</td>\n",
              "      <td>5.0</td>\n",
              "      <td>58</td>\n",
              "      <td>17.181</td>\n",
              "      <td>5707797.0</td>\n",
              "      <td>58.0</td>\n",
              "      <td>7.0</td>\n",
              "      <td>01:28.6</td>\n",
              "      <td>215.464</td>\n",
              "      <td>1</td>\n",
              "    </tr>\n",
              "    <tr>\n",
              "      <th>4</th>\n",
              "      <td>5</td>\n",
              "      <td>18</td>\n",
              "      <td>5</td>\n",
              "      <td>1</td>\n",
              "      <td>23.0</td>\n",
              "      <td>3</td>\n",
              "      <td>5.0</td>\n",
              "      <td>5</td>\n",
              "      <td>5</td>\n",
              "      <td>4.0</td>\n",
              "      <td>58</td>\n",
              "      <td>18.014</td>\n",
              "      <td>5708630.0</td>\n",
              "      <td>43.0</td>\n",
              "      <td>1.0</td>\n",
              "      <td>01:27.4</td>\n",
              "      <td>218.385</td>\n",
              "      <td>1</td>\n",
              "    </tr>\n",
              "  </tbody>\n",
              "</table>\n",
              "</div>"
            ],
            "text/plain": [
              "   resultId  raceId  driverId  ...  fastestLapTime  fastestLapSpeed  statusId\n",
              "0         1      18         1  ...         01:27.5            218.3         1\n",
              "1         2      18         2  ...         01:27.7          217.586         1\n",
              "2         3      18         3  ...         01:28.1          216.719         1\n",
              "3         4      18         4  ...         01:28.6          215.464         1\n",
              "4         5      18         5  ...         01:27.4          218.385         1\n",
              "\n",
              "[5 rows x 18 columns]"
            ]
          },
          "metadata": {
            "tags": []
          },
          "execution_count": 13
        }
      ]
    },
    {
      "cell_type": "code",
      "metadata": {
        "id": "-S4E4n2KYo6a",
        "outputId": "6f1db269-6cd2-4f41-c59d-798f5ac80a36",
        "colab": {
          "base_uri": "https://localhost:8080/",
          "height": 204
        }
      },
      "source": [
        "temporadas.head()"
      ],
      "execution_count": null,
      "outputs": [
        {
          "output_type": "execute_result",
          "data": {
            "text/html": [
              "<div>\n",
              "<style scoped>\n",
              "    .dataframe tbody tr th:only-of-type {\n",
              "        vertical-align: middle;\n",
              "    }\n",
              "\n",
              "    .dataframe tbody tr th {\n",
              "        vertical-align: top;\n",
              "    }\n",
              "\n",
              "    .dataframe thead th {\n",
              "        text-align: right;\n",
              "    }\n",
              "</style>\n",
              "<table border=\"1\" class=\"dataframe\">\n",
              "  <thead>\n",
              "    <tr style=\"text-align: right;\">\n",
              "      <th></th>\n",
              "      <th>year</th>\n",
              "      <th>url</th>\n",
              "    </tr>\n",
              "  </thead>\n",
              "  <tbody>\n",
              "    <tr>\n",
              "      <th>0</th>\n",
              "      <td>2009</td>\n",
              "      <td>http://en.wikipedia.org/wiki/2009_Formula_One_...</td>\n",
              "    </tr>\n",
              "    <tr>\n",
              "      <th>1</th>\n",
              "      <td>2008</td>\n",
              "      <td>http://en.wikipedia.org/wiki/2008_Formula_One_...</td>\n",
              "    </tr>\n",
              "    <tr>\n",
              "      <th>2</th>\n",
              "      <td>2007</td>\n",
              "      <td>http://en.wikipedia.org/wiki/2007_Formula_One_...</td>\n",
              "    </tr>\n",
              "    <tr>\n",
              "      <th>3</th>\n",
              "      <td>2006</td>\n",
              "      <td>http://en.wikipedia.org/wiki/2006_Formula_One_...</td>\n",
              "    </tr>\n",
              "    <tr>\n",
              "      <th>4</th>\n",
              "      <td>2005</td>\n",
              "      <td>http://en.wikipedia.org/wiki/2005_Formula_One_...</td>\n",
              "    </tr>\n",
              "  </tbody>\n",
              "</table>\n",
              "</div>"
            ],
            "text/plain": [
              "   year                                                url\n",
              "0  2009  http://en.wikipedia.org/wiki/2009_Formula_One_...\n",
              "1  2008  http://en.wikipedia.org/wiki/2008_Formula_One_...\n",
              "2  2007  http://en.wikipedia.org/wiki/2007_Formula_One_...\n",
              "3  2006  http://en.wikipedia.org/wiki/2006_Formula_One_...\n",
              "4  2005  http://en.wikipedia.org/wiki/2005_Formula_One_..."
            ]
          },
          "metadata": {
            "tags": []
          },
          "execution_count": 14
        }
      ]
    },
    {
      "cell_type": "code",
      "metadata": {
        "id": "Wgc-Q-g1dR89",
        "outputId": "9984daa1-8841-49b7-b2f8-2cd5a50f1510",
        "colab": {
          "base_uri": "https://localhost:8080/",
          "height": 638
        }
      },
      "source": [
        "#apenas para verificar algumas consultas\n",
        "races_by_year = pd.merge(corridas,temporadas, on='year', how = 'inner')\n",
        "races_by_year[races_by_year['year'] == 2010]"
      ],
      "execution_count": null,
      "outputs": [
        {
          "output_type": "execute_result",
          "data": {
            "text/html": [
              "<div>\n",
              "<style scoped>\n",
              "    .dataframe tbody tr th:only-of-type {\n",
              "        vertical-align: middle;\n",
              "    }\n",
              "\n",
              "    .dataframe tbody tr th {\n",
              "        vertical-align: top;\n",
              "    }\n",
              "\n",
              "    .dataframe thead th {\n",
              "        text-align: right;\n",
              "    }\n",
              "</style>\n",
              "<table border=\"1\" class=\"dataframe\">\n",
              "  <thead>\n",
              "    <tr style=\"text-align: right;\">\n",
              "      <th></th>\n",
              "      <th>raceId</th>\n",
              "      <th>year</th>\n",
              "      <th>round</th>\n",
              "      <th>circuitId</th>\n",
              "      <th>name</th>\n",
              "      <th>date</th>\n",
              "      <th>time</th>\n",
              "      <th>url_x</th>\n",
              "      <th>url_y</th>\n",
              "    </tr>\n",
              "  </thead>\n",
              "  <tbody>\n",
              "    <tr>\n",
              "      <th>336</th>\n",
              "      <td>337</td>\n",
              "      <td>2010</td>\n",
              "      <td>1</td>\n",
              "      <td>3</td>\n",
              "      <td>Bahrain Grand Prix</td>\n",
              "      <td>2010-03-14</td>\n",
              "      <td>12:00:00</td>\n",
              "      <td>http://en.wikipedia.org/wiki/2010_Bahrain_Gran...</td>\n",
              "      <td>http://en.wikipedia.org/wiki/2010_Formula_One_...</td>\n",
              "    </tr>\n",
              "    <tr>\n",
              "      <th>337</th>\n",
              "      <td>338</td>\n",
              "      <td>2010</td>\n",
              "      <td>2</td>\n",
              "      <td>1</td>\n",
              "      <td>Australian Grand Prix</td>\n",
              "      <td>2010-03-28</td>\n",
              "      <td>06:00:00</td>\n",
              "      <td>http://en.wikipedia.org/wiki/2010_Australian_G...</td>\n",
              "      <td>http://en.wikipedia.org/wiki/2010_Formula_One_...</td>\n",
              "    </tr>\n",
              "    <tr>\n",
              "      <th>338</th>\n",
              "      <td>339</td>\n",
              "      <td>2010</td>\n",
              "      <td>3</td>\n",
              "      <td>2</td>\n",
              "      <td>Malaysian Grand Prix</td>\n",
              "      <td>2010-04-04</td>\n",
              "      <td>08:00:00</td>\n",
              "      <td>http://en.wikipedia.org/wiki/2010_Malaysian_Gr...</td>\n",
              "      <td>http://en.wikipedia.org/wiki/2010_Formula_One_...</td>\n",
              "    </tr>\n",
              "    <tr>\n",
              "      <th>339</th>\n",
              "      <td>340</td>\n",
              "      <td>2010</td>\n",
              "      <td>4</td>\n",
              "      <td>17</td>\n",
              "      <td>Chinese Grand Prix</td>\n",
              "      <td>2010-04-18</td>\n",
              "      <td>06:00:00</td>\n",
              "      <td>http://en.wikipedia.org/wiki/2010_Chinese_Gran...</td>\n",
              "      <td>http://en.wikipedia.org/wiki/2010_Formula_One_...</td>\n",
              "    </tr>\n",
              "    <tr>\n",
              "      <th>340</th>\n",
              "      <td>341</td>\n",
              "      <td>2010</td>\n",
              "      <td>5</td>\n",
              "      <td>4</td>\n",
              "      <td>Spanish Grand Prix</td>\n",
              "      <td>2010-05-09</td>\n",
              "      <td>12:00:00</td>\n",
              "      <td>http://en.wikipedia.org/wiki/2010_Spanish_Gran...</td>\n",
              "      <td>http://en.wikipedia.org/wiki/2010_Formula_One_...</td>\n",
              "    </tr>\n",
              "    <tr>\n",
              "      <th>341</th>\n",
              "      <td>342</td>\n",
              "      <td>2010</td>\n",
              "      <td>6</td>\n",
              "      <td>6</td>\n",
              "      <td>Monaco Grand Prix</td>\n",
              "      <td>2010-05-16</td>\n",
              "      <td>12:00:00</td>\n",
              "      <td>http://en.wikipedia.org/wiki/2010_Monaco_Grand...</td>\n",
              "      <td>http://en.wikipedia.org/wiki/2010_Formula_One_...</td>\n",
              "    </tr>\n",
              "    <tr>\n",
              "      <th>342</th>\n",
              "      <td>343</td>\n",
              "      <td>2010</td>\n",
              "      <td>7</td>\n",
              "      <td>5</td>\n",
              "      <td>Turkish Grand Prix</td>\n",
              "      <td>2010-05-30</td>\n",
              "      <td>11:00:00</td>\n",
              "      <td>http://en.wikipedia.org/wiki/2010_Turkish_Gran...</td>\n",
              "      <td>http://en.wikipedia.org/wiki/2010_Formula_One_...</td>\n",
              "    </tr>\n",
              "    <tr>\n",
              "      <th>343</th>\n",
              "      <td>344</td>\n",
              "      <td>2010</td>\n",
              "      <td>8</td>\n",
              "      <td>7</td>\n",
              "      <td>Canadian Grand Prix</td>\n",
              "      <td>2010-06-13</td>\n",
              "      <td>16:00:00</td>\n",
              "      <td>http://en.wikipedia.org/wiki/2010_Canadian_Gra...</td>\n",
              "      <td>http://en.wikipedia.org/wiki/2010_Formula_One_...</td>\n",
              "    </tr>\n",
              "    <tr>\n",
              "      <th>344</th>\n",
              "      <td>345</td>\n",
              "      <td>2010</td>\n",
              "      <td>9</td>\n",
              "      <td>12</td>\n",
              "      <td>European Grand Prix</td>\n",
              "      <td>2010-06-27</td>\n",
              "      <td>12:00:00</td>\n",
              "      <td>http://en.wikipedia.org/wiki/2010_European_Gra...</td>\n",
              "      <td>http://en.wikipedia.org/wiki/2010_Formula_One_...</td>\n",
              "    </tr>\n",
              "    <tr>\n",
              "      <th>345</th>\n",
              "      <td>346</td>\n",
              "      <td>2010</td>\n",
              "      <td>10</td>\n",
              "      <td>9</td>\n",
              "      <td>British Grand Prix</td>\n",
              "      <td>2010-07-11</td>\n",
              "      <td>12:00:00</td>\n",
              "      <td>http://en.wikipedia.org/wiki/2010_British_Gran...</td>\n",
              "      <td>http://en.wikipedia.org/wiki/2010_Formula_One_...</td>\n",
              "    </tr>\n",
              "    <tr>\n",
              "      <th>346</th>\n",
              "      <td>347</td>\n",
              "      <td>2010</td>\n",
              "      <td>11</td>\n",
              "      <td>10</td>\n",
              "      <td>German Grand Prix</td>\n",
              "      <td>2010-07-25</td>\n",
              "      <td>12:00:00</td>\n",
              "      <td>http://en.wikipedia.org/wiki/2010_German_Grand...</td>\n",
              "      <td>http://en.wikipedia.org/wiki/2010_Formula_One_...</td>\n",
              "    </tr>\n",
              "    <tr>\n",
              "      <th>347</th>\n",
              "      <td>348</td>\n",
              "      <td>2010</td>\n",
              "      <td>12</td>\n",
              "      <td>11</td>\n",
              "      <td>Hungarian Grand Prix</td>\n",
              "      <td>2010-08-01</td>\n",
              "      <td>12:00:00</td>\n",
              "      <td>http://en.wikipedia.org/wiki/2010_Hungarian_Gr...</td>\n",
              "      <td>http://en.wikipedia.org/wiki/2010_Formula_One_...</td>\n",
              "    </tr>\n",
              "    <tr>\n",
              "      <th>348</th>\n",
              "      <td>349</td>\n",
              "      <td>2010</td>\n",
              "      <td>13</td>\n",
              "      <td>13</td>\n",
              "      <td>Belgian Grand Prix</td>\n",
              "      <td>2010-08-29</td>\n",
              "      <td>12:00:00</td>\n",
              "      <td>http://en.wikipedia.org/wiki/2010_Belgian_Gran...</td>\n",
              "      <td>http://en.wikipedia.org/wiki/2010_Formula_One_...</td>\n",
              "    </tr>\n",
              "    <tr>\n",
              "      <th>349</th>\n",
              "      <td>350</td>\n",
              "      <td>2010</td>\n",
              "      <td>14</td>\n",
              "      <td>14</td>\n",
              "      <td>Italian Grand Prix</td>\n",
              "      <td>2010-09-12</td>\n",
              "      <td>12:00:00</td>\n",
              "      <td>http://en.wikipedia.org/wiki/2010_Italian_Gran...</td>\n",
              "      <td>http://en.wikipedia.org/wiki/2010_Formula_One_...</td>\n",
              "    </tr>\n",
              "    <tr>\n",
              "      <th>350</th>\n",
              "      <td>351</td>\n",
              "      <td>2010</td>\n",
              "      <td>15</td>\n",
              "      <td>15</td>\n",
              "      <td>Singapore Grand Prix</td>\n",
              "      <td>2010-09-26</td>\n",
              "      <td>12:00:00</td>\n",
              "      <td>http://en.wikipedia.org/wiki/2010_Singapore_Gr...</td>\n",
              "      <td>http://en.wikipedia.org/wiki/2010_Formula_One_...</td>\n",
              "    </tr>\n",
              "    <tr>\n",
              "      <th>351</th>\n",
              "      <td>352</td>\n",
              "      <td>2010</td>\n",
              "      <td>16</td>\n",
              "      <td>22</td>\n",
              "      <td>Japanese Grand Prix</td>\n",
              "      <td>2010-10-10</td>\n",
              "      <td>06:00:00</td>\n",
              "      <td>http://en.wikipedia.org/wiki/2010_Japanese_Gra...</td>\n",
              "      <td>http://en.wikipedia.org/wiki/2010_Formula_One_...</td>\n",
              "    </tr>\n",
              "    <tr>\n",
              "      <th>352</th>\n",
              "      <td>353</td>\n",
              "      <td>2010</td>\n",
              "      <td>17</td>\n",
              "      <td>35</td>\n",
              "      <td>Korean Grand Prix</td>\n",
              "      <td>2010-10-24</td>\n",
              "      <td>05:00:00</td>\n",
              "      <td>http://en.wikipedia.org/wiki/2010_Korean_Grand...</td>\n",
              "      <td>http://en.wikipedia.org/wiki/2010_Formula_One_...</td>\n",
              "    </tr>\n",
              "    <tr>\n",
              "      <th>353</th>\n",
              "      <td>354</td>\n",
              "      <td>2010</td>\n",
              "      <td>18</td>\n",
              "      <td>18</td>\n",
              "      <td>Brazilian Grand Prix</td>\n",
              "      <td>2010-11-07</td>\n",
              "      <td>16:00:00</td>\n",
              "      <td>http://en.wikipedia.org/wiki/2010_Brazilian_Gr...</td>\n",
              "      <td>http://en.wikipedia.org/wiki/2010_Formula_One_...</td>\n",
              "    </tr>\n",
              "    <tr>\n",
              "      <th>354</th>\n",
              "      <td>355</td>\n",
              "      <td>2010</td>\n",
              "      <td>19</td>\n",
              "      <td>24</td>\n",
              "      <td>Abu Dhabi Grand Prix</td>\n",
              "      <td>2010-11-14</td>\n",
              "      <td>13:00:00</td>\n",
              "      <td>http://en.wikipedia.org/wiki/2010_Abu_Dhabi_Gr...</td>\n",
              "      <td>http://en.wikipedia.org/wiki/2010_Formula_One_...</td>\n",
              "    </tr>\n",
              "  </tbody>\n",
              "</table>\n",
              "</div>"
            ],
            "text/plain": [
              "     raceId  ...                                              url_y\n",
              "336     337  ...  http://en.wikipedia.org/wiki/2010_Formula_One_...\n",
              "337     338  ...  http://en.wikipedia.org/wiki/2010_Formula_One_...\n",
              "338     339  ...  http://en.wikipedia.org/wiki/2010_Formula_One_...\n",
              "339     340  ...  http://en.wikipedia.org/wiki/2010_Formula_One_...\n",
              "340     341  ...  http://en.wikipedia.org/wiki/2010_Formula_One_...\n",
              "341     342  ...  http://en.wikipedia.org/wiki/2010_Formula_One_...\n",
              "342     343  ...  http://en.wikipedia.org/wiki/2010_Formula_One_...\n",
              "343     344  ...  http://en.wikipedia.org/wiki/2010_Formula_One_...\n",
              "344     345  ...  http://en.wikipedia.org/wiki/2010_Formula_One_...\n",
              "345     346  ...  http://en.wikipedia.org/wiki/2010_Formula_One_...\n",
              "346     347  ...  http://en.wikipedia.org/wiki/2010_Formula_One_...\n",
              "347     348  ...  http://en.wikipedia.org/wiki/2010_Formula_One_...\n",
              "348     349  ...  http://en.wikipedia.org/wiki/2010_Formula_One_...\n",
              "349     350  ...  http://en.wikipedia.org/wiki/2010_Formula_One_...\n",
              "350     351  ...  http://en.wikipedia.org/wiki/2010_Formula_One_...\n",
              "351     352  ...  http://en.wikipedia.org/wiki/2010_Formula_One_...\n",
              "352     353  ...  http://en.wikipedia.org/wiki/2010_Formula_One_...\n",
              "353     354  ...  http://en.wikipedia.org/wiki/2010_Formula_One_...\n",
              "354     355  ...  http://en.wikipedia.org/wiki/2010_Formula_One_...\n",
              "\n",
              "[19 rows x 9 columns]"
            ]
          },
          "metadata": {
            "tags": []
          },
          "execution_count": 15
        }
      ]
    },
    {
      "cell_type": "code",
      "metadata": {
        "id": "HadyZ4uToqkw",
        "outputId": "01d923e1-c9b9-4bc5-cc01-f695d75251c6",
        "colab": {
          "base_uri": "https://localhost:8080/",
          "height": 697
        }
      },
      "source": [
        "resultados['positionText'].value_counts()"
      ],
      "execution_count": null,
      "outputs": [
        {
          "output_type": "execute_result",
          "data": {
            "text/plain": [
              "R     8517\n",
              "F     1368\n",
              "4      986\n",
              "3      986\n",
              "2      984\n",
              "5      982\n",
              "1      979\n",
              "6      975\n",
              "7      955\n",
              "8      927\n",
              "9      889\n",
              "10     829\n",
              "11     752\n",
              "12     651\n",
              "13     565\n",
              "14     461\n",
              "15     391\n",
              "W      323\n",
              "16     310\n",
              "17     226\n",
              "N      190\n",
              "18     149\n",
              "D      141\n",
              "19     101\n",
              "20      58\n",
              "21      34\n",
              "22      19\n",
              "E        9\n",
              "23       8\n",
              "24       3\n",
              "31       1\n",
              "28       1\n",
              "32       1\n",
              "27       1\n",
              "26       1\n",
              "25       1\n",
              "30       1\n",
              "29       1\n",
              "33       1\n",
              "Name: positionText, dtype: int64"
            ]
          },
          "metadata": {
            "tags": []
          },
          "execution_count": 16
        }
      ]
    },
    {
      "cell_type": "code",
      "metadata": {
        "id": "7VbG5hGgqXAK",
        "outputId": "2aa86192-427b-45da-a8c4-07b2daa7fd4e",
        "colab": {
          "base_uri": "https://localhost:8080/",
          "height": 34
        }
      },
      "source": [
        "resultados.shape"
      ],
      "execution_count": null,
      "outputs": [
        {
          "output_type": "execute_result",
          "data": {
            "text/plain": [
              "(23777, 18)"
            ]
          },
          "metadata": {
            "tags": []
          },
          "execution_count": 17
        }
      ]
    },
    {
      "cell_type": "code",
      "metadata": {
        "id": "ssYFZuIjqcHo",
        "outputId": "0aca2675-9bc3-46d7-96c9-a631cf050f58",
        "colab": {
          "base_uri": "https://localhost:8080/",
          "height": 34
        }
      },
      "source": [
        "circuitos.shape"
      ],
      "execution_count": null,
      "outputs": [
        {
          "output_type": "execute_result",
          "data": {
            "text/plain": [
              "(73, 9)"
            ]
          },
          "metadata": {
            "tags": []
          },
          "execution_count": 18
        }
      ]
    },
    {
      "cell_type": "code",
      "metadata": {
        "id": "N6wZny-PqfUf",
        "outputId": "1924a1e2-c9ae-42a4-82c2-09f751f20ee1",
        "colab": {
          "base_uri": "https://localhost:8080/",
          "height": 34
        }
      },
      "source": [
        "pilotos.shape"
      ],
      "execution_count": null,
      "outputs": [
        {
          "output_type": "execute_result",
          "data": {
            "text/plain": [
              "(842, 9)"
            ]
          },
          "metadata": {
            "tags": []
          },
          "execution_count": 19
        }
      ]
    },
    {
      "cell_type": "code",
      "metadata": {
        "id": "gu6S2x0Vqi-j",
        "outputId": "cf87c2b8-1a8f-4b4a-951d-f668d44a256d",
        "colab": {
          "base_uri": "https://localhost:8080/",
          "height": 34
        }
      },
      "source": [
        "equipes.shape"
      ],
      "execution_count": null,
      "outputs": [
        {
          "output_type": "execute_result",
          "data": {
            "text/plain": [
              "(208, 6)"
            ]
          },
          "metadata": {
            "tags": []
          },
          "execution_count": 20
        }
      ]
    },
    {
      "cell_type": "code",
      "metadata": {
        "id": "chfxjrL6vDZz",
        "outputId": "a4e6095d-ea4d-4dbe-9957-91ab606b7297",
        "colab": {
          "base_uri": "https://localhost:8080/",
          "height": 34
        }
      },
      "source": [
        "corridas.shape"
      ],
      "execution_count": null,
      "outputs": [
        {
          "output_type": "execute_result",
          "data": {
            "text/plain": [
              "(997, 8)"
            ]
          },
          "metadata": {
            "tags": []
          },
          "execution_count": 21
        }
      ]
    },
    {
      "cell_type": "code",
      "metadata": {
        "id": "vSeE584oVnBJ",
        "outputId": "627c925b-0cf7-4671-c436-5906891ef3ea",
        "colab": {
          "base_uri": "https://localhost:8080/",
          "height": 340
        }
      },
      "source": [
        "resultados.dtypes"
      ],
      "execution_count": null,
      "outputs": [
        {
          "output_type": "execute_result",
          "data": {
            "text/plain": [
              "resultId             int64\n",
              "raceId               int64\n",
              "driverId             int64\n",
              "constructorId        int64\n",
              "number             float64\n",
              "grid                 int64\n",
              "position           float64\n",
              "positionText        object\n",
              "positionOrder        int64\n",
              "points             float64\n",
              "laps                 int64\n",
              "time                object\n",
              "milliseconds       float64\n",
              "fastestLap         float64\n",
              "rank               float64\n",
              "fastestLapTime      object\n",
              "fastestLapSpeed     object\n",
              "statusId             int64\n",
              "dtype: object"
            ]
          },
          "metadata": {
            "tags": []
          },
          "execution_count": 22
        }
      ]
    },
    {
      "cell_type": "code",
      "metadata": {
        "id": "_NFAcoCCtW0M",
        "outputId": "55238d9a-98ef-4cd3-e205-7d09fdb50ed8",
        "colab": {
          "base_uri": "https://localhost:8080/",
          "height": 136
        }
      },
      "source": [
        "equipes.dtypes"
      ],
      "execution_count": null,
      "outputs": [
        {
          "output_type": "execute_result",
          "data": {
            "text/plain": [
              "constructorId       int64\n",
              "constructorRef     object\n",
              "name               object\n",
              "nationality        object\n",
              "url                object\n",
              "Unnamed: 5        float64\n",
              "dtype: object"
            ]
          },
          "metadata": {
            "tags": []
          },
          "execution_count": 23
        }
      ]
    },
    {
      "cell_type": "code",
      "metadata": {
        "id": "HJWWfX45tZu_",
        "outputId": "205544d2-00f7-4537-9e67-7df479ef1fef",
        "colab": {
          "base_uri": "https://localhost:8080/",
          "height": 187
        }
      },
      "source": [
        "circuitos.dtypes"
      ],
      "execution_count": null,
      "outputs": [
        {
          "output_type": "execute_result",
          "data": {
            "text/plain": [
              "circuitId       int64\n",
              "circuitRef     object\n",
              "name           object\n",
              "location       object\n",
              "country        object\n",
              "lat           float64\n",
              "lng           float64\n",
              "alt           float64\n",
              "url            object\n",
              "dtype: object"
            ]
          },
          "metadata": {
            "tags": []
          },
          "execution_count": 24
        }
      ]
    },
    {
      "cell_type": "code",
      "metadata": {
        "id": "cGlxLir5u4A5",
        "outputId": "a923a96d-3cd6-48e2-bfc6-f7dcb2823c9c",
        "colab": {
          "base_uri": "https://localhost:8080/",
          "height": 187
        }
      },
      "source": [
        "pilotos.dtypes"
      ],
      "execution_count": null,
      "outputs": [
        {
          "output_type": "execute_result",
          "data": {
            "text/plain": [
              "driverId         int64\n",
              "driverRef       object\n",
              "number         float64\n",
              "code            object\n",
              "forename        object\n",
              "surname         object\n",
              "dob             object\n",
              "nationality     object\n",
              "url             object\n",
              "dtype: object"
            ]
          },
          "metadata": {
            "tags": []
          },
          "execution_count": 25
        }
      ]
    },
    {
      "cell_type": "code",
      "metadata": {
        "id": "h9-jylL-u6aE",
        "outputId": "47d97682-4453-4d0b-a5ab-484c6b05132d",
        "colab": {
          "base_uri": "https://localhost:8080/",
          "height": 170
        }
      },
      "source": [
        "corridas.dtypes"
      ],
      "execution_count": null,
      "outputs": [
        {
          "output_type": "execute_result",
          "data": {
            "text/plain": [
              "raceId        int64\n",
              "year          int64\n",
              "round         int64\n",
              "circuitId     int64\n",
              "name         object\n",
              "date         object\n",
              "time         object\n",
              "url          object\n",
              "dtype: object"
            ]
          },
          "metadata": {
            "tags": []
          },
          "execution_count": 26
        }
      ]
    },
    {
      "cell_type": "code",
      "metadata": {
        "id": "m9wAycCno9Pn",
        "outputId": "6f879dd7-ee7d-4c82-a42d-610a7055de3e",
        "colab": {
          "base_uri": "https://localhost:8080/",
          "height": 340
        }
      },
      "source": [
        "resultados.isna().sum()"
      ],
      "execution_count": null,
      "outputs": [
        {
          "output_type": "execute_result",
          "data": {
            "text/plain": [
              "resultId               0\n",
              "raceId                 0\n",
              "driverId               0\n",
              "constructorId          0\n",
              "number                 6\n",
              "grid                   0\n",
              "position           10550\n",
              "positionText           0\n",
              "positionOrder          0\n",
              "points                 0\n",
              "laps                   0\n",
              "time               17773\n",
              "milliseconds       17774\n",
              "fastestLap         18394\n",
              "rank               18246\n",
              "fastestLapTime     18394\n",
              "fastestLapSpeed    18394\n",
              "statusId               0\n",
              "dtype: int64"
            ]
          },
          "metadata": {
            "tags": []
          },
          "execution_count": 27
        }
      ]
    },
    {
      "cell_type": "code",
      "metadata": {
        "id": "FEOP1tW-qZX6",
        "outputId": "da99edf4-358d-4fc5-a6bc-e9b7ab7e5a18",
        "colab": {
          "base_uri": "https://localhost:8080/",
          "height": 187
        }
      },
      "source": [
        "circuitos.isnull().sum()"
      ],
      "execution_count": null,
      "outputs": [
        {
          "output_type": "execute_result",
          "data": {
            "text/plain": [
              "circuitId      0\n",
              "circuitRef     0\n",
              "name           0\n",
              "location       0\n",
              "country        0\n",
              "lat            0\n",
              "lng            0\n",
              "alt           72\n",
              "url            0\n",
              "dtype: int64"
            ]
          },
          "metadata": {
            "tags": []
          },
          "execution_count": 28
        }
      ]
    },
    {
      "cell_type": "markdown",
      "metadata": {
        "id": "3lJxrDCmZOEE"
      },
      "source": [
        "## **Agora vamos ao pré-processamento de fato**\n",
        "\n",
        "Vimos todas as tabelas dos nossos dados e seus atributos, vamos unir em um único dataframe para que possa facilitar nossa vida na hora das análises.\n",
        "\n",
        "Primeiro vamos remover dados que julgamos que não são necessários ou que não farão parte na nossa análise, bem como renomear alguns para maior entendimento do escopo."
      ]
    },
    {
      "cell_type": "code",
      "metadata": {
        "id": "YMEwZkwih-Wa"
      },
      "source": [
        "resultados.drop(columns = ['rank', 'positionOrder'], inplace = True)\n",
        "\n",
        "equipes.drop(columns = ['nationality', 'url', 'Unnamed: 5'], inplace = True)\n",
        "equipes.rename(columns = {'name': 'constructorName'}, inplace = True)\n",
        "\n",
        "corridas.drop(columns = ['time', 'url'], inplace = True)\n",
        "corridas.rename(columns = {'name': 'raceName', 'date': 'raceDate'}, inplace = True)\n",
        "\n",
        "circuitos.drop(columns = ['lat', 'lng', 'alt', 'url'], inplace = True)\n",
        "circuitos.rename(columns = {'name': 'circuitName'}, inplace = True)\n",
        "\n",
        "pilotos.drop(columns = ['number', 'code', 'url'], inplace = True)"
      ],
      "execution_count": null,
      "outputs": []
    },
    {
      "cell_type": "markdown",
      "metadata": {
        "id": "84C6T2exv4Y2"
      },
      "source": [
        "unindo todos os os dataframes utilizados em um úni dataframe"
      ]
    },
    {
      "cell_type": "code",
      "metadata": {
        "id": "KToTqQfFv70F"
      },
      "source": [
        "df = resultados.copy()\n",
        "df = df.merge(equipes, how = 'left')\n",
        "df = df.merge(corridas, how = 'left')\n",
        "df = df.merge(circuitos, how = 'left')\n",
        "df = df.merge(pilotos, how = 'left')\n",
        "df = df.merge(status, how = 'left')"
      ],
      "execution_count": null,
      "outputs": []
    },
    {
      "cell_type": "code",
      "metadata": {
        "id": "FqBjF_IPwN1w",
        "outputId": "cdc30db1-4dfd-440d-f669-b0dc041bbc22",
        "colab": {
          "base_uri": "https://localhost:8080/",
          "height": 34
        }
      },
      "source": [
        "len(df), len(resultados)"
      ],
      "execution_count": null,
      "outputs": [
        {
          "output_type": "execute_result",
          "data": {
            "text/plain": [
              "(23777, 23777)"
            ]
          },
          "metadata": {
            "tags": []
          },
          "execution_count": 31
        }
      ]
    },
    {
      "cell_type": "markdown",
      "metadata": {
        "id": "OjaXXUANwqOE"
      },
      "source": [
        ""
      ]
    },
    {
      "cell_type": "markdown",
      "metadata": {
        "id": "WUSiOprPwTK1"
      },
      "source": [
        "como podemos perceber acima, os merges foram corretos e não geraram duplicatas."
      ]
    },
    {
      "cell_type": "markdown",
      "metadata": {
        "id": "z2L4M5uBwg5R"
      },
      "source": [
        "**Agora que cobrimos boa parte do pré-processamento, vamos começar a extrair as informações**"
      ]
    },
    {
      "cell_type": "code",
      "metadata": {
        "id": "Nc-MnFXWxkaj",
        "outputId": "6b2a4e18-4145-4f28-81b5-7efb92d43efc",
        "colab": {
          "base_uri": "https://localhost:8080/",
          "height": 394
        }
      },
      "source": [
        "df.head()"
      ],
      "execution_count": null,
      "outputs": [
        {
          "output_type": "execute_result",
          "data": {
            "text/html": [
              "<div>\n",
              "<style scoped>\n",
              "    .dataframe tbody tr th:only-of-type {\n",
              "        vertical-align: middle;\n",
              "    }\n",
              "\n",
              "    .dataframe tbody tr th {\n",
              "        vertical-align: top;\n",
              "    }\n",
              "\n",
              "    .dataframe thead th {\n",
              "        text-align: right;\n",
              "    }\n",
              "</style>\n",
              "<table border=\"1\" class=\"dataframe\">\n",
              "  <thead>\n",
              "    <tr style=\"text-align: right;\">\n",
              "      <th></th>\n",
              "      <th>resultId</th>\n",
              "      <th>raceId</th>\n",
              "      <th>driverId</th>\n",
              "      <th>constructorId</th>\n",
              "      <th>number</th>\n",
              "      <th>grid</th>\n",
              "      <th>position</th>\n",
              "      <th>positionText</th>\n",
              "      <th>points</th>\n",
              "      <th>laps</th>\n",
              "      <th>time</th>\n",
              "      <th>milliseconds</th>\n",
              "      <th>fastestLap</th>\n",
              "      <th>fastestLapTime</th>\n",
              "      <th>fastestLapSpeed</th>\n",
              "      <th>statusId</th>\n",
              "      <th>constructorRef</th>\n",
              "      <th>constructorName</th>\n",
              "      <th>year</th>\n",
              "      <th>round</th>\n",
              "      <th>circuitId</th>\n",
              "      <th>raceName</th>\n",
              "      <th>raceDate</th>\n",
              "      <th>circuitRef</th>\n",
              "      <th>circuitName</th>\n",
              "      <th>location</th>\n",
              "      <th>country</th>\n",
              "      <th>driverRef</th>\n",
              "      <th>forename</th>\n",
              "      <th>surname</th>\n",
              "      <th>dob</th>\n",
              "      <th>nationality</th>\n",
              "      <th>status</th>\n",
              "    </tr>\n",
              "  </thead>\n",
              "  <tbody>\n",
              "    <tr>\n",
              "      <th>0</th>\n",
              "      <td>1</td>\n",
              "      <td>18</td>\n",
              "      <td>1</td>\n",
              "      <td>1</td>\n",
              "      <td>22.0</td>\n",
              "      <td>1</td>\n",
              "      <td>1.0</td>\n",
              "      <td>1</td>\n",
              "      <td>10.0</td>\n",
              "      <td>58</td>\n",
              "      <td>34:50.6</td>\n",
              "      <td>5690616.0</td>\n",
              "      <td>39.0</td>\n",
              "      <td>01:27.5</td>\n",
              "      <td>218.3</td>\n",
              "      <td>1</td>\n",
              "      <td>mclaren</td>\n",
              "      <td>McLaren</td>\n",
              "      <td>2008</td>\n",
              "      <td>1</td>\n",
              "      <td>1</td>\n",
              "      <td>Australian Grand Prix</td>\n",
              "      <td>2008-03-16</td>\n",
              "      <td>albert_park</td>\n",
              "      <td>Albert Park Grand Prix Circuit</td>\n",
              "      <td>Melbourne</td>\n",
              "      <td>Australia</td>\n",
              "      <td>hamilton</td>\n",
              "      <td>Lewis</td>\n",
              "      <td>Hamilton</td>\n",
              "      <td>07/01/1985</td>\n",
              "      <td>British</td>\n",
              "      <td>Finished</td>\n",
              "    </tr>\n",
              "    <tr>\n",
              "      <th>1</th>\n",
              "      <td>2</td>\n",
              "      <td>18</td>\n",
              "      <td>2</td>\n",
              "      <td>2</td>\n",
              "      <td>3.0</td>\n",
              "      <td>5</td>\n",
              "      <td>2.0</td>\n",
              "      <td>2</td>\n",
              "      <td>8.0</td>\n",
              "      <td>58</td>\n",
              "      <td>5.478</td>\n",
              "      <td>5696094.0</td>\n",
              "      <td>41.0</td>\n",
              "      <td>01:27.7</td>\n",
              "      <td>217.586</td>\n",
              "      <td>1</td>\n",
              "      <td>bmw_sauber</td>\n",
              "      <td>BMW Sauber</td>\n",
              "      <td>2008</td>\n",
              "      <td>1</td>\n",
              "      <td>1</td>\n",
              "      <td>Australian Grand Prix</td>\n",
              "      <td>2008-03-16</td>\n",
              "      <td>albert_park</td>\n",
              "      <td>Albert Park Grand Prix Circuit</td>\n",
              "      <td>Melbourne</td>\n",
              "      <td>Australia</td>\n",
              "      <td>heidfeld</td>\n",
              "      <td>Nick</td>\n",
              "      <td>Heidfeld</td>\n",
              "      <td>10/05/1977</td>\n",
              "      <td>German</td>\n",
              "      <td>Finished</td>\n",
              "    </tr>\n",
              "    <tr>\n",
              "      <th>2</th>\n",
              "      <td>3</td>\n",
              "      <td>18</td>\n",
              "      <td>3</td>\n",
              "      <td>3</td>\n",
              "      <td>7.0</td>\n",
              "      <td>7</td>\n",
              "      <td>3.0</td>\n",
              "      <td>3</td>\n",
              "      <td>6.0</td>\n",
              "      <td>58</td>\n",
              "      <td>8.163</td>\n",
              "      <td>5698779.0</td>\n",
              "      <td>41.0</td>\n",
              "      <td>01:28.1</td>\n",
              "      <td>216.719</td>\n",
              "      <td>1</td>\n",
              "      <td>williams</td>\n",
              "      <td>Williams</td>\n",
              "      <td>2008</td>\n",
              "      <td>1</td>\n",
              "      <td>1</td>\n",
              "      <td>Australian Grand Prix</td>\n",
              "      <td>2008-03-16</td>\n",
              "      <td>albert_park</td>\n",
              "      <td>Albert Park Grand Prix Circuit</td>\n",
              "      <td>Melbourne</td>\n",
              "      <td>Australia</td>\n",
              "      <td>rosberg</td>\n",
              "      <td>Nico</td>\n",
              "      <td>Rosberg</td>\n",
              "      <td>27/06/1985</td>\n",
              "      <td>German</td>\n",
              "      <td>Finished</td>\n",
              "    </tr>\n",
              "    <tr>\n",
              "      <th>3</th>\n",
              "      <td>4</td>\n",
              "      <td>18</td>\n",
              "      <td>4</td>\n",
              "      <td>4</td>\n",
              "      <td>5.0</td>\n",
              "      <td>11</td>\n",
              "      <td>4.0</td>\n",
              "      <td>4</td>\n",
              "      <td>5.0</td>\n",
              "      <td>58</td>\n",
              "      <td>17.181</td>\n",
              "      <td>5707797.0</td>\n",
              "      <td>58.0</td>\n",
              "      <td>01:28.6</td>\n",
              "      <td>215.464</td>\n",
              "      <td>1</td>\n",
              "      <td>renault</td>\n",
              "      <td>Renault</td>\n",
              "      <td>2008</td>\n",
              "      <td>1</td>\n",
              "      <td>1</td>\n",
              "      <td>Australian Grand Prix</td>\n",
              "      <td>2008-03-16</td>\n",
              "      <td>albert_park</td>\n",
              "      <td>Albert Park Grand Prix Circuit</td>\n",
              "      <td>Melbourne</td>\n",
              "      <td>Australia</td>\n",
              "      <td>alonso</td>\n",
              "      <td>Fernando</td>\n",
              "      <td>Alonso</td>\n",
              "      <td>29/07/1981</td>\n",
              "      <td>Spanish</td>\n",
              "      <td>Finished</td>\n",
              "    </tr>\n",
              "    <tr>\n",
              "      <th>4</th>\n",
              "      <td>5</td>\n",
              "      <td>18</td>\n",
              "      <td>5</td>\n",
              "      <td>1</td>\n",
              "      <td>23.0</td>\n",
              "      <td>3</td>\n",
              "      <td>5.0</td>\n",
              "      <td>5</td>\n",
              "      <td>4.0</td>\n",
              "      <td>58</td>\n",
              "      <td>18.014</td>\n",
              "      <td>5708630.0</td>\n",
              "      <td>43.0</td>\n",
              "      <td>01:27.4</td>\n",
              "      <td>218.385</td>\n",
              "      <td>1</td>\n",
              "      <td>mclaren</td>\n",
              "      <td>McLaren</td>\n",
              "      <td>2008</td>\n",
              "      <td>1</td>\n",
              "      <td>1</td>\n",
              "      <td>Australian Grand Prix</td>\n",
              "      <td>2008-03-16</td>\n",
              "      <td>albert_park</td>\n",
              "      <td>Albert Park Grand Prix Circuit</td>\n",
              "      <td>Melbourne</td>\n",
              "      <td>Australia</td>\n",
              "      <td>kovalainen</td>\n",
              "      <td>Heikki</td>\n",
              "      <td>Kovalainen</td>\n",
              "      <td>19/10/1981</td>\n",
              "      <td>Finnish</td>\n",
              "      <td>Finished</td>\n",
              "    </tr>\n",
              "  </tbody>\n",
              "</table>\n",
              "</div>"
            ],
            "text/plain": [
              "   resultId  raceId  driverId  ...         dob  nationality    status\n",
              "0         1      18         1  ...  07/01/1985      British  Finished\n",
              "1         2      18         2  ...  10/05/1977       German  Finished\n",
              "2         3      18         3  ...  27/06/1985       German  Finished\n",
              "3         4      18         4  ...  29/07/1981      Spanish  Finished\n",
              "4         5      18         5  ...  19/10/1981      Finnish  Finished\n",
              "\n",
              "[5 rows x 33 columns]"
            ]
          },
          "metadata": {
            "tags": []
          },
          "execution_count": 32
        }
      ]
    },
    {
      "cell_type": "markdown",
      "metadata": {
        "id": "tQ3m7QGkwrc3"
      },
      "source": [
        "Primeiro vamos ver qual o período de tempo abordado nesse conjunto de dados."
      ]
    },
    {
      "cell_type": "code",
      "metadata": {
        "id": "vyoUkt1KwqbE",
        "outputId": "6fcceced-2ea9-4059-b89d-99d3e9ee2ae9",
        "colab": {
          "base_uri": "https://localhost:8080/",
          "height": 34
        }
      },
      "source": [
        "df['year'].min(), df['year'].max()"
      ],
      "execution_count": null,
      "outputs": [
        {
          "output_type": "execute_result",
          "data": {
            "text/plain": [
              "(1950, 2017)"
            ]
          },
          "metadata": {
            "tags": []
          },
          "execution_count": 33
        }
      ]
    },
    {
      "cell_type": "code",
      "metadata": {
        "id": "R0FDMG-EyKpY",
        "outputId": "490b7c1d-6822-4995-b270-327a4d531ecf",
        "colab": {
          "base_uri": "https://localhost:8080/",
          "height": 595
        }
      },
      "source": [
        "df.dtypes"
      ],
      "execution_count": null,
      "outputs": [
        {
          "output_type": "execute_result",
          "data": {
            "text/plain": [
              "resultId             int64\n",
              "raceId               int64\n",
              "driverId             int64\n",
              "constructorId        int64\n",
              "number             float64\n",
              "grid                 int64\n",
              "position           float64\n",
              "positionText        object\n",
              "points             float64\n",
              "laps                 int64\n",
              "time                object\n",
              "milliseconds       float64\n",
              "fastestLap         float64\n",
              "fastestLapTime      object\n",
              "fastestLapSpeed     object\n",
              "statusId             int64\n",
              "constructorRef      object\n",
              "constructorName     object\n",
              "year                 int64\n",
              "round                int64\n",
              "circuitId            int64\n",
              "raceName            object\n",
              "raceDate            object\n",
              "circuitRef          object\n",
              "circuitName         object\n",
              "location            object\n",
              "country             object\n",
              "driverRef           object\n",
              "forename            object\n",
              "surname             object\n",
              "dob                 object\n",
              "nationality         object\n",
              "status              object\n",
              "dtype: object"
            ]
          },
          "metadata": {
            "tags": []
          },
          "execution_count": 34
        }
      ]
    },
    {
      "cell_type": "markdown",
      "metadata": {
        "id": "X_-yW3XczeU6"
      },
      "source": [
        "Podemos perceber que alguns tipos não estão no formato que deveriam, como o atributo fastestLapSpeed, portanto vamos converte-lo e seguir com as análises"
      ]
    },
    {
      "cell_type": "code",
      "metadata": {
        "id": "jQ0_eTNnyyK2",
        "outputId": "f39fd6fc-1500-4c61-9c97-975ce320aca2",
        "colab": {
          "base_uri": "https://localhost:8080/",
          "height": 306
        }
      },
      "source": [
        "df['fastestLapSpeed'].astype('float64')"
      ],
      "execution_count": null,
      "outputs": [
        {
          "output_type": "error",
          "ename": "ValueError",
          "evalue": "ignored",
          "traceback": [
            "\u001b[0;31m---------------------------------------------------------------------------\u001b[0m",
            "\u001b[0;31mValueError\u001b[0m                                Traceback (most recent call last)",
            "\u001b[0;32m<ipython-input-35-becc457da4eb>\u001b[0m in \u001b[0;36m<module>\u001b[0;34m()\u001b[0m\n\u001b[0;32m----> 1\u001b[0;31m \u001b[0mdf\u001b[0m\u001b[0;34m[\u001b[0m\u001b[0;34m'fastestLapSpeed'\u001b[0m\u001b[0;34m]\u001b[0m\u001b[0;34m.\u001b[0m\u001b[0mastype\u001b[0m\u001b[0;34m(\u001b[0m\u001b[0;34m'float64'\u001b[0m\u001b[0;34m)\u001b[0m\u001b[0;34m\u001b[0m\u001b[0;34m\u001b[0m\u001b[0m\n\u001b[0m",
            "\u001b[0;32m/usr/local/lib/python3.6/dist-packages/pandas/core/generic.py\u001b[0m in \u001b[0;36mastype\u001b[0;34m(self, dtype, copy, errors)\u001b[0m\n\u001b[1;32m   5541\u001b[0m         \u001b[0;32melse\u001b[0m\u001b[0;34m:\u001b[0m\u001b[0;34m\u001b[0m\u001b[0;34m\u001b[0m\u001b[0m\n\u001b[1;32m   5542\u001b[0m             \u001b[0;31m# else, only a single dtype is given\u001b[0m\u001b[0;34m\u001b[0m\u001b[0;34m\u001b[0m\u001b[0;34m\u001b[0m\u001b[0m\n\u001b[0;32m-> 5543\u001b[0;31m             \u001b[0mnew_data\u001b[0m \u001b[0;34m=\u001b[0m \u001b[0mself\u001b[0m\u001b[0;34m.\u001b[0m\u001b[0m_mgr\u001b[0m\u001b[0;34m.\u001b[0m\u001b[0mastype\u001b[0m\u001b[0;34m(\u001b[0m\u001b[0mdtype\u001b[0m\u001b[0;34m=\u001b[0m\u001b[0mdtype\u001b[0m\u001b[0;34m,\u001b[0m \u001b[0mcopy\u001b[0m\u001b[0;34m=\u001b[0m\u001b[0mcopy\u001b[0m\u001b[0;34m,\u001b[0m \u001b[0merrors\u001b[0m\u001b[0;34m=\u001b[0m\u001b[0merrors\u001b[0m\u001b[0;34m,\u001b[0m\u001b[0;34m)\u001b[0m\u001b[0;34m\u001b[0m\u001b[0;34m\u001b[0m\u001b[0m\n\u001b[0m\u001b[1;32m   5544\u001b[0m             \u001b[0;32mreturn\u001b[0m \u001b[0mself\u001b[0m\u001b[0;34m.\u001b[0m\u001b[0m_constructor\u001b[0m\u001b[0;34m(\u001b[0m\u001b[0mnew_data\u001b[0m\u001b[0;34m)\u001b[0m\u001b[0;34m.\u001b[0m\u001b[0m__finalize__\u001b[0m\u001b[0;34m(\u001b[0m\u001b[0mself\u001b[0m\u001b[0;34m,\u001b[0m \u001b[0mmethod\u001b[0m\u001b[0;34m=\u001b[0m\u001b[0;34m\"astype\"\u001b[0m\u001b[0;34m)\u001b[0m\u001b[0;34m\u001b[0m\u001b[0;34m\u001b[0m\u001b[0m\n\u001b[1;32m   5545\u001b[0m \u001b[0;34m\u001b[0m\u001b[0m\n",
            "\u001b[0;32m/usr/local/lib/python3.6/dist-packages/pandas/core/internals/managers.py\u001b[0m in \u001b[0;36mastype\u001b[0;34m(self, dtype, copy, errors)\u001b[0m\n\u001b[1;32m    593\u001b[0m         \u001b[0mself\u001b[0m\u001b[0;34m,\u001b[0m \u001b[0mdtype\u001b[0m\u001b[0;34m,\u001b[0m \u001b[0mcopy\u001b[0m\u001b[0;34m:\u001b[0m \u001b[0mbool\u001b[0m \u001b[0;34m=\u001b[0m \u001b[0;32mFalse\u001b[0m\u001b[0;34m,\u001b[0m \u001b[0merrors\u001b[0m\u001b[0;34m:\u001b[0m \u001b[0mstr\u001b[0m \u001b[0;34m=\u001b[0m \u001b[0;34m\"raise\"\u001b[0m\u001b[0;34m\u001b[0m\u001b[0;34m\u001b[0m\u001b[0m\n\u001b[1;32m    594\u001b[0m     ) -> \"BlockManager\":\n\u001b[0;32m--> 595\u001b[0;31m         \u001b[0;32mreturn\u001b[0m \u001b[0mself\u001b[0m\u001b[0;34m.\u001b[0m\u001b[0mapply\u001b[0m\u001b[0;34m(\u001b[0m\u001b[0;34m\"astype\"\u001b[0m\u001b[0;34m,\u001b[0m \u001b[0mdtype\u001b[0m\u001b[0;34m=\u001b[0m\u001b[0mdtype\u001b[0m\u001b[0;34m,\u001b[0m \u001b[0mcopy\u001b[0m\u001b[0;34m=\u001b[0m\u001b[0mcopy\u001b[0m\u001b[0;34m,\u001b[0m \u001b[0merrors\u001b[0m\u001b[0;34m=\u001b[0m\u001b[0merrors\u001b[0m\u001b[0;34m)\u001b[0m\u001b[0;34m\u001b[0m\u001b[0;34m\u001b[0m\u001b[0m\n\u001b[0m\u001b[1;32m    596\u001b[0m \u001b[0;34m\u001b[0m\u001b[0m\n\u001b[1;32m    597\u001b[0m     def convert(\n",
            "\u001b[0;32m/usr/local/lib/python3.6/dist-packages/pandas/core/internals/managers.py\u001b[0m in \u001b[0;36mapply\u001b[0;34m(self, f, align_keys, **kwargs)\u001b[0m\n\u001b[1;32m    404\u001b[0m                 \u001b[0mapplied\u001b[0m \u001b[0;34m=\u001b[0m \u001b[0mb\u001b[0m\u001b[0;34m.\u001b[0m\u001b[0mapply\u001b[0m\u001b[0;34m(\u001b[0m\u001b[0mf\u001b[0m\u001b[0;34m,\u001b[0m \u001b[0;34m**\u001b[0m\u001b[0mkwargs\u001b[0m\u001b[0;34m)\u001b[0m\u001b[0;34m\u001b[0m\u001b[0;34m\u001b[0m\u001b[0m\n\u001b[1;32m    405\u001b[0m             \u001b[0;32melse\u001b[0m\u001b[0;34m:\u001b[0m\u001b[0;34m\u001b[0m\u001b[0;34m\u001b[0m\u001b[0m\n\u001b[0;32m--> 406\u001b[0;31m                 \u001b[0mapplied\u001b[0m \u001b[0;34m=\u001b[0m \u001b[0mgetattr\u001b[0m\u001b[0;34m(\u001b[0m\u001b[0mb\u001b[0m\u001b[0;34m,\u001b[0m \u001b[0mf\u001b[0m\u001b[0;34m)\u001b[0m\u001b[0;34m(\u001b[0m\u001b[0;34m**\u001b[0m\u001b[0mkwargs\u001b[0m\u001b[0;34m)\u001b[0m\u001b[0;34m\u001b[0m\u001b[0;34m\u001b[0m\u001b[0m\n\u001b[0m\u001b[1;32m    407\u001b[0m             \u001b[0mresult_blocks\u001b[0m \u001b[0;34m=\u001b[0m \u001b[0m_extend_blocks\u001b[0m\u001b[0;34m(\u001b[0m\u001b[0mapplied\u001b[0m\u001b[0;34m,\u001b[0m \u001b[0mresult_blocks\u001b[0m\u001b[0;34m)\u001b[0m\u001b[0;34m\u001b[0m\u001b[0;34m\u001b[0m\u001b[0m\n\u001b[1;32m    408\u001b[0m \u001b[0;34m\u001b[0m\u001b[0m\n",
            "\u001b[0;32m/usr/local/lib/python3.6/dist-packages/pandas/core/internals/blocks.py\u001b[0m in \u001b[0;36mastype\u001b[0;34m(self, dtype, copy, errors)\u001b[0m\n\u001b[1;32m    592\u001b[0m             \u001b[0mvals1d\u001b[0m \u001b[0;34m=\u001b[0m \u001b[0mvalues\u001b[0m\u001b[0;34m.\u001b[0m\u001b[0mravel\u001b[0m\u001b[0;34m(\u001b[0m\u001b[0;34m)\u001b[0m\u001b[0;34m\u001b[0m\u001b[0;34m\u001b[0m\u001b[0m\n\u001b[1;32m    593\u001b[0m             \u001b[0;32mtry\u001b[0m\u001b[0;34m:\u001b[0m\u001b[0;34m\u001b[0m\u001b[0;34m\u001b[0m\u001b[0m\n\u001b[0;32m--> 594\u001b[0;31m                 \u001b[0mvalues\u001b[0m \u001b[0;34m=\u001b[0m \u001b[0mastype_nansafe\u001b[0m\u001b[0;34m(\u001b[0m\u001b[0mvals1d\u001b[0m\u001b[0;34m,\u001b[0m \u001b[0mdtype\u001b[0m\u001b[0;34m,\u001b[0m \u001b[0mcopy\u001b[0m\u001b[0;34m=\u001b[0m\u001b[0;32mTrue\u001b[0m\u001b[0;34m)\u001b[0m\u001b[0;34m\u001b[0m\u001b[0;34m\u001b[0m\u001b[0m\n\u001b[0m\u001b[1;32m    595\u001b[0m             \u001b[0;32mexcept\u001b[0m \u001b[0;34m(\u001b[0m\u001b[0mValueError\u001b[0m\u001b[0;34m,\u001b[0m \u001b[0mTypeError\u001b[0m\u001b[0;34m)\u001b[0m\u001b[0;34m:\u001b[0m\u001b[0;34m\u001b[0m\u001b[0;34m\u001b[0m\u001b[0m\n\u001b[1;32m    596\u001b[0m                 \u001b[0;31m# e.g. astype_nansafe can fail on object-dtype of strings\u001b[0m\u001b[0;34m\u001b[0m\u001b[0;34m\u001b[0m\u001b[0;34m\u001b[0m\u001b[0m\n",
            "\u001b[0;32m/usr/local/lib/python3.6/dist-packages/pandas/core/dtypes/cast.py\u001b[0m in \u001b[0;36mastype_nansafe\u001b[0;34m(arr, dtype, copy, skipna)\u001b[0m\n\u001b[1;32m    988\u001b[0m     \u001b[0;32mif\u001b[0m \u001b[0mcopy\u001b[0m \u001b[0;32mor\u001b[0m \u001b[0mis_object_dtype\u001b[0m\u001b[0;34m(\u001b[0m\u001b[0marr\u001b[0m\u001b[0;34m)\u001b[0m \u001b[0;32mor\u001b[0m \u001b[0mis_object_dtype\u001b[0m\u001b[0;34m(\u001b[0m\u001b[0mdtype\u001b[0m\u001b[0;34m)\u001b[0m\u001b[0;34m:\u001b[0m\u001b[0;34m\u001b[0m\u001b[0;34m\u001b[0m\u001b[0m\n\u001b[1;32m    989\u001b[0m         \u001b[0;31m# Explicit copy, or required since NumPy can't view from / to object.\u001b[0m\u001b[0;34m\u001b[0m\u001b[0;34m\u001b[0m\u001b[0;34m\u001b[0m\u001b[0m\n\u001b[0;32m--> 990\u001b[0;31m         \u001b[0;32mreturn\u001b[0m \u001b[0marr\u001b[0m\u001b[0;34m.\u001b[0m\u001b[0mastype\u001b[0m\u001b[0;34m(\u001b[0m\u001b[0mdtype\u001b[0m\u001b[0;34m,\u001b[0m \u001b[0mcopy\u001b[0m\u001b[0;34m=\u001b[0m\u001b[0;32mTrue\u001b[0m\u001b[0;34m)\u001b[0m\u001b[0;34m\u001b[0m\u001b[0;34m\u001b[0m\u001b[0m\n\u001b[0m\u001b[1;32m    991\u001b[0m \u001b[0;34m\u001b[0m\u001b[0m\n\u001b[1;32m    992\u001b[0m     \u001b[0;32mreturn\u001b[0m \u001b[0marr\u001b[0m\u001b[0;34m.\u001b[0m\u001b[0mview\u001b[0m\u001b[0;34m(\u001b[0m\u001b[0mdtype\u001b[0m\u001b[0;34m)\u001b[0m\u001b[0;34m\u001b[0m\u001b[0;34m\u001b[0m\u001b[0m\n",
            "\u001b[0;31mValueError\u001b[0m: could not convert string to float: '01:42.6'"
          ]
        }
      ]
    },
    {
      "cell_type": "markdown",
      "metadata": {
        "id": "xVMSYeq7znQe"
      },
      "source": [
        "É possível perceber que um erro foi gerado na conversão, para não gerar impactos em análises posteriores vamos verificar o motivo disso estar acontecendo"
      ]
    },
    {
      "cell_type": "code",
      "metadata": {
        "id": "I6vtKhbGztxL",
        "outputId": "069b8948-b1bd-4302-d384-098af59b7745",
        "colab": {
          "base_uri": "https://localhost:8080/",
          "height": 80
        }
      },
      "source": [
        "df[df['fastestLapSpeed'] == '01:42.6'][['driverRef','year','country','fastestLapSpeed','fastestLapTime']]"
      ],
      "execution_count": null,
      "outputs": [
        {
          "output_type": "execute_result",
          "data": {
            "text/html": [
              "<div>\n",
              "<style scoped>\n",
              "    .dataframe tbody tr th:only-of-type {\n",
              "        vertical-align: middle;\n",
              "    }\n",
              "\n",
              "    .dataframe tbody tr th {\n",
              "        vertical-align: top;\n",
              "    }\n",
              "\n",
              "    .dataframe thead th {\n",
              "        text-align: right;\n",
              "    }\n",
              "</style>\n",
              "<table border=\"1\" class=\"dataframe\">\n",
              "  <thead>\n",
              "    <tr style=\"text-align: right;\">\n",
              "      <th></th>\n",
              "      <th>driverRef</th>\n",
              "      <th>year</th>\n",
              "      <th>country</th>\n",
              "      <th>fastestLapSpeed</th>\n",
              "      <th>fastestLapTime</th>\n",
              "    </tr>\n",
              "  </thead>\n",
              "  <tbody>\n",
              "    <tr>\n",
              "      <th>23764</th>\n",
              "      <td>ocon</td>\n",
              "      <td>2017</td>\n",
              "      <td>UAE</td>\n",
              "      <td>01:42.6</td>\n",
              "      <td>01:42.6</td>\n",
              "    </tr>\n",
              "  </tbody>\n",
              "</table>\n",
              "</div>"
            ],
            "text/plain": [
              "      driverRef  year country fastestLapSpeed fastestLapTime\n",
              "23764      ocon  2017     UAE         01:42.6        01:42.6"
            ]
          },
          "metadata": {
            "tags": []
          },
          "execution_count": 36
        }
      ]
    },
    {
      "cell_type": "markdown",
      "metadata": {
        "id": "OqBhbL3w0izW"
      },
      "source": [
        "Para corrigir o problema, vamos utilizar a técnica de relacionar a velocidade dele com a média de velocidade\n",
        "\n",
        "Obs: Como o atributo fastestLapSpeed ainda não foi convertido calculamos manualmente e atribuiremos esse valor."
      ]
    },
    {
      "cell_type": "code",
      "metadata": {
        "id": "3xZ6_mipxjO5",
        "outputId": "1228b890-a879-4ea4-a1a8-41544f20e511",
        "colab": {
          "base_uri": "https://localhost:8080/",
          "height": 669
        }
      },
      "source": [
        "df[(df['year'] == 2017) & (df['country'] == 'UAE')][['driverRef', 'fastestLapTime','fastestLapSpeed','position']]"
      ],
      "execution_count": null,
      "outputs": [
        {
          "output_type": "execute_result",
          "data": {
            "text/html": [
              "<div>\n",
              "<style scoped>\n",
              "    .dataframe tbody tr th:only-of-type {\n",
              "        vertical-align: middle;\n",
              "    }\n",
              "\n",
              "    .dataframe tbody tr th {\n",
              "        vertical-align: top;\n",
              "    }\n",
              "\n",
              "    .dataframe thead th {\n",
              "        text-align: right;\n",
              "    }\n",
              "</style>\n",
              "<table border=\"1\" class=\"dataframe\">\n",
              "  <thead>\n",
              "    <tr style=\"text-align: right;\">\n",
              "      <th></th>\n",
              "      <th>driverRef</th>\n",
              "      <th>fastestLapTime</th>\n",
              "      <th>fastestLapSpeed</th>\n",
              "      <th>position</th>\n",
              "    </tr>\n",
              "  </thead>\n",
              "  <tbody>\n",
              "    <tr>\n",
              "      <th>23757</th>\n",
              "      <td>bottas</td>\n",
              "      <td>01:40.7</td>\n",
              "      <td>198.652</td>\n",
              "      <td>1.0</td>\n",
              "    </tr>\n",
              "    <tr>\n",
              "      <th>23758</th>\n",
              "      <td>hamilton</td>\n",
              "      <td>01:41.5</td>\n",
              "      <td>197.041</td>\n",
              "      <td>2.0</td>\n",
              "    </tr>\n",
              "    <tr>\n",
              "      <th>23759</th>\n",
              "      <td>vettel</td>\n",
              "      <td>01:40.8</td>\n",
              "      <td>198.416</td>\n",
              "      <td>3.0</td>\n",
              "    </tr>\n",
              "    <tr>\n",
              "      <th>23760</th>\n",
              "      <td>raikkonen</td>\n",
              "      <td>01:42.3</td>\n",
              "      <td>195.376</td>\n",
              "      <td>4.0</td>\n",
              "    </tr>\n",
              "    <tr>\n",
              "      <th>23761</th>\n",
              "      <td>max_verstappen</td>\n",
              "      <td>01:42.0</td>\n",
              "      <td>195.969</td>\n",
              "      <td>5.0</td>\n",
              "    </tr>\n",
              "    <tr>\n",
              "      <th>23762</th>\n",
              "      <td>hulkenberg</td>\n",
              "      <td>01:42.4</td>\n",
              "      <td>195.303</td>\n",
              "      <td>6.0</td>\n",
              "    </tr>\n",
              "    <tr>\n",
              "      <th>23763</th>\n",
              "      <td>perez</td>\n",
              "      <td>01:42.7</td>\n",
              "      <td>194.708</td>\n",
              "      <td>7.0</td>\n",
              "    </tr>\n",
              "    <tr>\n",
              "      <th>23764</th>\n",
              "      <td>ocon</td>\n",
              "      <td>01:42.6</td>\n",
              "      <td>01:42.6</td>\n",
              "      <td>8.0</td>\n",
              "    </tr>\n",
              "    <tr>\n",
              "      <th>23765</th>\n",
              "      <td>alonso</td>\n",
              "      <td>01:43.4</td>\n",
              "      <td>193.41</td>\n",
              "      <td>9.0</td>\n",
              "    </tr>\n",
              "    <tr>\n",
              "      <th>23766</th>\n",
              "      <td>massa</td>\n",
              "      <td>01:43.0</td>\n",
              "      <td>194.071</td>\n",
              "      <td>10.0</td>\n",
              "    </tr>\n",
              "    <tr>\n",
              "      <th>23767</th>\n",
              "      <td>grosjean</td>\n",
              "      <td>01:42.4</td>\n",
              "      <td>195.187</td>\n",
              "      <td>11.0</td>\n",
              "    </tr>\n",
              "    <tr>\n",
              "      <th>23768</th>\n",
              "      <td>vandoorne</td>\n",
              "      <td>01:44.0</td>\n",
              "      <td>192.279</td>\n",
              "      <td>12.0</td>\n",
              "    </tr>\n",
              "    <tr>\n",
              "      <th>23769</th>\n",
              "      <td>kevin_magnussen</td>\n",
              "      <td>01:43.9</td>\n",
              "      <td>192.387</td>\n",
              "      <td>13.0</td>\n",
              "    </tr>\n",
              "    <tr>\n",
              "      <th>23770</th>\n",
              "      <td>wehrlein</td>\n",
              "      <td>01:43.9</td>\n",
              "      <td>192.5</td>\n",
              "      <td>14.0</td>\n",
              "    </tr>\n",
              "    <tr>\n",
              "      <th>23771</th>\n",
              "      <td>brendon_hartley</td>\n",
              "      <td>01:43.9</td>\n",
              "      <td>192.444</td>\n",
              "      <td>15.0</td>\n",
              "    </tr>\n",
              "    <tr>\n",
              "      <th>23772</th>\n",
              "      <td>gasly</td>\n",
              "      <td>01:43.8</td>\n",
              "      <td>192.542</td>\n",
              "      <td>16.0</td>\n",
              "    </tr>\n",
              "    <tr>\n",
              "      <th>23773</th>\n",
              "      <td>ericsson</td>\n",
              "      <td>01:43.6</td>\n",
              "      <td>193.057</td>\n",
              "      <td>17.0</td>\n",
              "    </tr>\n",
              "    <tr>\n",
              "      <th>23774</th>\n",
              "      <td>stroll</td>\n",
              "      <td>01:42.3</td>\n",
              "      <td>195.402</td>\n",
              "      <td>18.0</td>\n",
              "    </tr>\n",
              "    <tr>\n",
              "      <th>23775</th>\n",
              "      <td>sainz</td>\n",
              "      <td>01:43.4</td>\n",
              "      <td>193.41</td>\n",
              "      <td>NaN</td>\n",
              "    </tr>\n",
              "    <tr>\n",
              "      <th>23776</th>\n",
              "      <td>ricciardo</td>\n",
              "      <td>01:42.8</td>\n",
              "      <td>194.579</td>\n",
              "      <td>NaN</td>\n",
              "    </tr>\n",
              "  </tbody>\n",
              "</table>\n",
              "</div>"
            ],
            "text/plain": [
              "             driverRef fastestLapTime fastestLapSpeed  position\n",
              "23757           bottas        01:40.7         198.652       1.0\n",
              "23758         hamilton        01:41.5         197.041       2.0\n",
              "23759           vettel        01:40.8         198.416       3.0\n",
              "23760        raikkonen        01:42.3         195.376       4.0\n",
              "23761   max_verstappen        01:42.0         195.969       5.0\n",
              "23762       hulkenberg        01:42.4         195.303       6.0\n",
              "23763            perez        01:42.7         194.708       7.0\n",
              "23764             ocon        01:42.6         01:42.6       8.0\n",
              "23765           alonso        01:43.4          193.41       9.0\n",
              "23766            massa        01:43.0         194.071      10.0\n",
              "23767         grosjean        01:42.4         195.187      11.0\n",
              "23768        vandoorne        01:44.0         192.279      12.0\n",
              "23769  kevin_magnussen        01:43.9         192.387      13.0\n",
              "23770         wehrlein        01:43.9           192.5      14.0\n",
              "23771  brendon_hartley        01:43.9         192.444      15.0\n",
              "23772            gasly        01:43.8         192.542      16.0\n",
              "23773         ericsson        01:43.6         193.057      17.0\n",
              "23774           stroll        01:42.3         195.402      18.0\n",
              "23775            sainz        01:43.4          193.41       NaN\n",
              "23776        ricciardo        01:42.8         194.579       NaN"
            ]
          },
          "metadata": {
            "tags": []
          },
          "execution_count": 37
        }
      ]
    },
    {
      "cell_type": "code",
      "metadata": {
        "id": "SpcmN4qY30G3"
      },
      "source": [
        "df.loc[23764,['fastestLapSpeed']] = '194.551'"
      ],
      "execution_count": null,
      "outputs": []
    },
    {
      "cell_type": "markdown",
      "metadata": {
        "id": "EJEBwNSI4UDu"
      },
      "source": [
        "Verificando a atualização"
      ]
    },
    {
      "cell_type": "code",
      "metadata": {
        "id": "ppEGKHYm4QWa",
        "outputId": "c13c32c8-81fa-4357-dd8e-749578c2bbf9",
        "colab": {
          "base_uri": "https://localhost:8080/",
          "height": 669
        }
      },
      "source": [
        "df[(df['year'] == 2017) & (df['country'] == 'UAE')][['driverRef', 'fastestLapTime','fastestLapSpeed','position']]"
      ],
      "execution_count": null,
      "outputs": [
        {
          "output_type": "execute_result",
          "data": {
            "text/html": [
              "<div>\n",
              "<style scoped>\n",
              "    .dataframe tbody tr th:only-of-type {\n",
              "        vertical-align: middle;\n",
              "    }\n",
              "\n",
              "    .dataframe tbody tr th {\n",
              "        vertical-align: top;\n",
              "    }\n",
              "\n",
              "    .dataframe thead th {\n",
              "        text-align: right;\n",
              "    }\n",
              "</style>\n",
              "<table border=\"1\" class=\"dataframe\">\n",
              "  <thead>\n",
              "    <tr style=\"text-align: right;\">\n",
              "      <th></th>\n",
              "      <th>driverRef</th>\n",
              "      <th>fastestLapTime</th>\n",
              "      <th>fastestLapSpeed</th>\n",
              "      <th>position</th>\n",
              "    </tr>\n",
              "  </thead>\n",
              "  <tbody>\n",
              "    <tr>\n",
              "      <th>23757</th>\n",
              "      <td>bottas</td>\n",
              "      <td>01:40.7</td>\n",
              "      <td>198.652</td>\n",
              "      <td>1.0</td>\n",
              "    </tr>\n",
              "    <tr>\n",
              "      <th>23758</th>\n",
              "      <td>hamilton</td>\n",
              "      <td>01:41.5</td>\n",
              "      <td>197.041</td>\n",
              "      <td>2.0</td>\n",
              "    </tr>\n",
              "    <tr>\n",
              "      <th>23759</th>\n",
              "      <td>vettel</td>\n",
              "      <td>01:40.8</td>\n",
              "      <td>198.416</td>\n",
              "      <td>3.0</td>\n",
              "    </tr>\n",
              "    <tr>\n",
              "      <th>23760</th>\n",
              "      <td>raikkonen</td>\n",
              "      <td>01:42.3</td>\n",
              "      <td>195.376</td>\n",
              "      <td>4.0</td>\n",
              "    </tr>\n",
              "    <tr>\n",
              "      <th>23761</th>\n",
              "      <td>max_verstappen</td>\n",
              "      <td>01:42.0</td>\n",
              "      <td>195.969</td>\n",
              "      <td>5.0</td>\n",
              "    </tr>\n",
              "    <tr>\n",
              "      <th>23762</th>\n",
              "      <td>hulkenberg</td>\n",
              "      <td>01:42.4</td>\n",
              "      <td>195.303</td>\n",
              "      <td>6.0</td>\n",
              "    </tr>\n",
              "    <tr>\n",
              "      <th>23763</th>\n",
              "      <td>perez</td>\n",
              "      <td>01:42.7</td>\n",
              "      <td>194.708</td>\n",
              "      <td>7.0</td>\n",
              "    </tr>\n",
              "    <tr>\n",
              "      <th>23764</th>\n",
              "      <td>ocon</td>\n",
              "      <td>01:42.6</td>\n",
              "      <td>194.551</td>\n",
              "      <td>8.0</td>\n",
              "    </tr>\n",
              "    <tr>\n",
              "      <th>23765</th>\n",
              "      <td>alonso</td>\n",
              "      <td>01:43.4</td>\n",
              "      <td>193.41</td>\n",
              "      <td>9.0</td>\n",
              "    </tr>\n",
              "    <tr>\n",
              "      <th>23766</th>\n",
              "      <td>massa</td>\n",
              "      <td>01:43.0</td>\n",
              "      <td>194.071</td>\n",
              "      <td>10.0</td>\n",
              "    </tr>\n",
              "    <tr>\n",
              "      <th>23767</th>\n",
              "      <td>grosjean</td>\n",
              "      <td>01:42.4</td>\n",
              "      <td>195.187</td>\n",
              "      <td>11.0</td>\n",
              "    </tr>\n",
              "    <tr>\n",
              "      <th>23768</th>\n",
              "      <td>vandoorne</td>\n",
              "      <td>01:44.0</td>\n",
              "      <td>192.279</td>\n",
              "      <td>12.0</td>\n",
              "    </tr>\n",
              "    <tr>\n",
              "      <th>23769</th>\n",
              "      <td>kevin_magnussen</td>\n",
              "      <td>01:43.9</td>\n",
              "      <td>192.387</td>\n",
              "      <td>13.0</td>\n",
              "    </tr>\n",
              "    <tr>\n",
              "      <th>23770</th>\n",
              "      <td>wehrlein</td>\n",
              "      <td>01:43.9</td>\n",
              "      <td>192.5</td>\n",
              "      <td>14.0</td>\n",
              "    </tr>\n",
              "    <tr>\n",
              "      <th>23771</th>\n",
              "      <td>brendon_hartley</td>\n",
              "      <td>01:43.9</td>\n",
              "      <td>192.444</td>\n",
              "      <td>15.0</td>\n",
              "    </tr>\n",
              "    <tr>\n",
              "      <th>23772</th>\n",
              "      <td>gasly</td>\n",
              "      <td>01:43.8</td>\n",
              "      <td>192.542</td>\n",
              "      <td>16.0</td>\n",
              "    </tr>\n",
              "    <tr>\n",
              "      <th>23773</th>\n",
              "      <td>ericsson</td>\n",
              "      <td>01:43.6</td>\n",
              "      <td>193.057</td>\n",
              "      <td>17.0</td>\n",
              "    </tr>\n",
              "    <tr>\n",
              "      <th>23774</th>\n",
              "      <td>stroll</td>\n",
              "      <td>01:42.3</td>\n",
              "      <td>195.402</td>\n",
              "      <td>18.0</td>\n",
              "    </tr>\n",
              "    <tr>\n",
              "      <th>23775</th>\n",
              "      <td>sainz</td>\n",
              "      <td>01:43.4</td>\n",
              "      <td>193.41</td>\n",
              "      <td>NaN</td>\n",
              "    </tr>\n",
              "    <tr>\n",
              "      <th>23776</th>\n",
              "      <td>ricciardo</td>\n",
              "      <td>01:42.8</td>\n",
              "      <td>194.579</td>\n",
              "      <td>NaN</td>\n",
              "    </tr>\n",
              "  </tbody>\n",
              "</table>\n",
              "</div>"
            ],
            "text/plain": [
              "             driverRef fastestLapTime fastestLapSpeed  position\n",
              "23757           bottas        01:40.7         198.652       1.0\n",
              "23758         hamilton        01:41.5         197.041       2.0\n",
              "23759           vettel        01:40.8         198.416       3.0\n",
              "23760        raikkonen        01:42.3         195.376       4.0\n",
              "23761   max_verstappen        01:42.0         195.969       5.0\n",
              "23762       hulkenberg        01:42.4         195.303       6.0\n",
              "23763            perez        01:42.7         194.708       7.0\n",
              "23764             ocon        01:42.6         194.551       8.0\n",
              "23765           alonso        01:43.4          193.41       9.0\n",
              "23766            massa        01:43.0         194.071      10.0\n",
              "23767         grosjean        01:42.4         195.187      11.0\n",
              "23768        vandoorne        01:44.0         192.279      12.0\n",
              "23769  kevin_magnussen        01:43.9         192.387      13.0\n",
              "23770         wehrlein        01:43.9           192.5      14.0\n",
              "23771  brendon_hartley        01:43.9         192.444      15.0\n",
              "23772            gasly        01:43.8         192.542      16.0\n",
              "23773         ericsson        01:43.6         193.057      17.0\n",
              "23774           stroll        01:42.3         195.402      18.0\n",
              "23775            sainz        01:43.4          193.41       NaN\n",
              "23776        ricciardo        01:42.8         194.579       NaN"
            ]
          },
          "metadata": {
            "tags": []
          },
          "execution_count": 39
        }
      ]
    },
    {
      "cell_type": "markdown",
      "metadata": {
        "id": "H4xTadz3AaG1"
      },
      "source": [
        "Agora vamos a conversão"
      ]
    },
    {
      "cell_type": "code",
      "metadata": {
        "id": "j9H0QYPa4YuZ",
        "outputId": "8dfbe2b9-1c40-482c-f913-950774ee613a",
        "colab": {
          "base_uri": "https://localhost:8080/",
          "height": 34
        }
      },
      "source": [
        "df['fastestLapSpeed'] = df['fastestLapSpeed'].astype('float64')\n",
        "getMeanSpeed = df[(df['year'] == 2017) & (df['country'] == 'UAE')]\n",
        "getMeanSpeed['fastestLapSpeed'].mean()"
      ],
      "execution_count": null,
      "outputs": [
        {
          "output_type": "execute_result",
          "data": {
            "text/plain": [
              "194.5642"
            ]
          },
          "metadata": {
            "tags": []
          },
          "execution_count": 40
        }
      ]
    },
    {
      "cell_type": "markdown",
      "metadata": {
        "id": "VGwbon-T73KD"
      },
      "source": [
        "vamos adicionar mais um coluna no dataframe relativa a distância da volta, para calcular a distância sabemos que velocidade = distância/tempo, portanto distância = velocidade * tempo, dessa forma saberemos qual a distância de 1 volta da corrida"
      ]
    },
    {
      "cell_type": "code",
      "metadata": {
        "id": "X6pKuXOd8enb",
        "outputId": "dbb5e2d1-e64d-46e5-de43-e751b99de5b7",
        "colab": {
          "base_uri": "https://localhost:8080/",
          "height": 119
        }
      },
      "source": [
        "df['fastestLapTimeSeg'] = (df['fastestLapTime'].str.split(':', expand = True)[0].astype('float64') * 60) + df['fastestLapTime'].str.split(':', expand = True)[1].astype('float64')\n",
        "df['fastestLapTimeSeg'].head()\n"
      ],
      "execution_count": null,
      "outputs": [
        {
          "output_type": "execute_result",
          "data": {
            "text/plain": [
              "0    87.5\n",
              "1    87.7\n",
              "2    88.1\n",
              "3    88.6\n",
              "4    87.4\n",
              "Name: fastestLapTimeSeg, dtype: float64"
            ]
          },
          "metadata": {
            "tags": []
          },
          "execution_count": 41
        }
      ]
    },
    {
      "cell_type": "code",
      "metadata": {
        "id": "xUwqUHajArmo"
      },
      "source": [
        "df['fastestLapSpeedMps'] = 1000 * df['fastestLapSpeed'] / 3600"
      ],
      "execution_count": null,
      "outputs": []
    },
    {
      "cell_type": "markdown",
      "metadata": {
        "id": "aq5wzctABQUN"
      },
      "source": [
        "uma vez que possuimos a tabela em Metros por segundo, podemos calcular a distância aproximada do circuito conforme a formula s = v * t"
      ]
    },
    {
      "cell_type": "code",
      "metadata": {
        "id": "C9YLued5A-6p",
        "outputId": "97ac3fd3-8f32-4911-f3ca-71ee3fabe837",
        "colab": {
          "base_uri": "https://localhost:8080/",
          "height": 119
        }
      },
      "source": [
        "df['lapDist'] = df['fastestLapTimeSeg'] * df['fastestLapSpeedMps']\n",
        "df['lapDist'].head()"
      ],
      "execution_count": null,
      "outputs": [
        {
          "output_type": "execute_result",
          "data": {
            "text/plain": [
              "0    5305.902778\n",
              "1    5300.636722\n",
              "2    5303.595528\n",
              "3    5302.808444\n",
              "4    5301.902500\n",
              "Name: lapDist, dtype: float64"
            ]
          },
          "metadata": {
            "tags": []
          },
          "execution_count": 43
        }
      ]
    },
    {
      "cell_type": "code",
      "metadata": {
        "id": "jaIie8aCBxRF",
        "outputId": "49167ce7-5ca1-443b-b940-fb81a186f582",
        "colab": {
          "base_uri": "https://localhost:8080/",
          "height": 394
        }
      },
      "source": [
        "df.head()"
      ],
      "execution_count": null,
      "outputs": [
        {
          "output_type": "execute_result",
          "data": {
            "text/html": [
              "<div>\n",
              "<style scoped>\n",
              "    .dataframe tbody tr th:only-of-type {\n",
              "        vertical-align: middle;\n",
              "    }\n",
              "\n",
              "    .dataframe tbody tr th {\n",
              "        vertical-align: top;\n",
              "    }\n",
              "\n",
              "    .dataframe thead th {\n",
              "        text-align: right;\n",
              "    }\n",
              "</style>\n",
              "<table border=\"1\" class=\"dataframe\">\n",
              "  <thead>\n",
              "    <tr style=\"text-align: right;\">\n",
              "      <th></th>\n",
              "      <th>resultId</th>\n",
              "      <th>raceId</th>\n",
              "      <th>driverId</th>\n",
              "      <th>constructorId</th>\n",
              "      <th>number</th>\n",
              "      <th>grid</th>\n",
              "      <th>position</th>\n",
              "      <th>positionText</th>\n",
              "      <th>points</th>\n",
              "      <th>laps</th>\n",
              "      <th>time</th>\n",
              "      <th>milliseconds</th>\n",
              "      <th>fastestLap</th>\n",
              "      <th>fastestLapTime</th>\n",
              "      <th>fastestLapSpeed</th>\n",
              "      <th>statusId</th>\n",
              "      <th>constructorRef</th>\n",
              "      <th>constructorName</th>\n",
              "      <th>year</th>\n",
              "      <th>round</th>\n",
              "      <th>circuitId</th>\n",
              "      <th>raceName</th>\n",
              "      <th>raceDate</th>\n",
              "      <th>circuitRef</th>\n",
              "      <th>circuitName</th>\n",
              "      <th>location</th>\n",
              "      <th>country</th>\n",
              "      <th>driverRef</th>\n",
              "      <th>forename</th>\n",
              "      <th>surname</th>\n",
              "      <th>dob</th>\n",
              "      <th>nationality</th>\n",
              "      <th>status</th>\n",
              "      <th>fastestLapTimeSeg</th>\n",
              "      <th>fastestLapSpeedMps</th>\n",
              "      <th>lapDist</th>\n",
              "    </tr>\n",
              "  </thead>\n",
              "  <tbody>\n",
              "    <tr>\n",
              "      <th>0</th>\n",
              "      <td>1</td>\n",
              "      <td>18</td>\n",
              "      <td>1</td>\n",
              "      <td>1</td>\n",
              "      <td>22.0</td>\n",
              "      <td>1</td>\n",
              "      <td>1.0</td>\n",
              "      <td>1</td>\n",
              "      <td>10.0</td>\n",
              "      <td>58</td>\n",
              "      <td>34:50.6</td>\n",
              "      <td>5690616.0</td>\n",
              "      <td>39.0</td>\n",
              "      <td>01:27.5</td>\n",
              "      <td>218.300</td>\n",
              "      <td>1</td>\n",
              "      <td>mclaren</td>\n",
              "      <td>McLaren</td>\n",
              "      <td>2008</td>\n",
              "      <td>1</td>\n",
              "      <td>1</td>\n",
              "      <td>Australian Grand Prix</td>\n",
              "      <td>2008-03-16</td>\n",
              "      <td>albert_park</td>\n",
              "      <td>Albert Park Grand Prix Circuit</td>\n",
              "      <td>Melbourne</td>\n",
              "      <td>Australia</td>\n",
              "      <td>hamilton</td>\n",
              "      <td>Lewis</td>\n",
              "      <td>Hamilton</td>\n",
              "      <td>07/01/1985</td>\n",
              "      <td>British</td>\n",
              "      <td>Finished</td>\n",
              "      <td>87.5</td>\n",
              "      <td>60.638889</td>\n",
              "      <td>5305.902778</td>\n",
              "    </tr>\n",
              "    <tr>\n",
              "      <th>1</th>\n",
              "      <td>2</td>\n",
              "      <td>18</td>\n",
              "      <td>2</td>\n",
              "      <td>2</td>\n",
              "      <td>3.0</td>\n",
              "      <td>5</td>\n",
              "      <td>2.0</td>\n",
              "      <td>2</td>\n",
              "      <td>8.0</td>\n",
              "      <td>58</td>\n",
              "      <td>5.478</td>\n",
              "      <td>5696094.0</td>\n",
              "      <td>41.0</td>\n",
              "      <td>01:27.7</td>\n",
              "      <td>217.586</td>\n",
              "      <td>1</td>\n",
              "      <td>bmw_sauber</td>\n",
              "      <td>BMW Sauber</td>\n",
              "      <td>2008</td>\n",
              "      <td>1</td>\n",
              "      <td>1</td>\n",
              "      <td>Australian Grand Prix</td>\n",
              "      <td>2008-03-16</td>\n",
              "      <td>albert_park</td>\n",
              "      <td>Albert Park Grand Prix Circuit</td>\n",
              "      <td>Melbourne</td>\n",
              "      <td>Australia</td>\n",
              "      <td>heidfeld</td>\n",
              "      <td>Nick</td>\n",
              "      <td>Heidfeld</td>\n",
              "      <td>10/05/1977</td>\n",
              "      <td>German</td>\n",
              "      <td>Finished</td>\n",
              "      <td>87.7</td>\n",
              "      <td>60.440556</td>\n",
              "      <td>5300.636722</td>\n",
              "    </tr>\n",
              "    <tr>\n",
              "      <th>2</th>\n",
              "      <td>3</td>\n",
              "      <td>18</td>\n",
              "      <td>3</td>\n",
              "      <td>3</td>\n",
              "      <td>7.0</td>\n",
              "      <td>7</td>\n",
              "      <td>3.0</td>\n",
              "      <td>3</td>\n",
              "      <td>6.0</td>\n",
              "      <td>58</td>\n",
              "      <td>8.163</td>\n",
              "      <td>5698779.0</td>\n",
              "      <td>41.0</td>\n",
              "      <td>01:28.1</td>\n",
              "      <td>216.719</td>\n",
              "      <td>1</td>\n",
              "      <td>williams</td>\n",
              "      <td>Williams</td>\n",
              "      <td>2008</td>\n",
              "      <td>1</td>\n",
              "      <td>1</td>\n",
              "      <td>Australian Grand Prix</td>\n",
              "      <td>2008-03-16</td>\n",
              "      <td>albert_park</td>\n",
              "      <td>Albert Park Grand Prix Circuit</td>\n",
              "      <td>Melbourne</td>\n",
              "      <td>Australia</td>\n",
              "      <td>rosberg</td>\n",
              "      <td>Nico</td>\n",
              "      <td>Rosberg</td>\n",
              "      <td>27/06/1985</td>\n",
              "      <td>German</td>\n",
              "      <td>Finished</td>\n",
              "      <td>88.1</td>\n",
              "      <td>60.199722</td>\n",
              "      <td>5303.595528</td>\n",
              "    </tr>\n",
              "    <tr>\n",
              "      <th>3</th>\n",
              "      <td>4</td>\n",
              "      <td>18</td>\n",
              "      <td>4</td>\n",
              "      <td>4</td>\n",
              "      <td>5.0</td>\n",
              "      <td>11</td>\n",
              "      <td>4.0</td>\n",
              "      <td>4</td>\n",
              "      <td>5.0</td>\n",
              "      <td>58</td>\n",
              "      <td>17.181</td>\n",
              "      <td>5707797.0</td>\n",
              "      <td>58.0</td>\n",
              "      <td>01:28.6</td>\n",
              "      <td>215.464</td>\n",
              "      <td>1</td>\n",
              "      <td>renault</td>\n",
              "      <td>Renault</td>\n",
              "      <td>2008</td>\n",
              "      <td>1</td>\n",
              "      <td>1</td>\n",
              "      <td>Australian Grand Prix</td>\n",
              "      <td>2008-03-16</td>\n",
              "      <td>albert_park</td>\n",
              "      <td>Albert Park Grand Prix Circuit</td>\n",
              "      <td>Melbourne</td>\n",
              "      <td>Australia</td>\n",
              "      <td>alonso</td>\n",
              "      <td>Fernando</td>\n",
              "      <td>Alonso</td>\n",
              "      <td>29/07/1981</td>\n",
              "      <td>Spanish</td>\n",
              "      <td>Finished</td>\n",
              "      <td>88.6</td>\n",
              "      <td>59.851111</td>\n",
              "      <td>5302.808444</td>\n",
              "    </tr>\n",
              "    <tr>\n",
              "      <th>4</th>\n",
              "      <td>5</td>\n",
              "      <td>18</td>\n",
              "      <td>5</td>\n",
              "      <td>1</td>\n",
              "      <td>23.0</td>\n",
              "      <td>3</td>\n",
              "      <td>5.0</td>\n",
              "      <td>5</td>\n",
              "      <td>4.0</td>\n",
              "      <td>58</td>\n",
              "      <td>18.014</td>\n",
              "      <td>5708630.0</td>\n",
              "      <td>43.0</td>\n",
              "      <td>01:27.4</td>\n",
              "      <td>218.385</td>\n",
              "      <td>1</td>\n",
              "      <td>mclaren</td>\n",
              "      <td>McLaren</td>\n",
              "      <td>2008</td>\n",
              "      <td>1</td>\n",
              "      <td>1</td>\n",
              "      <td>Australian Grand Prix</td>\n",
              "      <td>2008-03-16</td>\n",
              "      <td>albert_park</td>\n",
              "      <td>Albert Park Grand Prix Circuit</td>\n",
              "      <td>Melbourne</td>\n",
              "      <td>Australia</td>\n",
              "      <td>kovalainen</td>\n",
              "      <td>Heikki</td>\n",
              "      <td>Kovalainen</td>\n",
              "      <td>19/10/1981</td>\n",
              "      <td>Finnish</td>\n",
              "      <td>Finished</td>\n",
              "      <td>87.4</td>\n",
              "      <td>60.662500</td>\n",
              "      <td>5301.902500</td>\n",
              "    </tr>\n",
              "  </tbody>\n",
              "</table>\n",
              "</div>"
            ],
            "text/plain": [
              "   resultId  raceId  ...  fastestLapSpeedMps      lapDist\n",
              "0         1      18  ...           60.638889  5305.902778\n",
              "1         2      18  ...           60.440556  5300.636722\n",
              "2         3      18  ...           60.199722  5303.595528\n",
              "3         4      18  ...           59.851111  5302.808444\n",
              "4         5      18  ...           60.662500  5301.902500\n",
              "\n",
              "[5 rows x 36 columns]"
            ]
          },
          "metadata": {
            "tags": []
          },
          "execution_count": 44
        }
      ]
    },
    {
      "cell_type": "markdown",
      "metadata": {
        "id": "WxaSSHNR5bcm"
      },
      "source": [
        "Após analisarmos melhor os dados percebemos que a velocidade das voltas estavam sendo medidas em MPH e a distância da pista medida em metros, portanto vamos realizar as respectivas conversões"
      ]
    },
    {
      "cell_type": "code",
      "metadata": {
        "id": "H5s82D2544Gl",
        "outputId": "8c93e676-3d8d-4eb5-c6e5-7732f91467cd",
        "colab": {
          "base_uri": "https://localhost:8080/",
          "height": 204
        }
      },
      "source": [
        "df['fastestLapSpeed'] = df['fastestLapSpeed']*1.61\n",
        "df['lapDist'] = df['lapDist'] / 1000\n",
        "df[['country','circuitName', 'lapDist','fastestLapSpeed']].head()"
      ],
      "execution_count": null,
      "outputs": [
        {
          "output_type": "execute_result",
          "data": {
            "text/html": [
              "<div>\n",
              "<style scoped>\n",
              "    .dataframe tbody tr th:only-of-type {\n",
              "        vertical-align: middle;\n",
              "    }\n",
              "\n",
              "    .dataframe tbody tr th {\n",
              "        vertical-align: top;\n",
              "    }\n",
              "\n",
              "    .dataframe thead th {\n",
              "        text-align: right;\n",
              "    }\n",
              "</style>\n",
              "<table border=\"1\" class=\"dataframe\">\n",
              "  <thead>\n",
              "    <tr style=\"text-align: right;\">\n",
              "      <th></th>\n",
              "      <th>country</th>\n",
              "      <th>circuitName</th>\n",
              "      <th>lapDist</th>\n",
              "      <th>fastestLapSpeed</th>\n",
              "    </tr>\n",
              "  </thead>\n",
              "  <tbody>\n",
              "    <tr>\n",
              "      <th>0</th>\n",
              "      <td>Australia</td>\n",
              "      <td>Albert Park Grand Prix Circuit</td>\n",
              "      <td>5.305903</td>\n",
              "      <td>351.46300</td>\n",
              "    </tr>\n",
              "    <tr>\n",
              "      <th>1</th>\n",
              "      <td>Australia</td>\n",
              "      <td>Albert Park Grand Prix Circuit</td>\n",
              "      <td>5.300637</td>\n",
              "      <td>350.31346</td>\n",
              "    </tr>\n",
              "    <tr>\n",
              "      <th>2</th>\n",
              "      <td>Australia</td>\n",
              "      <td>Albert Park Grand Prix Circuit</td>\n",
              "      <td>5.303596</td>\n",
              "      <td>348.91759</td>\n",
              "    </tr>\n",
              "    <tr>\n",
              "      <th>3</th>\n",
              "      <td>Australia</td>\n",
              "      <td>Albert Park Grand Prix Circuit</td>\n",
              "      <td>5.302808</td>\n",
              "      <td>346.89704</td>\n",
              "    </tr>\n",
              "    <tr>\n",
              "      <th>4</th>\n",
              "      <td>Australia</td>\n",
              "      <td>Albert Park Grand Prix Circuit</td>\n",
              "      <td>5.301902</td>\n",
              "      <td>351.59985</td>\n",
              "    </tr>\n",
              "  </tbody>\n",
              "</table>\n",
              "</div>"
            ],
            "text/plain": [
              "     country                     circuitName   lapDist  fastestLapSpeed\n",
              "0  Australia  Albert Park Grand Prix Circuit  5.305903        351.46300\n",
              "1  Australia  Albert Park Grand Prix Circuit  5.300637        350.31346\n",
              "2  Australia  Albert Park Grand Prix Circuit  5.303596        348.91759\n",
              "3  Australia  Albert Park Grand Prix Circuit  5.302808        346.89704\n",
              "4  Australia  Albert Park Grand Prix Circuit  5.301902        351.59985"
            ]
          },
          "metadata": {
            "tags": []
          },
          "execution_count": 45
        }
      ]
    },
    {
      "cell_type": "code",
      "metadata": {
        "id": "mkGmgIQkiXq1",
        "outputId": "14caa9a3-efd3-4f5a-eceb-90a2ac20454d",
        "colab": {
          "base_uri": "https://localhost:8080/",
          "height": 824
        }
      },
      "source": [
        "#df.plot.scatter(x='country', y='lapDist')\n",
        "df_lapDist = df.groupby(['country'],as_index=False).agg({'lapDist':'mean'}).sort_values('lapDist',ascending=False).copy()\n",
        "df_lapDist = df_lapDist.iloc[0:25]\n",
        "df_lapDist"
      ],
      "execution_count": null,
      "outputs": [
        {
          "output_type": "execute_result",
          "data": {
            "text/html": [
              "<div>\n",
              "<style scoped>\n",
              "    .dataframe tbody tr th:only-of-type {\n",
              "        vertical-align: middle;\n",
              "    }\n",
              "\n",
              "    .dataframe tbody tr th {\n",
              "        vertical-align: top;\n",
              "    }\n",
              "\n",
              "    .dataframe thead th {\n",
              "        text-align: right;\n",
              "    }\n",
              "</style>\n",
              "<table border=\"1\" class=\"dataframe\">\n",
              "  <thead>\n",
              "    <tr style=\"text-align: right;\">\n",
              "      <th></th>\n",
              "      <th>country</th>\n",
              "      <th>lapDist</th>\n",
              "    </tr>\n",
              "  </thead>\n",
              "  <tbody>\n",
              "    <tr>\n",
              "      <th>5</th>\n",
              "      <td>Belgium</td>\n",
              "      <td>7.000153</td>\n",
              "    </tr>\n",
              "    <tr>\n",
              "      <th>3</th>\n",
              "      <td>Azerbaijan</td>\n",
              "      <td>6.002895</td>\n",
              "    </tr>\n",
              "    <tr>\n",
              "      <th>22</th>\n",
              "      <td>Russia</td>\n",
              "      <td>5.848062</td>\n",
              "    </tr>\n",
              "    <tr>\n",
              "      <th>13</th>\n",
              "      <td>Italy</td>\n",
              "      <td>5.644613</td>\n",
              "    </tr>\n",
              "    <tr>\n",
              "      <th>14</th>\n",
              "      <td>Japan</td>\n",
              "      <td>5.629909</td>\n",
              "    </tr>\n",
              "    <tr>\n",
              "      <th>15</th>\n",
              "      <td>Korea</td>\n",
              "      <td>5.614988</td>\n",
              "    </tr>\n",
              "    <tr>\n",
              "      <th>30</th>\n",
              "      <td>UK</td>\n",
              "      <td>5.580127</td>\n",
              "    </tr>\n",
              "    <tr>\n",
              "      <th>29</th>\n",
              "      <td>UAE</td>\n",
              "      <td>5.553881</td>\n",
              "    </tr>\n",
              "    <tr>\n",
              "      <th>16</th>\n",
              "      <td>Malaysia</td>\n",
              "      <td>5.543269</td>\n",
              "    </tr>\n",
              "    <tr>\n",
              "      <th>4</th>\n",
              "      <td>Bahrain</td>\n",
              "      <td>5.487970</td>\n",
              "    </tr>\n",
              "    <tr>\n",
              "      <th>8</th>\n",
              "      <td>China</td>\n",
              "      <td>5.451025</td>\n",
              "    </tr>\n",
              "    <tr>\n",
              "      <th>28</th>\n",
              "      <td>Turkey</td>\n",
              "      <td>5.338047</td>\n",
              "    </tr>\n",
              "    <tr>\n",
              "      <th>1</th>\n",
              "      <td>Australia</td>\n",
              "      <td>5.303064</td>\n",
              "    </tr>\n",
              "    <tr>\n",
              "      <th>12</th>\n",
              "      <td>India</td>\n",
              "      <td>5.124836</td>\n",
              "    </tr>\n",
              "    <tr>\n",
              "      <th>31</th>\n",
              "      <td>USA</td>\n",
              "      <td>5.094994</td>\n",
              "    </tr>\n",
              "    <tr>\n",
              "      <th>23</th>\n",
              "      <td>Singapore</td>\n",
              "      <td>5.068625</td>\n",
              "    </tr>\n",
              "    <tr>\n",
              "      <th>25</th>\n",
              "      <td>Spain</td>\n",
              "      <td>4.861496</td>\n",
              "    </tr>\n",
              "    <tr>\n",
              "      <th>10</th>\n",
              "      <td>Germany</td>\n",
              "      <td>4.839228</td>\n",
              "    </tr>\n",
              "    <tr>\n",
              "      <th>9</th>\n",
              "      <td>France</td>\n",
              "      <td>4.411157</td>\n",
              "    </tr>\n",
              "    <tr>\n",
              "      <th>11</th>\n",
              "      <td>Hungary</td>\n",
              "      <td>4.381053</td>\n",
              "    </tr>\n",
              "    <tr>\n",
              "      <th>7</th>\n",
              "      <td>Canada</td>\n",
              "      <td>4.361052</td>\n",
              "    </tr>\n",
              "    <tr>\n",
              "      <th>2</th>\n",
              "      <td>Austria</td>\n",
              "      <td>4.323852</td>\n",
              "    </tr>\n",
              "    <tr>\n",
              "      <th>6</th>\n",
              "      <td>Brazil</td>\n",
              "      <td>4.309131</td>\n",
              "    </tr>\n",
              "    <tr>\n",
              "      <th>17</th>\n",
              "      <td>Mexico</td>\n",
              "      <td>4.304119</td>\n",
              "    </tr>\n",
              "    <tr>\n",
              "      <th>18</th>\n",
              "      <td>Monaco</td>\n",
              "      <td>3.339459</td>\n",
              "    </tr>\n",
              "  </tbody>\n",
              "</table>\n",
              "</div>"
            ],
            "text/plain": [
              "       country   lapDist\n",
              "5      Belgium  7.000153\n",
              "3   Azerbaijan  6.002895\n",
              "22      Russia  5.848062\n",
              "13       Italy  5.644613\n",
              "14       Japan  5.629909\n",
              "15       Korea  5.614988\n",
              "30          UK  5.580127\n",
              "29         UAE  5.553881\n",
              "16    Malaysia  5.543269\n",
              "4      Bahrain  5.487970\n",
              "8        China  5.451025\n",
              "28      Turkey  5.338047\n",
              "1    Australia  5.303064\n",
              "12       India  5.124836\n",
              "31         USA  5.094994\n",
              "23   Singapore  5.068625\n",
              "25       Spain  4.861496\n",
              "10     Germany  4.839228\n",
              "9       France  4.411157\n",
              "11     Hungary  4.381053\n",
              "7       Canada  4.361052\n",
              "2      Austria  4.323852\n",
              "6       Brazil  4.309131\n",
              "17      Mexico  4.304119\n",
              "18      Monaco  3.339459"
            ]
          },
          "metadata": {
            "tags": []
          },
          "execution_count": 46
        }
      ]
    },
    {
      "cell_type": "code",
      "metadata": {
        "id": "ReeSo12WtlGu",
        "outputId": "adefa0d9-e3c9-4efe-989d-a743b7f0a2bc",
        "colab": {
          "base_uri": "https://localhost:8080/",
          "height": 313
        }
      },
      "source": [
        "my_colors = 'rgbkymc'\n",
        "fig, ax = plt.subplots(figsize = (30, 5))\n",
        "ax.bar(df_lapDist['country'],  df_lapDist['lapDist'], color = my_colors)\n",
        "ax.set(xlabel = 'país'\n",
        "       , ylabel = 'valor em km'\n",
        "       , title = 'Tamanho dos circuitos por país')\n",
        "\n",
        "plt.show()"
      ],
      "execution_count": null,
      "outputs": [
        {
          "output_type": "stream",
          "text": [
            "/usr/local/lib/python3.6/dist-packages/ipykernel_launcher.py:3: MatplotlibDeprecationWarning: Using a string of single character colors as a color sequence is deprecated. Use an explicit list instead.\n",
            "  This is separate from the ipykernel package so we can avoid doing imports until\n"
          ],
          "name": "stderr"
        },
        {
          "output_type": "display_data",
          "data": {
            "image/png": "[encoded data removed]",
            "text/plain": [
              "<Figure size 2160x360 with 1 Axes>"
            ]
          },
          "metadata": {
            "tags": [],
            "needs_background": "light"
          }
        }
      ]
    },
    {
      "cell_type": "markdown",
      "metadata": {
        "id": "wcTjstsKwl7M"
      },
      "source": [
        "# **Agora que lidamos com alguns parâmetros e fizemos correções, mãos à obra!!**"
      ]
    },
    {
      "cell_type": "markdown",
      "metadata": {
        "id": "JFfzbs_UwxgQ"
      },
      "source": [
        "Como que está o desempenho dos carros ao longo do tempo?\n",
        "\n",
        "\n",
        "\n",
        "antes de tudo, vamos verificar se está tudo ok com a informação de velocidade."
      ]
    },
    {
      "cell_type": "code",
      "metadata": {
        "id": "SiWpzoH-waFq",
        "outputId": "13ce18ae-31c9-4431-94ce-d3dfff383eb5",
        "colab": {
          "base_uri": "https://localhost:8080/",
          "height": 34
        }
      },
      "source": [
        "dados_vel = df.copy()\n",
        "\n",
        "len(dados_vel[dados_vel['fastestLapSpeed'].isna()]) / len(dados_vel)"
      ],
      "execution_count": null,
      "outputs": [
        {
          "output_type": "execute_result",
          "data": {
            "text/plain": [
              "0.7736047440804138"
            ]
          },
          "metadata": {
            "tags": []
          },
          "execution_count": 48
        }
      ]
    },
    {
      "cell_type": "markdown",
      "metadata": {
        "id": "KJ-5ByV5ysnB"
      },
      "source": [
        "como podemos perceber, cerca de 77% da informação de velocidade está em branco, ou seja, precisamos tratar esses casos.\n",
        "\n",
        "para isso vamos olhar quais anos possuem essa quantidade de dados faltantes"
      ]
    },
    {
      "cell_type": "code",
      "metadata": {
        "id": "hZDhbw99zCU3",
        "outputId": "ffdb4686-a159-4183-9720-e61a673d789e",
        "colab": {
          "base_uri": "https://localhost:8080/",
          "height": 296
        }
      },
      "source": [
        "dados_vel[dados_vel['fastestLapSpeed'].isna()].groupby(['year']).agg({'raceId': 'count'}).plot()"
      ],
      "execution_count": null,
      "outputs": [
        {
          "output_type": "execute_result",
          "data": {
            "text/plain": [
              "<matplotlib.axes._subplots.AxesSubplot at 0x7fbff9c0c8d0>"
            ]
          },
          "metadata": {
            "tags": []
          },
          "execution_count": 49
        },
        {
          "output_type": "display_data",
          "data": {
            "image/png": "[encoded data removed]",
            "text/plain": [
              "<Figure size 432x288 with 1 Axes>"
            ]
          },
          "metadata": {
            "tags": [],
            "needs_background": "light"
          }
        }
      ]
    },
    {
      "cell_type": "code",
      "metadata": {
        "id": "c9ETchGH02aX",
        "outputId": "c2a2dac3-c150-4e17-a268-6649efbd3268",
        "colab": {
          "base_uri": "https://localhost:8080/",
          "height": 296
        }
      },
      "source": [
        "dados_vel[dados_vel['fastestLapSpeed'].isna()].groupby(['year']).agg({'raceId': 'count'}).loc[2000:].plot()"
      ],
      "execution_count": null,
      "outputs": [
        {
          "output_type": "execute_result",
          "data": {
            "text/plain": [
              "<matplotlib.axes._subplots.AxesSubplot at 0x7fbff9b62470>"
            ]
          },
          "metadata": {
            "tags": []
          },
          "execution_count": 50
        },
        {
          "output_type": "display_data",
          "data": {
            "image/png": "[encoded data removed]",
            "text/plain": [
              "<Figure size 432x288 with 1 Axes>"
            ]
          },
          "metadata": {
            "tags": [],
            "needs_background": "light"
          }
        }
      ]
    },
    {
      "cell_type": "markdown",
      "metadata": {
        "id": "HLW0OT0aziL0"
      },
      "source": [
        "podemos verificar que a partir até mais ou menos 2004 existe uma grande quantidade de informação nula sobre a velocidade dos pilotos, portanto vamos apenas trabalhar com os dados de 2004 até os anos mais recentes."
      ]
    },
    {
      "cell_type": "code",
      "metadata": {
        "id": "P2oXTnO1zhab",
        "outputId": "367897ff-3dc9-4937-8f49-a9724050bfbb",
        "colab": {
          "base_uri": "https://localhost:8080/",
          "height": 646
        }
      },
      "source": [
        "velOrg = dados_vel.copy()\n",
        "\n",
        "dados_vel = dados_vel[dados_vel['year'] >= 2004]\n",
        "dados_vel.isna().sum()"
      ],
      "execution_count": null,
      "outputs": [
        {
          "output_type": "execute_result",
          "data": {
            "text/plain": [
              "resultId                 0\n",
              "raceId                   0\n",
              "driverId                 0\n",
              "constructorId            0\n",
              "number                   0\n",
              "grid                     0\n",
              "position              1191\n",
              "positionText             0\n",
              "points                   0\n",
              "laps                     0\n",
              "time                  3049\n",
              "milliseconds          3049\n",
              "fastestLap             288\n",
              "fastestLapTime         288\n",
              "fastestLapSpeed        288\n",
              "statusId                 0\n",
              "constructorRef           0\n",
              "constructorName          0\n",
              "year                     0\n",
              "round                    0\n",
              "circuitId                0\n",
              "raceName                 0\n",
              "raceDate                 0\n",
              "circuitRef               0\n",
              "circuitName              0\n",
              "location                 0\n",
              "country                  0\n",
              "driverRef                0\n",
              "forename                 0\n",
              "surname                  0\n",
              "dob                      0\n",
              "nationality              0\n",
              "status                   0\n",
              "fastestLapTimeSeg      288\n",
              "fastestLapSpeedMps     288\n",
              "lapDist                288\n",
              "dtype: int64"
            ]
          },
          "metadata": {
            "tags": []
          },
          "execution_count": 51
        }
      ]
    },
    {
      "cell_type": "markdown",
      "metadata": {
        "id": "Epq0RxvS251_"
      },
      "source": [
        "podemos perceber que ainda existem dados nulos, vamos compará-los ao dataset original para verificar quão foi o impacto da remoção das velocidades nulas anteriores a 2004."
      ]
    },
    {
      "cell_type": "code",
      "metadata": {
        "id": "OJt9hd4I3FDi",
        "outputId": "1fa545d4-9da8-40e6-eb83-1426a0f35b9d",
        "colab": {
          "base_uri": "https://localhost:8080/",
          "height": 34
        }
      },
      "source": [
        "dados_vel['fastestLapSpeed'].isna().sum()/len(dados_vel)"
      ],
      "execution_count": null,
      "outputs": [
        {
          "output_type": "execute_result",
          "data": {
            "text/plain": [
              "0.05078469405748545"
            ]
          },
          "metadata": {
            "tags": []
          },
          "execution_count": 52
        }
      ]
    },
    {
      "cell_type": "markdown",
      "metadata": {
        "id": "3yiJcI2y7HQn"
      },
      "source": [
        "por conhecer o domínio, sabemos que existem pilotos que não foram capazes de terminar a corrida por qualquer motivo que seja. Suspeitamos que essa é a razão de boa parte dos dados faltantes, portanto vamos filtrar os status dos pilotos para analisar somente as velocidades daqueles que conseguiram terminar a corrida"
      ]
    },
    {
      "cell_type": "code",
      "metadata": {
        "id": "PE1IDGS97baF",
        "outputId": "4439f85e-773e-409f-ed98-5d0775022bd1",
        "colab": {
          "base_uri": "https://localhost:8080/",
          "height": 306
        }
      },
      "source": [
        "finalistas = dados_vel[(dados_vel['status'].str.startswith('+')) | (dados_vel['status'] == 'Finished')]['status'].drop_duplicates()\n",
        "finalistas = list(finalistas)\n",
        "finalistas"
      ],
      "execution_count": null,
      "outputs": [
        {
          "output_type": "execute_result",
          "data": {
            "text/plain": [
              "['Finished',\n",
              " '+1 Lap',\n",
              " '+2 Laps',\n",
              " '+4 Laps',\n",
              " '+3 Laps',\n",
              " '+11 Laps',\n",
              " '+5 Laps',\n",
              " '+17 Laps',\n",
              " '+12 Laps',\n",
              " '+7 Laps',\n",
              " '+26 Laps',\n",
              " '+6 Laps',\n",
              " '+8 Laps',\n",
              " '+10 Laps',\n",
              " '+9 Laps',\n",
              " '+42 Laps',\n",
              " '+14 Laps']"
            ]
          },
          "metadata": {
            "tags": []
          },
          "execution_count": 53
        }
      ]
    },
    {
      "cell_type": "code",
      "metadata": {
        "id": "PTFpcibn7wYa",
        "outputId": "4528c5e3-5425-4ce1-e5b8-ac62f7b9a6de",
        "colab": {
          "base_uri": "https://localhost:8080/",
          "height": 34
        }
      },
      "source": [
        "len(dados_vel[(dados_vel['status'].isin(finalistas))]) / len(dados_vel)"
      ],
      "execution_count": null,
      "outputs": [
        {
          "output_type": "execute_result",
          "data": {
            "text/plain": [
              "0.7725268912008464"
            ]
          },
          "metadata": {
            "tags": []
          },
          "execution_count": 54
        }
      ]
    },
    {
      "cell_type": "code",
      "metadata": {
        "id": "wDizYBZX748V",
        "outputId": "e73ce67d-246a-48e3-cc16-d3d761cc9863",
        "colab": {
          "base_uri": "https://localhost:8080/",
          "height": 646
        }
      },
      "source": [
        "dados_vel = dados_vel[(dados_vel['status'].isin(finalistas))]\n",
        "dados_vel.isna().sum()"
      ],
      "execution_count": null,
      "outputs": [
        {
          "output_type": "execute_result",
          "data": {
            "text/plain": [
              "resultId                 0\n",
              "raceId                   0\n",
              "driverId                 0\n",
              "constructorId            0\n",
              "number                   0\n",
              "grid                     0\n",
              "position                16\n",
              "positionText             0\n",
              "points                   0\n",
              "laps                     0\n",
              "time                  1763\n",
              "milliseconds          1763\n",
              "fastestLap              24\n",
              "fastestLapTime          24\n",
              "fastestLapSpeed         24\n",
              "statusId                 0\n",
              "constructorRef           0\n",
              "constructorName          0\n",
              "year                     0\n",
              "round                    0\n",
              "circuitId                0\n",
              "raceName                 0\n",
              "raceDate                 0\n",
              "circuitRef               0\n",
              "circuitName              0\n",
              "location                 0\n",
              "country                  0\n",
              "driverRef                0\n",
              "forename                 0\n",
              "surname                  0\n",
              "dob                      0\n",
              "nationality              0\n",
              "status                   0\n",
              "fastestLapTimeSeg       24\n",
              "fastestLapSpeedMps      24\n",
              "lapDist                 24\n",
              "dtype: int64"
            ]
          },
          "metadata": {
            "tags": []
          },
          "execution_count": 55
        }
      ]
    },
    {
      "cell_type": "markdown",
      "metadata": {
        "id": "RpR8NefG8Uf_"
      },
      "source": [
        "como visto acima nós fomos capazes de eliminar uma grande parte dos registros problemáticos.\n",
        "\n",
        "vamos verificar qual o comportamento da velocidade media no GP do Brasil ao longo do tempo"
      ]
    },
    {
      "cell_type": "code",
      "metadata": {
        "id": "brrjrZ4uCLBu"
      },
      "source": [
        "dados_vel = dados_vel.groupby(['year', 'country'], as_index = False).agg({'fastestLapSpeed': np.median, 'lapDist': np.mean})"
      ],
      "execution_count": null,
      "outputs": []
    },
    {
      "cell_type": "code",
      "metadata": {
        "id": "qqdQl_F8Al4n",
        "outputId": "c1c72846-850d-4f20-e274-cab521819706",
        "colab": {
          "base_uri": "https://localhost:8080/",
          "height": 458
        }
      },
      "source": [
        "fig, ax = plt.subplots(figsize = (7,7))\n",
        "df_temp = dados_vel[dados_vel['country'] == 'Brazil']\n",
        "\n",
        "ax.scatter(df_temp['year'], df_temp['fastestLapSpeed'], color = '#0000FF')\n",
        "ax.set(xlabel = 'year'\n",
        "            , ylabel = 'media da velocidade (km/h)'\n",
        "            , title = 'velocidade por temporada GP Brasil(2004, 2011, 2017)'\n",
        "            , ylim = (0, 500)\n",
        "            , xlim = (2002, 2018))\n",
        "    # adição de uma linha vertical em 2011\n",
        "ax.axvline(x = 2011, color = '#a3a3a3', linewidth = 1, linestyle = 'dashed')\n",
        "    # adicionando labels para os 3 anos em destaque\n",
        "plt.text(x = 2004\n",
        "             , y = df_temp.iloc[0, 2] + 5\n",
        "             , s = '{} km/h'.format(round(df_temp.iloc[0, 2], 1))\n",
        "             , size = 8\n",
        "             , color = '#0000FF'\n",
        "             , ha = 'center')\n",
        "plt.text(x = 2011\n",
        "             , y = df_temp.iloc[10, 2] - 5\n",
        "             , s = '{}km/h'.format(round(df_temp.iloc[10, 2], 1))\n",
        "             , size = 8\n",
        "             , color = '#0000FF'\n",
        "             , ha = 'center')\n",
        "plt.text(x = 2017\n",
        "             , y = df_temp.iloc[13, 2] - 15\n",
        "             , s = '{}km/h'.format(round(df_temp.iloc[13, 2], 1))\n",
        "             , size = 9\n",
        "             , color = '#0000FF'\n",
        "             , ha = 'center')\n",
        "plt.show()"
      ],
      "execution_count": null,
      "outputs": [
        {
          "output_type": "display_data",
          "data": {
            "image/png": "[encoded data removed]",
            "text/plain": [
              "<Figure size 504x504 with 1 Axes>"
            ]
          },
          "metadata": {
            "tags": [],
            "needs_background": "light"
          }
        }
      ]
    },
    {
      "cell_type": "markdown",
      "metadata": {
        "id": "t0aUIqcgoYJ9"
      },
      "source": [
        "Agora queremos saber quais são as nações que possuem a maior quantidade de pontos ganhos e, consequentemente, as mais vencedoras da história da F1.\n",
        "\n",
        "Para isso vamos somar os pontos ganhos por nacionalidade e a porcentagem relativa para determinar esse critério desejado."
      ]
    },
    {
      "cell_type": "code",
      "metadata": {
        "id": "y2Gr4lnfmQeI",
        "outputId": "f85634ab-1fc3-4a65-cdb1-979f051be270",
        "colab": {
          "base_uri": "https://localhost:8080/",
          "height": 204
        }
      },
      "source": [
        "df_nationality = df.groupby(['nationality'],as_index=False).agg({'points' : 'sum'}).sort_values('points',ascending=False).copy()\n",
        "df_nationality['points_pct'] = df_nationality['points'] / df_nationality['points'].sum()\n",
        "df_nationality['points_pct'] = df_nationality['points_pct']*100\n",
        "df_nationality = df_nationality.iloc[0:10]\n",
        "df_nationality.head()"
      ],
      "execution_count": null,
      "outputs": [
        {
          "output_type": "execute_result",
          "data": {
            "text/html": [
              "<div>\n",
              "<style scoped>\n",
              "    .dataframe tbody tr th:only-of-type {\n",
              "        vertical-align: middle;\n",
              "    }\n",
              "\n",
              "    .dataframe tbody tr th {\n",
              "        vertical-align: top;\n",
              "    }\n",
              "\n",
              "    .dataframe thead th {\n",
              "        text-align: right;\n",
              "    }\n",
              "</style>\n",
              "<table border=\"1\" class=\"dataframe\">\n",
              "  <thead>\n",
              "    <tr style=\"text-align: right;\">\n",
              "      <th></th>\n",
              "      <th>nationality</th>\n",
              "      <th>points</th>\n",
              "      <th>points_pct</th>\n",
              "    </tr>\n",
              "  </thead>\n",
              "  <tbody>\n",
              "    <tr>\n",
              "      <th>8</th>\n",
              "      <td>British</td>\n",
              "      <td>8077.14</td>\n",
              "      <td>21.212899</td>\n",
              "    </tr>\n",
              "    <tr>\n",
              "      <th>18</th>\n",
              "      <td>German</td>\n",
              "      <td>7145.50</td>\n",
              "      <td>18.766143</td>\n",
              "    </tr>\n",
              "    <tr>\n",
              "      <th>7</th>\n",
              "      <td>Brazilian</td>\n",
              "      <td>3423.00</td>\n",
              "      <td>8.989785</td>\n",
              "    </tr>\n",
              "    <tr>\n",
              "      <th>16</th>\n",
              "      <td>Finnish</td>\n",
              "      <td>3008.50</td>\n",
              "      <td>7.901189</td>\n",
              "    </tr>\n",
              "    <tr>\n",
              "      <th>17</th>\n",
              "      <td>French</td>\n",
              "      <td>2810.33</td>\n",
              "      <td>7.380737</td>\n",
              "    </tr>\n",
              "  </tbody>\n",
              "</table>\n",
              "</div>"
            ],
            "text/plain": [
              "   nationality   points  points_pct\n",
              "8      British  8077.14   21.212899\n",
              "18      German  7145.50   18.766143\n",
              "7    Brazilian  3423.00    8.989785\n",
              "16     Finnish  3008.50    7.901189\n",
              "17      French  2810.33    7.380737"
            ]
          },
          "metadata": {
            "tags": []
          },
          "execution_count": 58
        }
      ]
    },
    {
      "cell_type": "markdown",
      "metadata": {
        "id": "0Evbk3UIpART"
      },
      "source": [
        "Como são diversos países deixaria a visualização muito mais difícil, portanto vamos focar apenas no top 10."
      ]
    },
    {
      "cell_type": "code",
      "metadata": {
        "id": "8YjtOH4HniMY",
        "outputId": "baeec839-52c3-4f55-d74a-69a35c4aafbb",
        "colab": {
          "base_uri": "https://localhost:8080/",
          "height": 350
        }
      },
      "source": [
        "import matplotlib.ticker as mtick\n",
        "fig, ax = plt.subplots(figsize = (15, 5))\n",
        "ax.bar(df_nationality['nationality'],  df_nationality['points_pct'], color = '#0000FF')\n",
        "ax.set(xlabel = 'nacionalidade'\n",
        "       , ylabel = '% de pontos ganhos'\n",
        "       , title = 'Top 10 nacionalidades em porcentagem')\n",
        "ax.get_children()[2].set_color('#D01C1FFF') \n",
        "plt.text(x = 2 - 0.15\n",
        "         , y = df_nationality['points_pct'].iloc[2] + 0.5\n",
        "         , s = '{}%'.format(round(df_nationality['points_pct'].iloc[2], 1))\n",
        "         , size = 10\n",
        "         , color = '#D01C1FFF'\n",
        "         , weight = 'bold')\n",
        "ax.yaxis.set_major_formatter(mtick.PercentFormatter())\n",
        "plt.show()"
      ],
      "execution_count": null,
      "outputs": [
        {
          "output_type": "display_data",
          "data": {
            "image/png": "[encoded data removed]",
            "text/plain": [
              "<Figure size 1080x360 with 1 Axes>"
            ]
          },
          "metadata": {
            "tags": [],
            "needs_background": "light"
          }
        }
      ]
    },
    {
      "cell_type": "markdown",
      "metadata": {
        "id": "4fte0XgUqdM5"
      },
      "source": [
        "O quanto a posição inicial do grid de largada influencia no resultado final da corrida?"
      ]
    },
    {
      "cell_type": "code",
      "metadata": {
        "id": "VLg3Fu1Pqchc",
        "outputId": "df9c2da1-49e6-48cd-a53a-d0d6d9d44769",
        "colab": {
          "base_uri": "https://localhost:8080/",
          "height": 204
        }
      },
      "source": [
        "# data stuff\n",
        "df_pos = df[['grid', 'position']].copy()\n",
        "df_pos = df_pos.dropna()\n",
        "df_pos.head()"
      ],
      "execution_count": null,
      "outputs": [
        {
          "output_type": "execute_result",
          "data": {
            "text/html": [
              "<div>\n",
              "<style scoped>\n",
              "    .dataframe tbody tr th:only-of-type {\n",
              "        vertical-align: middle;\n",
              "    }\n",
              "\n",
              "    .dataframe tbody tr th {\n",
              "        vertical-align: top;\n",
              "    }\n",
              "\n",
              "    .dataframe thead th {\n",
              "        text-align: right;\n",
              "    }\n",
              "</style>\n",
              "<table border=\"1\" class=\"dataframe\">\n",
              "  <thead>\n",
              "    <tr style=\"text-align: right;\">\n",
              "      <th></th>\n",
              "      <th>grid</th>\n",
              "      <th>position</th>\n",
              "    </tr>\n",
              "  </thead>\n",
              "  <tbody>\n",
              "    <tr>\n",
              "      <th>0</th>\n",
              "      <td>1</td>\n",
              "      <td>1.0</td>\n",
              "    </tr>\n",
              "    <tr>\n",
              "      <th>1</th>\n",
              "      <td>5</td>\n",
              "      <td>2.0</td>\n",
              "    </tr>\n",
              "    <tr>\n",
              "      <th>2</th>\n",
              "      <td>7</td>\n",
              "      <td>3.0</td>\n",
              "    </tr>\n",
              "    <tr>\n",
              "      <th>3</th>\n",
              "      <td>11</td>\n",
              "      <td>4.0</td>\n",
              "    </tr>\n",
              "    <tr>\n",
              "      <th>4</th>\n",
              "      <td>3</td>\n",
              "      <td>5.0</td>\n",
              "    </tr>\n",
              "  </tbody>\n",
              "</table>\n",
              "</div>"
            ],
            "text/plain": [
              "   grid  position\n",
              "0     1       1.0\n",
              "1     5       2.0\n",
              "2     7       3.0\n",
              "3    11       4.0\n",
              "4     3       5.0"
            ]
          },
          "metadata": {
            "tags": []
          },
          "execution_count": 60
        }
      ]
    },
    {
      "cell_type": "code",
      "metadata": {
        "id": "AvC66t68qunR",
        "outputId": "00737175-7316-4593-c3a6-b4494a9377c3",
        "colab": {
          "base_uri": "https://localhost:8080/",
          "height": 513
        }
      },
      "source": [
        "fig, ax = plt.subplots(figsize = (8, 8))\n",
        "ax.scatter(df_pos['grid'], df_pos['position'], alpha = 0.05, color = '#0000FF')\n",
        "ax.set(xlabel = 'grid de largada'\n",
        "       , ylabel = 'posição final'\n",
        "       , title = 'Grid vs Final')\n",
        "plt.show()"
      ],
      "execution_count": null,
      "outputs": [
        {
          "output_type": "display_data",
          "data": {
            "image/png": "[encoded data removed]",
            "text/plain": [
              "<Figure size 576x576 with 1 Axes>"
            ]
          },
          "metadata": {
            "tags": [],
            "needs_background": "light"
          }
        }
      ]
    },
    {
      "cell_type": "markdown",
      "metadata": {
        "id": "QEqAAmO7rD3y"
      },
      "source": [
        "Conforme mostrado pelas cores visualizadas no gráfico, podemos supor que existe uma correlação entre a posição inicial do grid de largada com o resultado final do piloto na corrida.\n",
        "\n",
        "Para tentar provar se existe ou não essa correlação, vamos utilizar técnicas de detecção de outliers para polir os nossos danos bem como testes de hipótese que afirmem ou conteste a nossa suposição."
      ]
    },
    {
      "cell_type": "code",
      "metadata": {
        "id": "nDr4uLxR5Mbo",
        "outputId": "873b54e9-fdbf-482b-e9e7-9d3529d2ea11",
        "colab": {
          "base_uri": "https://localhost:8080/",
          "height": 297
        }
      },
      "source": [
        "df_pos.describe()\n"
      ],
      "execution_count": null,
      "outputs": [
        {
          "output_type": "execute_result",
          "data": {
            "text/html": [
              "<div>\n",
              "<style scoped>\n",
              "    .dataframe tbody tr th:only-of-type {\n",
              "        vertical-align: middle;\n",
              "    }\n",
              "\n",
              "    .dataframe tbody tr th {\n",
              "        vertical-align: top;\n",
              "    }\n",
              "\n",
              "    .dataframe thead th {\n",
              "        text-align: right;\n",
              "    }\n",
              "</style>\n",
              "<table border=\"1\" class=\"dataframe\">\n",
              "  <thead>\n",
              "    <tr style=\"text-align: right;\">\n",
              "      <th></th>\n",
              "      <th>grid</th>\n",
              "      <th>position</th>\n",
              "    </tr>\n",
              "  </thead>\n",
              "  <tbody>\n",
              "    <tr>\n",
              "      <th>count</th>\n",
              "      <td>13227.000000</td>\n",
              "      <td>13227.000000</td>\n",
              "    </tr>\n",
              "    <tr>\n",
              "      <th>mean</th>\n",
              "      <td>11.187798</td>\n",
              "      <td>7.782264</td>\n",
              "    </tr>\n",
              "    <tr>\n",
              "      <th>std</th>\n",
              "      <td>6.839730</td>\n",
              "      <td>4.745105</td>\n",
              "    </tr>\n",
              "    <tr>\n",
              "      <th>min</th>\n",
              "      <td>0.000000</td>\n",
              "      <td>1.000000</td>\n",
              "    </tr>\n",
              "    <tr>\n",
              "      <th>25%</th>\n",
              "      <td>5.000000</td>\n",
              "      <td>4.000000</td>\n",
              "    </tr>\n",
              "    <tr>\n",
              "      <th>50%</th>\n",
              "      <td>11.000000</td>\n",
              "      <td>7.000000</td>\n",
              "    </tr>\n",
              "    <tr>\n",
              "      <th>75%</th>\n",
              "      <td>17.000000</td>\n",
              "      <td>11.000000</td>\n",
              "    </tr>\n",
              "    <tr>\n",
              "      <th>max</th>\n",
              "      <td>33.000000</td>\n",
              "      <td>33.000000</td>\n",
              "    </tr>\n",
              "  </tbody>\n",
              "</table>\n",
              "</div>"
            ],
            "text/plain": [
              "               grid      position\n",
              "count  13227.000000  13227.000000\n",
              "mean      11.187798      7.782264\n",
              "std        6.839730      4.745105\n",
              "min        0.000000      1.000000\n",
              "25%        5.000000      4.000000\n",
              "50%       11.000000      7.000000\n",
              "75%       17.000000     11.000000\n",
              "max       33.000000     33.000000"
            ]
          },
          "metadata": {
            "tags": []
          },
          "execution_count": 62
        }
      ]
    },
    {
      "cell_type": "markdown",
      "metadata": {
        "id": "RflqeBom7M-L"
      },
      "source": [
        "Verificamos que o grid tem o valor mínimo 0 quando o mínimo deveria ser 1 que é a posição 1 de largada, vamos verificar quantos elementos temos com posição de largada 0."
      ]
    },
    {
      "cell_type": "code",
      "metadata": {
        "id": "PEX4gbEc69GJ",
        "outputId": "75e35de8-9931-4b75-c03d-6d7904dbdc86",
        "colab": {
          "base_uri": "https://localhost:8080/",
          "height": 80
        }
      },
      "source": [
        "df_pos[df_pos['grid'] == 0]"
      ],
      "execution_count": null,
      "outputs": [
        {
          "output_type": "execute_result",
          "data": {
            "text/html": [
              "<div>\n",
              "<style scoped>\n",
              "    .dataframe tbody tr th:only-of-type {\n",
              "        vertical-align: middle;\n",
              "    }\n",
              "\n",
              "    .dataframe tbody tr th {\n",
              "        vertical-align: top;\n",
              "    }\n",
              "\n",
              "    .dataframe thead th {\n",
              "        text-align: right;\n",
              "    }\n",
              "</style>\n",
              "<table border=\"1\" class=\"dataframe\">\n",
              "  <thead>\n",
              "    <tr style=\"text-align: right;\">\n",
              "      <th></th>\n",
              "      <th>grid</th>\n",
              "      <th>position</th>\n",
              "    </tr>\n",
              "  </thead>\n",
              "  <tbody>\n",
              "    <tr>\n",
              "      <th>22641</th>\n",
              "      <td>0</td>\n",
              "      <td>10.0</td>\n",
              "    </tr>\n",
              "  </tbody>\n",
              "</table>\n",
              "</div>"
            ],
            "text/plain": [
              "       grid  position\n",
              "22641     0      10.0"
            ]
          },
          "metadata": {
            "tags": []
          },
          "execution_count": 63
        }
      ]
    },
    {
      "cell_type": "markdown",
      "metadata": {
        "id": "N0i8Fwla7gsd"
      },
      "source": [
        "Como temos somente 1, eliminaremos esse objeto."
      ]
    },
    {
      "cell_type": "code",
      "metadata": {
        "id": "r29E9Quw6_9L"
      },
      "source": [
        "df_pos = df_pos[df_pos['grid']>0]"
      ],
      "execution_count": null,
      "outputs": []
    },
    {
      "cell_type": "code",
      "metadata": {
        "id": "0ZmW3_7t7GN4",
        "outputId": "22fb7ff6-7dd6-4ca9-beaf-77c2e2ad12d5",
        "colab": {
          "base_uri": "https://localhost:8080/",
          "height": 297
        }
      },
      "source": [
        "df_pos.describe()"
      ],
      "execution_count": null,
      "outputs": [
        {
          "output_type": "execute_result",
          "data": {
            "text/html": [
              "<div>\n",
              "<style scoped>\n",
              "    .dataframe tbody tr th:only-of-type {\n",
              "        vertical-align: middle;\n",
              "    }\n",
              "\n",
              "    .dataframe tbody tr th {\n",
              "        vertical-align: top;\n",
              "    }\n",
              "\n",
              "    .dataframe thead th {\n",
              "        text-align: right;\n",
              "    }\n",
              "</style>\n",
              "<table border=\"1\" class=\"dataframe\">\n",
              "  <thead>\n",
              "    <tr style=\"text-align: right;\">\n",
              "      <th></th>\n",
              "      <th>grid</th>\n",
              "      <th>position</th>\n",
              "    </tr>\n",
              "  </thead>\n",
              "  <tbody>\n",
              "    <tr>\n",
              "      <th>count</th>\n",
              "      <td>13226.000000</td>\n",
              "      <td>13226.000000</td>\n",
              "    </tr>\n",
              "    <tr>\n",
              "      <th>mean</th>\n",
              "      <td>11.188644</td>\n",
              "      <td>7.782096</td>\n",
              "    </tr>\n",
              "    <tr>\n",
              "      <th>std</th>\n",
              "      <td>6.839297</td>\n",
              "      <td>4.745245</td>\n",
              "    </tr>\n",
              "    <tr>\n",
              "      <th>min</th>\n",
              "      <td>1.000000</td>\n",
              "      <td>1.000000</td>\n",
              "    </tr>\n",
              "    <tr>\n",
              "      <th>25%</th>\n",
              "      <td>5.000000</td>\n",
              "      <td>4.000000</td>\n",
              "    </tr>\n",
              "    <tr>\n",
              "      <th>50%</th>\n",
              "      <td>11.000000</td>\n",
              "      <td>7.000000</td>\n",
              "    </tr>\n",
              "    <tr>\n",
              "      <th>75%</th>\n",
              "      <td>17.000000</td>\n",
              "      <td>11.000000</td>\n",
              "    </tr>\n",
              "    <tr>\n",
              "      <th>max</th>\n",
              "      <td>33.000000</td>\n",
              "      <td>33.000000</td>\n",
              "    </tr>\n",
              "  </tbody>\n",
              "</table>\n",
              "</div>"
            ],
            "text/plain": [
              "               grid      position\n",
              "count  13226.000000  13226.000000\n",
              "mean      11.188644      7.782096\n",
              "std        6.839297      4.745245\n",
              "min        1.000000      1.000000\n",
              "25%        5.000000      4.000000\n",
              "50%       11.000000      7.000000\n",
              "75%       17.000000     11.000000\n",
              "max       33.000000     33.000000"
            ]
          },
          "metadata": {
            "tags": []
          },
          "execution_count": 65
        }
      ]
    },
    {
      "cell_type": "markdown",
      "metadata": {
        "id": "OP3y7aLr7wFz"
      },
      "source": [
        "Agora vamos verificar possíveis outliers usando a razão de duas variáveis (bivariado)."
      ]
    },
    {
      "cell_type": "code",
      "metadata": {
        "id": "lCTaFps27uhW",
        "outputId": "c88c3fbd-dc1b-4f8a-90cf-513017ff9243",
        "colab": {
          "base_uri": "https://localhost:8080/",
          "height": 513
        }
      },
      "source": [
        "fig, ax = plt.subplots(figsize = (8, 8))\n",
        "ax.scatter(df_pos['grid'], df_pos['position'], alpha = 0.05, color = '#0000FF')\n",
        "ax.set(xlabel = 'grid de largada'\n",
        "       , ylabel = 'posição final'\n",
        "       , title = 'Grid vs Final')\n",
        "plt.show()"
      ],
      "execution_count": null,
      "outputs": [
        {
          "output_type": "display_data",
          "data": {
            "image/png": "[encoded data removed]",
            "text/plain": [
              "<Figure size 576x576 with 1 Axes>"
            ]
          },
          "metadata": {
            "tags": [],
            "needs_background": "light"
          }
        }
      ]
    },
    {
      "cell_type": "markdown",
      "metadata": {
        "id": "oYYpCetZB6kE"
      },
      "source": [
        "Primeiro transforma em univariada, fazendo a razão de position pelo grid"
      ]
    },
    {
      "cell_type": "code",
      "metadata": {
        "id": "07CRy8Op89En"
      },
      "source": [
        "df_pos['pg'] = df_pos['position'] / df_pos['grid']"
      ],
      "execution_count": null,
      "outputs": []
    },
    {
      "cell_type": "markdown",
      "metadata": {
        "id": "qLXNt-YgCzoN"
      },
      "source": [
        "Agora só aplicar o método de detecção Z-Score robusto"
      ]
    },
    {
      "cell_type": "code",
      "metadata": {
        "id": "hWZtiu7p9N2B",
        "outputId": "8be67107-7e2c-40d7-b26f-61f481746595",
        "colab": {
          "base_uri": "https://localhost:8080/",
          "height": 170
        }
      },
      "source": [
        "df_pos['pg'].describe()"
      ],
      "execution_count": null,
      "outputs": [
        {
          "output_type": "execute_result",
          "data": {
            "text/plain": [
              "count    13226.000000\n",
              "mean         0.902940\n",
              "std          0.936538\n",
              "min          0.045455\n",
              "25%          0.500000\n",
              "50%          0.700000\n",
              "75%          1.000000\n",
              "max         21.000000\n",
              "Name: pg, dtype: float64"
            ]
          },
          "metadata": {
            "tags": []
          },
          "execution_count": 68
        }
      ]
    },
    {
      "cell_type": "code",
      "metadata": {
        "id": "H1XMt0cP9NG2",
        "outputId": "aaca5467-a973-4e32-d07f-4472c7b4d69c",
        "colab": {
          "base_uri": "https://localhost:8080/",
          "height": 500
        }
      },
      "source": [
        "df_pos['pg'].plot.box(figsize = (5,8))"
      ],
      "execution_count": null,
      "outputs": [
        {
          "output_type": "execute_result",
          "data": {
            "text/plain": [
              "<matplotlib.axes._subplots.AxesSubplot at 0x7fbff6c937f0>"
            ]
          },
          "metadata": {
            "tags": []
          },
          "execution_count": 69
        },
        {
          "output_type": "display_data",
          "data": {
            "image/png": "[encoded data removed]",
            "text/plain": [
              "<Figure size 360x576 with 1 Axes>"
            ]
          },
          "metadata": {
            "tags": [],
            "needs_background": "light"
          }
        }
      ]
    },
    {
      "cell_type": "code",
      "metadata": {
        "id": "MestOfcQ96Jt",
        "outputId": "b3fefe76-1d5f-4041-f3a3-e1a458c50b82",
        "colab": {
          "base_uri": "https://localhost:8080/",
          "height": 282
        }
      },
      "source": [
        "df_pos['pg'].hist()"
      ],
      "execution_count": null,
      "outputs": [
        {
          "output_type": "execute_result",
          "data": {
            "text/plain": [
              "<matplotlib.axes._subplots.AxesSubplot at 0x7fbff9a5fda0>"
            ]
          },
          "metadata": {
            "tags": []
          },
          "execution_count": 70
        },
        {
          "output_type": "display_data",
          "data": {
            "image/png": "[encoded data removed]",
            "text/plain": [
              "<Figure size 432x288 with 1 Axes>"
            ]
          },
          "metadata": {
            "tags": [],
            "needs_background": "light"
          }
        }
      ]
    },
    {
      "cell_type": "code",
      "metadata": {
        "id": "vwSwtEjF-FxP"
      },
      "source": [
        "from numpy import log10"
      ],
      "execution_count": null,
      "outputs": []
    },
    {
      "cell_type": "code",
      "metadata": {
        "id": "6QfJo5P3-_b3"
      },
      "source": [
        "df_pos['pg_log']=log10(df_pos['pg'])"
      ],
      "execution_count": null,
      "outputs": []
    },
    {
      "cell_type": "code",
      "metadata": {
        "id": "ed5GGzr3--Ch",
        "outputId": "5a792cfe-9307-45aa-97bf-740ece269292",
        "colab": {
          "base_uri": "https://localhost:8080/",
          "height": 282
        }
      },
      "source": [
        "df_pos['pg_log'].hist()"
      ],
      "execution_count": null,
      "outputs": [
        {
          "output_type": "execute_result",
          "data": {
            "text/plain": [
              "<matplotlib.axes._subplots.AxesSubplot at 0x7fbff9b0c8d0>"
            ]
          },
          "metadata": {
            "tags": []
          },
          "execution_count": 73
        },
        {
          "output_type": "display_data",
          "data": {
            "image/png": "[encoded data removed]",
            "text/plain": [
              "<Figure size 432x288 with 1 Axes>"
            ]
          },
          "metadata": {
            "tags": [],
            "needs_background": "light"
          }
        }
      ]
    },
    {
      "cell_type": "code",
      "metadata": {
        "id": "bj2BbbTN_Wvp"
      },
      "source": [
        "mad = abs(df_pos['pg_log'] - df_pos['pg_log'].median()).median()*(1/0.6745)"
      ],
      "execution_count": null,
      "outputs": []
    },
    {
      "cell_type": "code",
      "metadata": {
        "id": "XIrZc2yK_csS",
        "outputId": "e335c2df-08e0-4e23-eb8c-5e3803708098",
        "colab": {
          "base_uri": "https://localhost:8080/",
          "height": 34
        }
      },
      "source": [
        "mad"
      ],
      "execution_count": null,
      "outputs": [
        {
          "output_type": "execute_result",
          "data": {
            "text/plain": [
              "0.2296544996082182"
            ]
          },
          "metadata": {
            "tags": []
          },
          "execution_count": 75
        }
      ]
    },
    {
      "cell_type": "code",
      "metadata": {
        "id": "t8STjJYW_rp9",
        "outputId": "2336acb4-5cec-4518-e631-ff2afd66b1e8",
        "colab": {
          "base_uri": "https://localhost:8080/",
          "height": 282
        }
      },
      "source": [
        "(abs(df_pos['pg_log']-df_pos['pg_log'].median())/mad).hist()"
      ],
      "execution_count": null,
      "outputs": [
        {
          "output_type": "execute_result",
          "data": {
            "text/plain": [
              "<matplotlib.axes._subplots.AxesSubplot at 0x7fbff99ea0f0>"
            ]
          },
          "metadata": {
            "tags": []
          },
          "execution_count": 76
        },
        {
          "output_type": "display_data",
          "data": {
            "image/png": "[encoded data removed]",
            "text/plain": [
              "<Figure size 432x288 with 1 Axes>"
            ]
          },
          "metadata": {
            "tags": [],
            "needs_background": "light"
          }
        }
      ]
    },
    {
      "cell_type": "markdown",
      "metadata": {
        "id": "mq54P4anEQ4K"
      },
      "source": [
        "Definindo o limiar de 4 para indicar os possíveis outliers"
      ]
    },
    {
      "cell_type": "code",
      "metadata": {
        "id": "RmtkOCgm_7-c",
        "outputId": "854877ab-179a-48cf-f33c-20f7fab1ff0a",
        "colab": {
          "base_uri": "https://localhost:8080/",
          "height": 419
        }
      },
      "source": [
        "df_pos[abs(df_pos['pg_log']-df_pos['pg_log'].median())/mad > 4]"
      ],
      "execution_count": null,
      "outputs": [
        {
          "output_type": "execute_result",
          "data": {
            "text/html": [
              "<div>\n",
              "<style scoped>\n",
              "    .dataframe tbody tr th:only-of-type {\n",
              "        vertical-align: middle;\n",
              "    }\n",
              "\n",
              "    .dataframe tbody tr th {\n",
              "        vertical-align: top;\n",
              "    }\n",
              "\n",
              "    .dataframe thead th {\n",
              "        text-align: right;\n",
              "    }\n",
              "</style>\n",
              "<table border=\"1\" class=\"dataframe\">\n",
              "  <thead>\n",
              "    <tr style=\"text-align: right;\">\n",
              "      <th></th>\n",
              "      <th>grid</th>\n",
              "      <th>position</th>\n",
              "      <th>pg</th>\n",
              "      <th>pg_log</th>\n",
              "    </tr>\n",
              "  </thead>\n",
              "  <tbody>\n",
              "    <tr>\n",
              "      <th>99</th>\n",
              "      <td>2</td>\n",
              "      <td>12.0</td>\n",
              "      <td>6.000000</td>\n",
              "      <td>0.778151</td>\n",
              "    </tr>\n",
              "    <tr>\n",
              "      <th>288</th>\n",
              "      <td>15</td>\n",
              "      <td>1.0</td>\n",
              "      <td>0.066667</td>\n",
              "      <td>-1.176091</td>\n",
              "    </tr>\n",
              "    <tr>\n",
              "      <th>300</th>\n",
              "      <td>1</td>\n",
              "      <td>13.0</td>\n",
              "      <td>13.000000</td>\n",
              "      <td>1.113943</td>\n",
              "    </tr>\n",
              "    <tr>\n",
              "      <th>319</th>\n",
              "      <td>1</td>\n",
              "      <td>12.0</td>\n",
              "      <td>12.000000</td>\n",
              "      <td>1.079181</td>\n",
              "    </tr>\n",
              "    <tr>\n",
              "      <th>795</th>\n",
              "      <td>1</td>\n",
              "      <td>10.0</td>\n",
              "      <td>10.000000</td>\n",
              "      <td>1.000000</td>\n",
              "    </tr>\n",
              "    <tr>\n",
              "      <th>...</th>\n",
              "      <td>...</td>\n",
              "      <td>...</td>\n",
              "      <td>...</td>\n",
              "      <td>...</td>\n",
              "    </tr>\n",
              "    <tr>\n",
              "      <th>21802</th>\n",
              "      <td>1</td>\n",
              "      <td>6.0</td>\n",
              "      <td>6.000000</td>\n",
              "      <td>0.778151</td>\n",
              "    </tr>\n",
              "    <tr>\n",
              "      <th>21808</th>\n",
              "      <td>2</td>\n",
              "      <td>12.0</td>\n",
              "      <td>6.000000</td>\n",
              "      <td>0.778151</td>\n",
              "    </tr>\n",
              "    <tr>\n",
              "      <th>22527</th>\n",
              "      <td>1</td>\n",
              "      <td>14.0</td>\n",
              "      <td>14.000000</td>\n",
              "      <td>1.146128</td>\n",
              "    </tr>\n",
              "    <tr>\n",
              "      <th>22717</th>\n",
              "      <td>1</td>\n",
              "      <td>6.0</td>\n",
              "      <td>6.000000</td>\n",
              "      <td>0.778151</td>\n",
              "    </tr>\n",
              "    <tr>\n",
              "      <th>23106</th>\n",
              "      <td>2</td>\n",
              "      <td>19.0</td>\n",
              "      <td>9.500000</td>\n",
              "      <td>0.977724</td>\n",
              "    </tr>\n",
              "  </tbody>\n",
              "</table>\n",
              "<p>121 rows × 4 columns</p>\n",
              "</div>"
            ],
            "text/plain": [
              "       grid  position         pg    pg_log\n",
              "99        2      12.0   6.000000  0.778151\n",
              "288      15       1.0   0.066667 -1.176091\n",
              "300       1      13.0  13.000000  1.113943\n",
              "319       1      12.0  12.000000  1.079181\n",
              "795       1      10.0  10.000000  1.000000\n",
              "...     ...       ...        ...       ...\n",
              "21802     1       6.0   6.000000  0.778151\n",
              "21808     2      12.0   6.000000  0.778151\n",
              "22527     1      14.0  14.000000  1.146128\n",
              "22717     1       6.0   6.000000  0.778151\n",
              "23106     2      19.0   9.500000  0.977724\n",
              "\n",
              "[121 rows x 4 columns]"
            ]
          },
          "metadata": {
            "tags": []
          },
          "execution_count": 77
        }
      ]
    },
    {
      "cell_type": "code",
      "metadata": {
        "id": "lMg41iMDE5q-",
        "outputId": "bfd02d2e-4ed2-43cb-cf7f-6f24bce4c22f",
        "colab": {
          "base_uri": "https://localhost:8080/",
          "height": 824
        }
      },
      "source": [
        "df_pos[abs(df_pos['pg_log']-df_pos['pg_log'].median())/mad > 4].head(25)"
      ],
      "execution_count": null,
      "outputs": [
        {
          "output_type": "execute_result",
          "data": {
            "text/html": [
              "<div>\n",
              "<style scoped>\n",
              "    .dataframe tbody tr th:only-of-type {\n",
              "        vertical-align: middle;\n",
              "    }\n",
              "\n",
              "    .dataframe tbody tr th {\n",
              "        vertical-align: top;\n",
              "    }\n",
              "\n",
              "    .dataframe thead th {\n",
              "        text-align: right;\n",
              "    }\n",
              "</style>\n",
              "<table border=\"1\" class=\"dataframe\">\n",
              "  <thead>\n",
              "    <tr style=\"text-align: right;\">\n",
              "      <th></th>\n",
              "      <th>grid</th>\n",
              "      <th>position</th>\n",
              "      <th>pg</th>\n",
              "      <th>pg_log</th>\n",
              "    </tr>\n",
              "  </thead>\n",
              "  <tbody>\n",
              "    <tr>\n",
              "      <th>99</th>\n",
              "      <td>2</td>\n",
              "      <td>12.0</td>\n",
              "      <td>6.000000</td>\n",
              "      <td>0.778151</td>\n",
              "    </tr>\n",
              "    <tr>\n",
              "      <th>288</th>\n",
              "      <td>15</td>\n",
              "      <td>1.0</td>\n",
              "      <td>0.066667</td>\n",
              "      <td>-1.176091</td>\n",
              "    </tr>\n",
              "    <tr>\n",
              "      <th>300</th>\n",
              "      <td>1</td>\n",
              "      <td>13.0</td>\n",
              "      <td>13.000000</td>\n",
              "      <td>1.113943</td>\n",
              "    </tr>\n",
              "    <tr>\n",
              "      <th>319</th>\n",
              "      <td>1</td>\n",
              "      <td>12.0</td>\n",
              "      <td>12.000000</td>\n",
              "      <td>1.079181</td>\n",
              "    </tr>\n",
              "    <tr>\n",
              "      <th>795</th>\n",
              "      <td>1</td>\n",
              "      <td>10.0</td>\n",
              "      <td>10.000000</td>\n",
              "      <td>1.000000</td>\n",
              "    </tr>\n",
              "    <tr>\n",
              "      <th>1006</th>\n",
              "      <td>14</td>\n",
              "      <td>1.0</td>\n",
              "      <td>0.071429</td>\n",
              "      <td>-1.146128</td>\n",
              "    </tr>\n",
              "    <tr>\n",
              "      <th>1447</th>\n",
              "      <td>1</td>\n",
              "      <td>14.0</td>\n",
              "      <td>14.000000</td>\n",
              "      <td>1.146128</td>\n",
              "    </tr>\n",
              "    <tr>\n",
              "      <th>1474</th>\n",
              "      <td>17</td>\n",
              "      <td>1.0</td>\n",
              "      <td>0.058824</td>\n",
              "      <td>-1.230449</td>\n",
              "    </tr>\n",
              "    <tr>\n",
              "      <th>1481</th>\n",
              "      <td>1</td>\n",
              "      <td>8.0</td>\n",
              "      <td>8.000000</td>\n",
              "      <td>0.903090</td>\n",
              "    </tr>\n",
              "    <tr>\n",
              "      <th>1782</th>\n",
              "      <td>1</td>\n",
              "      <td>9.0</td>\n",
              "      <td>9.000000</td>\n",
              "      <td>0.954243</td>\n",
              "    </tr>\n",
              "    <tr>\n",
              "      <th>3012</th>\n",
              "      <td>2</td>\n",
              "      <td>17.0</td>\n",
              "      <td>8.500000</td>\n",
              "      <td>0.929419</td>\n",
              "    </tr>\n",
              "    <tr>\n",
              "      <th>3149</th>\n",
              "      <td>18</td>\n",
              "      <td>1.0</td>\n",
              "      <td>0.055556</td>\n",
              "      <td>-1.255273</td>\n",
              "    </tr>\n",
              "    <tr>\n",
              "      <th>3589</th>\n",
              "      <td>14</td>\n",
              "      <td>1.0</td>\n",
              "      <td>0.071429</td>\n",
              "      <td>-1.146128</td>\n",
              "    </tr>\n",
              "    <tr>\n",
              "      <th>3704</th>\n",
              "      <td>1</td>\n",
              "      <td>6.0</td>\n",
              "      <td>6.000000</td>\n",
              "      <td>0.778151</td>\n",
              "    </tr>\n",
              "    <tr>\n",
              "      <th>3900</th>\n",
              "      <td>1</td>\n",
              "      <td>6.0</td>\n",
              "      <td>6.000000</td>\n",
              "      <td>0.778151</td>\n",
              "    </tr>\n",
              "    <tr>\n",
              "      <th>4490</th>\n",
              "      <td>14</td>\n",
              "      <td>1.0</td>\n",
              "      <td>0.071429</td>\n",
              "      <td>-1.146128</td>\n",
              "    </tr>\n",
              "    <tr>\n",
              "      <th>4612</th>\n",
              "      <td>2</td>\n",
              "      <td>13.0</td>\n",
              "      <td>6.500000</td>\n",
              "      <td>0.812913</td>\n",
              "    </tr>\n",
              "    <tr>\n",
              "      <th>4628</th>\n",
              "      <td>1</td>\n",
              "      <td>9.0</td>\n",
              "      <td>9.000000</td>\n",
              "      <td>0.954243</td>\n",
              "    </tr>\n",
              "    <tr>\n",
              "      <th>4970</th>\n",
              "      <td>16</td>\n",
              "      <td>1.0</td>\n",
              "      <td>0.062500</td>\n",
              "      <td>-1.204120</td>\n",
              "    </tr>\n",
              "    <tr>\n",
              "      <th>5830</th>\n",
              "      <td>2</td>\n",
              "      <td>15.0</td>\n",
              "      <td>7.500000</td>\n",
              "      <td>0.875061</td>\n",
              "    </tr>\n",
              "    <tr>\n",
              "      <th>5853</th>\n",
              "      <td>1</td>\n",
              "      <td>12.0</td>\n",
              "      <td>12.000000</td>\n",
              "      <td>1.079181</td>\n",
              "    </tr>\n",
              "    <tr>\n",
              "      <th>5905</th>\n",
              "      <td>1</td>\n",
              "      <td>12.0</td>\n",
              "      <td>12.000000</td>\n",
              "      <td>1.079181</td>\n",
              "    </tr>\n",
              "    <tr>\n",
              "      <th>7186</th>\n",
              "      <td>13</td>\n",
              "      <td>1.0</td>\n",
              "      <td>0.076923</td>\n",
              "      <td>-1.113943</td>\n",
              "    </tr>\n",
              "    <tr>\n",
              "      <th>7205</th>\n",
              "      <td>3</td>\n",
              "      <td>20.0</td>\n",
              "      <td>6.666667</td>\n",
              "      <td>0.823909</td>\n",
              "    </tr>\n",
              "    <tr>\n",
              "      <th>7238</th>\n",
              "      <td>1</td>\n",
              "      <td>18.0</td>\n",
              "      <td>18.000000</td>\n",
              "      <td>1.255273</td>\n",
              "    </tr>\n",
              "  </tbody>\n",
              "</table>\n",
              "</div>"
            ],
            "text/plain": [
              "      grid  position         pg    pg_log\n",
              "99       2      12.0   6.000000  0.778151\n",
              "288     15       1.0   0.066667 -1.176091\n",
              "300      1      13.0  13.000000  1.113943\n",
              "319      1      12.0  12.000000  1.079181\n",
              "795      1      10.0  10.000000  1.000000\n",
              "1006    14       1.0   0.071429 -1.146128\n",
              "1447     1      14.0  14.000000  1.146128\n",
              "1474    17       1.0   0.058824 -1.230449\n",
              "1481     1       8.0   8.000000  0.903090\n",
              "1782     1       9.0   9.000000  0.954243\n",
              "3012     2      17.0   8.500000  0.929419\n",
              "3149    18       1.0   0.055556 -1.255273\n",
              "3589    14       1.0   0.071429 -1.146128\n",
              "3704     1       6.0   6.000000  0.778151\n",
              "3900     1       6.0   6.000000  0.778151\n",
              "4490    14       1.0   0.071429 -1.146128\n",
              "4612     2      13.0   6.500000  0.812913\n",
              "4628     1       9.0   9.000000  0.954243\n",
              "4970    16       1.0   0.062500 -1.204120\n",
              "5830     2      15.0   7.500000  0.875061\n",
              "5853     1      12.0  12.000000  1.079181\n",
              "5905     1      12.0  12.000000  1.079181\n",
              "7186    13       1.0   0.076923 -1.113943\n",
              "7205     3      20.0   6.666667  0.823909\n",
              "7238     1      18.0  18.000000  1.255273"
            ]
          },
          "metadata": {
            "tags": []
          },
          "execution_count": 78
        }
      ]
    },
    {
      "cell_type": "code",
      "metadata": {
        "id": "Zz35WbZvFygL",
        "outputId": "49e4e8a4-77b6-4c82-db59-e35b117ebe00",
        "colab": {
          "base_uri": "https://localhost:8080/",
          "height": 297
        }
      },
      "source": [
        "df_pos[abs(df_pos['pg_log']-df_pos['pg_log'].median())/mad > 4].describe()"
      ],
      "execution_count": null,
      "outputs": [
        {
          "output_type": "execute_result",
          "data": {
            "text/html": [
              "<div>\n",
              "<style scoped>\n",
              "    .dataframe tbody tr th:only-of-type {\n",
              "        vertical-align: middle;\n",
              "    }\n",
              "\n",
              "    .dataframe tbody tr th {\n",
              "        vertical-align: top;\n",
              "    }\n",
              "\n",
              "    .dataframe thead th {\n",
              "        text-align: right;\n",
              "    }\n",
              "</style>\n",
              "<table border=\"1\" class=\"dataframe\">\n",
              "  <thead>\n",
              "    <tr style=\"text-align: right;\">\n",
              "      <th></th>\n",
              "      <th>grid</th>\n",
              "      <th>position</th>\n",
              "      <th>pg</th>\n",
              "      <th>pg_log</th>\n",
              "    </tr>\n",
              "  </thead>\n",
              "  <tbody>\n",
              "    <tr>\n",
              "      <th>count</th>\n",
              "      <td>121.000000</td>\n",
              "      <td>121.000000</td>\n",
              "      <td>121.000000</td>\n",
              "      <td>121.000000</td>\n",
              "    </tr>\n",
              "    <tr>\n",
              "      <th>mean</th>\n",
              "      <td>4.033058</td>\n",
              "      <td>9.107438</td>\n",
              "      <td>6.941628</td>\n",
              "      <td>0.531347</td>\n",
              "    </tr>\n",
              "    <tr>\n",
              "      <th>std</th>\n",
              "      <td>6.107282</td>\n",
              "      <td>5.780429</td>\n",
              "      <td>4.136307</td>\n",
              "      <td>0.811729</td>\n",
              "    </tr>\n",
              "    <tr>\n",
              "      <th>min</th>\n",
              "      <td>1.000000</td>\n",
              "      <td>1.000000</td>\n",
              "      <td>0.045455</td>\n",
              "      <td>-1.342423</td>\n",
              "    </tr>\n",
              "    <tr>\n",
              "      <th>25%</th>\n",
              "      <td>1.000000</td>\n",
              "      <td>6.000000</td>\n",
              "      <td>6.000000</td>\n",
              "      <td>0.778151</td>\n",
              "    </tr>\n",
              "    <tr>\n",
              "      <th>50%</th>\n",
              "      <td>1.000000</td>\n",
              "      <td>8.000000</td>\n",
              "      <td>7.000000</td>\n",
              "      <td>0.845098</td>\n",
              "    </tr>\n",
              "    <tr>\n",
              "      <th>75%</th>\n",
              "      <td>2.000000</td>\n",
              "      <td>13.000000</td>\n",
              "      <td>9.000000</td>\n",
              "      <td>0.954243</td>\n",
              "    </tr>\n",
              "    <tr>\n",
              "      <th>max</th>\n",
              "      <td>32.000000</td>\n",
              "      <td>31.000000</td>\n",
              "      <td>21.000000</td>\n",
              "      <td>1.322219</td>\n",
              "    </tr>\n",
              "  </tbody>\n",
              "</table>\n",
              "</div>"
            ],
            "text/plain": [
              "             grid    position          pg      pg_log\n",
              "count  121.000000  121.000000  121.000000  121.000000\n",
              "mean     4.033058    9.107438    6.941628    0.531347\n",
              "std      6.107282    5.780429    4.136307    0.811729\n",
              "min      1.000000    1.000000    0.045455   -1.342423\n",
              "25%      1.000000    6.000000    6.000000    0.778151\n",
              "50%      1.000000    8.000000    7.000000    0.845098\n",
              "75%      2.000000   13.000000    9.000000    0.954243\n",
              "max     32.000000   31.000000   21.000000    1.322219"
            ]
          },
          "metadata": {
            "tags": []
          },
          "execution_count": 79
        }
      ]
    },
    {
      "cell_type": "markdown",
      "metadata": {
        "id": "UxmAKctXEpy1"
      },
      "source": [
        "Como podemos observar os outliers indicados são de quando tem uma variação grande entre as posições de largada e de chegada sejam elas positivas ou negativas, e, esses outliers indicados (121) são numericamente inexpressivos em relação ao número total (13226), confirmando assim que há uma correlação entre a posição inicial do grid de largada com o resultado final do piloto no fim da corrida."
      ]
    },
    {
      "cell_type": "markdown",
      "metadata": {
        "id": "WHDeq-Zliiuc"
      },
      "source": [
        "# **Agora, comparando os resultados por nacionalidade dos pilotos:**"
      ]
    },
    {
      "cell_type": "markdown",
      "metadata": {
        "id": "PJiMnQtrk13q"
      },
      "source": [
        "Brasileiros x Alemães"
      ]
    },
    {
      "cell_type": "code",
      "metadata": {
        "id": "evssM8YWixGv",
        "outputId": "80b1b56a-84dc-477d-d51d-d9aa7349580b",
        "colab": {
          "base_uri": "https://localhost:8080/",
          "height": 680
        }
      },
      "source": [
        "alemaes = df[df['nationality']=='German'][df['position'].isna() == False]\n",
        "alemaes.count()"
      ],
      "execution_count": 227,
      "outputs": [
        {
          "output_type": "stream",
          "text": [
            "/usr/local/lib/python3.6/dist-packages/ipykernel_launcher.py:1: UserWarning: Boolean Series key will be reindexed to match DataFrame index.\n",
            "  \"\"\"Entry point for launching an IPython kernel.\n"
          ],
          "name": "stderr"
        },
        {
          "output_type": "execute_result",
          "data": {
            "text/plain": [
              "resultId              1463\n",
              "raceId                1463\n",
              "driverId              1463\n",
              "constructorId         1463\n",
              "number                1463\n",
              "grid                  1463\n",
              "position              1463\n",
              "positionText          1463\n",
              "points                1463\n",
              "laps                  1463\n",
              "time                   915\n",
              "milliseconds           915\n",
              "fastestLap             878\n",
              "fastestLapTime         878\n",
              "fastestLapSpeed        878\n",
              "statusId              1463\n",
              "constructorRef        1463\n",
              "constructorName       1463\n",
              "year                  1463\n",
              "round                 1463\n",
              "circuitId             1463\n",
              "raceName              1463\n",
              "raceDate              1463\n",
              "circuitRef            1463\n",
              "circuitName           1463\n",
              "location              1463\n",
              "country               1463\n",
              "driverRef             1463\n",
              "forename              1463\n",
              "surname               1463\n",
              "dob                   1463\n",
              "nationality           1463\n",
              "status                1463\n",
              "fastestLapTimeSeg      878\n",
              "fastestLapSpeedMps     878\n",
              "lapDist                878\n",
              "dtype: int64"
            ]
          },
          "metadata": {
            "tags": []
          },
          "execution_count": 227
        }
      ]
    },
    {
      "cell_type": "code",
      "metadata": {
        "id": "ivSQDZuBmYTA",
        "outputId": "38001222-67cc-4a49-dfd4-d761a02d8150",
        "colab": {
          "base_uri": "https://localhost:8080/",
          "height": 680
        }
      },
      "source": [
        "brasileiros = df[df['nationality']=='Brazilian'][df['position'].isna() == False]\n",
        "brasileiros.count()"
      ],
      "execution_count": 228,
      "outputs": [
        {
          "output_type": "stream",
          "text": [
            "/usr/local/lib/python3.6/dist-packages/ipykernel_launcher.py:1: UserWarning: Boolean Series key will be reindexed to match DataFrame index.\n",
            "  \"\"\"Entry point for launching an IPython kernel.\n"
          ],
          "name": "stderr"
        },
        {
          "output_type": "execute_result",
          "data": {
            "text/plain": [
              "resultId              1172\n",
              "raceId                1172\n",
              "driverId              1172\n",
              "constructorId         1172\n",
              "number                1172\n",
              "grid                  1172\n",
              "position              1172\n",
              "positionText          1172\n",
              "points                1172\n",
              "laps                  1172\n",
              "time                   609\n",
              "milliseconds           609\n",
              "fastestLap             456\n",
              "fastestLapTime         456\n",
              "fastestLapSpeed        456\n",
              "statusId              1172\n",
              "constructorRef        1172\n",
              "constructorName       1172\n",
              "year                  1172\n",
              "round                 1172\n",
              "circuitId             1172\n",
              "raceName              1172\n",
              "raceDate              1172\n",
              "circuitRef            1172\n",
              "circuitName           1172\n",
              "location              1172\n",
              "country               1172\n",
              "driverRef             1172\n",
              "forename              1172\n",
              "surname               1172\n",
              "dob                   1172\n",
              "nationality           1172\n",
              "status                1172\n",
              "fastestLapTimeSeg      456\n",
              "fastestLapSpeedMps     456\n",
              "lapDist                456\n",
              "dtype: int64"
            ]
          },
          "metadata": {
            "tags": []
          },
          "execution_count": 228
        }
      ]
    },
    {
      "cell_type": "markdown",
      "metadata": {
        "id": "nTVerlwbtCnp"
      },
      "source": [
        "Deixando a mesma quantidade de elementos"
      ]
    },
    {
      "cell_type": "code",
      "metadata": {
        "id": "Fa8b9eLfstBu",
        "outputId": "f01ed097-fb18-46da-a3a1-6665107c247c",
        "colab": {
          "base_uri": "https://localhost:8080/",
          "height": 170
        }
      },
      "source": [
        "brasileiros['position'].describe()"
      ],
      "execution_count": 229,
      "outputs": [
        {
          "output_type": "execute_result",
          "data": {
            "text/plain": [
              "count    1172.000000\n",
              "mean        7.515358\n",
              "std         4.661443\n",
              "min         1.000000\n",
              "25%         3.750000\n",
              "50%         7.000000\n",
              "75%        11.000000\n",
              "max        22.000000\n",
              "Name: position, dtype: float64"
            ]
          },
          "metadata": {
            "tags": []
          },
          "execution_count": 229
        }
      ]
    },
    {
      "cell_type": "code",
      "metadata": {
        "id": "xtmXlWlis2K5",
        "outputId": "a134ce6e-9386-46e8-afef-7f459f46639a",
        "colab": {
          "base_uri": "https://localhost:8080/",
          "height": 170
        }
      },
      "source": [
        "alemaes['position'].describe()"
      ],
      "execution_count": 230,
      "outputs": [
        {
          "output_type": "execute_result",
          "data": {
            "text/plain": [
              "count    1463.000000\n",
              "mean        7.275461\n",
              "std         4.917096\n",
              "min         1.000000\n",
              "25%         3.000000\n",
              "50%         6.000000\n",
              "75%        11.000000\n",
              "max        22.000000\n",
              "Name: position, dtype: float64"
            ]
          },
          "metadata": {
            "tags": []
          },
          "execution_count": 230
        }
      ]
    },
    {
      "cell_type": "code",
      "metadata": {
        "id": "yerfzOg1snyg"
      },
      "source": [
        "alemaes = alemaes[0:1172]"
      ],
      "execution_count": 231,
      "outputs": []
    },
    {
      "cell_type": "code",
      "metadata": {
        "id": "XzSnqxPr0g7F"
      },
      "source": [
        "brasileiros.reset_index(inplace=True,drop=True)\n",
        "alemaes.reset_index(inplace=True,drop=True)"
      ],
      "execution_count": 232,
      "outputs": []
    },
    {
      "cell_type": "code",
      "metadata": {
        "id": "agEqX7fstKOT",
        "outputId": "f29d781b-51e6-4b09-fc60-c663930dd3cb",
        "colab": {
          "base_uri": "https://localhost:8080/",
          "height": 170
        }
      },
      "source": [
        "alemaes['position'].describe()"
      ],
      "execution_count": 233,
      "outputs": [
        {
          "output_type": "execute_result",
          "data": {
            "text/plain": [
              "count    1172.000000\n",
              "mean        7.344710\n",
              "std         4.816951\n",
              "min         1.000000\n",
              "25%         4.000000\n",
              "50%         7.000000\n",
              "75%        11.000000\n",
              "max        22.000000\n",
              "Name: position, dtype: float64"
            ]
          },
          "metadata": {
            "tags": []
          },
          "execution_count": 233
        }
      ]
    },
    {
      "cell_type": "markdown",
      "metadata": {
        "id": "HDH7UIbLtfaa"
      },
      "source": [
        "Qual nacionalidade tem melhor posição em final de corridas?"
      ]
    },
    {
      "cell_type": "code",
      "metadata": {
        "id": "N4Fwixpav4F6",
        "outputId": "eeffe50b-d0f7-42e1-c7d7-012a372ae9ed",
        "colab": {
          "base_uri": "https://localhost:8080/",
          "height": 297
        }
      },
      "source": [
        "posicoes = pd.concat([brasileiros['position'], alemaes['position']], axis=1, keys=[\"bra\", \"ger\"])\n",
        "posicoes.describe()"
      ],
      "execution_count": 234,
      "outputs": [
        {
          "output_type": "execute_result",
          "data": {
            "text/html": [
              "<div>\n",
              "<style scoped>\n",
              "    .dataframe tbody tr th:only-of-type {\n",
              "        vertical-align: middle;\n",
              "    }\n",
              "\n",
              "    .dataframe tbody tr th {\n",
              "        vertical-align: top;\n",
              "    }\n",
              "\n",
              "    .dataframe thead th {\n",
              "        text-align: right;\n",
              "    }\n",
              "</style>\n",
              "<table border=\"1\" class=\"dataframe\">\n",
              "  <thead>\n",
              "    <tr style=\"text-align: right;\">\n",
              "      <th></th>\n",
              "      <th>bra</th>\n",
              "      <th>ger</th>\n",
              "    </tr>\n",
              "  </thead>\n",
              "  <tbody>\n",
              "    <tr>\n",
              "      <th>count</th>\n",
              "      <td>1172.000000</td>\n",
              "      <td>1172.000000</td>\n",
              "    </tr>\n",
              "    <tr>\n",
              "      <th>mean</th>\n",
              "      <td>7.515358</td>\n",
              "      <td>7.344710</td>\n",
              "    </tr>\n",
              "    <tr>\n",
              "      <th>std</th>\n",
              "      <td>4.661443</td>\n",
              "      <td>4.816951</td>\n",
              "    </tr>\n",
              "    <tr>\n",
              "      <th>min</th>\n",
              "      <td>1.000000</td>\n",
              "      <td>1.000000</td>\n",
              "    </tr>\n",
              "    <tr>\n",
              "      <th>25%</th>\n",
              "      <td>3.750000</td>\n",
              "      <td>4.000000</td>\n",
              "    </tr>\n",
              "    <tr>\n",
              "      <th>50%</th>\n",
              "      <td>7.000000</td>\n",
              "      <td>7.000000</td>\n",
              "    </tr>\n",
              "    <tr>\n",
              "      <th>75%</th>\n",
              "      <td>11.000000</td>\n",
              "      <td>11.000000</td>\n",
              "    </tr>\n",
              "    <tr>\n",
              "      <th>max</th>\n",
              "      <td>22.000000</td>\n",
              "      <td>22.000000</td>\n",
              "    </tr>\n",
              "  </tbody>\n",
              "</table>\n",
              "</div>"
            ],
            "text/plain": [
              "               bra          ger\n",
              "count  1172.000000  1172.000000\n",
              "mean      7.515358     7.344710\n",
              "std       4.661443     4.816951\n",
              "min       1.000000     1.000000\n",
              "25%       3.750000     4.000000\n",
              "50%       7.000000     7.000000\n",
              "75%      11.000000    11.000000\n",
              "max      22.000000    22.000000"
            ]
          },
          "metadata": {
            "tags": []
          },
          "execution_count": 234
        }
      ]
    },
    {
      "cell_type": "code",
      "metadata": {
        "id": "AeGMKyQ1064h",
        "outputId": "3259aa30-0399-49ef-9c66-2472aad556d5",
        "colab": {
          "base_uri": "https://localhost:8080/",
          "height": 282
        }
      },
      "source": [
        "posicoes.plot(kind='box')"
      ],
      "execution_count": 235,
      "outputs": [
        {
          "output_type": "execute_result",
          "data": {
            "text/plain": [
              "<matplotlib.axes._subplots.AxesSubplot at 0x7f422b26c710>"
            ]
          },
          "metadata": {
            "tags": []
          },
          "execution_count": 235
        },
        {
          "output_type": "display_data",
          "data": {
            "image/png": "[encoded data removed]",
            "text/plain": [
              "<Figure size 432x288 with 1 Axes>"
            ]
          },
          "metadata": {
            "tags": [],
            "needs_background": "light"
          }
        }
      ]
    },
    {
      "cell_type": "code",
      "metadata": {
        "id": "oIbk-wsr1jHJ"
      },
      "source": [
        "posicoes['dif'] = posicoes['bra'] - posicoes['ger']"
      ],
      "execution_count": 236,
      "outputs": []
    },
    {
      "cell_type": "code",
      "metadata": {
        "id": "l-qX7z4P1yzP",
        "outputId": "599db0ec-fb6a-431c-cf7c-c3c3c69ee6ff",
        "colab": {
          "base_uri": "https://localhost:8080/",
          "height": 282
        }
      },
      "source": [
        "posicoes['dif'].plot(kind='hist')"
      ],
      "execution_count": 237,
      "outputs": [
        {
          "output_type": "execute_result",
          "data": {
            "text/plain": [
              "<matplotlib.axes._subplots.AxesSubplot at 0x7f422b2d2d68>"
            ]
          },
          "metadata": {
            "tags": []
          },
          "execution_count": 237
        },
        {
          "output_type": "display_data",
          "data": {
            "image/png": "[encoded data removed]",
            "text/plain": [
              "<Figure size 432x288 with 1 Axes>"
            ]
          },
          "metadata": {
            "tags": [],
            "needs_background": "light"
          }
        }
      ]
    },
    {
      "cell_type": "code",
      "metadata": {
        "id": "2HZ8n-US2gWn",
        "outputId": "385f4751-5194-4a2b-a6a0-9e44eafe2e02",
        "colab": {
          "base_uri": "https://localhost:8080/",
          "height": 34
        }
      },
      "source": [
        "stats.shapiro(posicoes['dif'])"
      ],
      "execution_count": 238,
      "outputs": [
        {
          "output_type": "execute_result",
          "data": {
            "text/plain": [
              "(0.9926143288612366, 1.3636337826028466e-05)"
            ]
          },
          "metadata": {
            "tags": []
          },
          "execution_count": 238
        }
      ]
    },
    {
      "cell_type": "code",
      "metadata": {
        "id": "ZWojy8bH3ANO",
        "outputId": "0d2761fe-6e15-4730-b5c3-1491ed0e5b50",
        "colab": {
          "base_uri": "https://localhost:8080/",
          "height": 34
        }
      },
      "source": [
        "stats.ttest_rel(posicoes['bra'],posicoes['ger'])\n"
      ],
      "execution_count": 239,
      "outputs": [
        {
          "output_type": "execute_result",
          "data": {
            "text/plain": [
              "Ttest_relResult(statistic=0.902001355713216, pvalue=0.36724163523731634)"
            ]
          },
          "metadata": {
            "tags": []
          },
          "execution_count": 239
        }
      ]
    },
    {
      "cell_type": "code",
      "metadata": {
        "id": "9mmshOVd3OdD",
        "outputId": "10369abd-de4c-4095-8e73-33f8ef3af95c",
        "colab": {
          "base_uri": "https://localhost:8080/",
          "height": 282
        }
      },
      "source": [
        "posicoes[['dif']].plot(kind='box')"
      ],
      "execution_count": 240,
      "outputs": [
        {
          "output_type": "execute_result",
          "data": {
            "text/plain": [
              "<matplotlib.axes._subplots.AxesSubplot at 0x7f422b18a978>"
            ]
          },
          "metadata": {
            "tags": []
          },
          "execution_count": 240
        },
        {
          "output_type": "display_data",
          "data": {
            "image/png": "[encoded data removed]",
            "text/plain": [
              "<Figure size 432x288 with 1 Axes>"
            ]
          },
          "metadata": {
            "tags": [],
            "needs_background": "light"
          }
        }
      ]
    },
    {
      "cell_type": "code",
      "metadata": {
        "id": "gTFnGhSb35IM",
        "outputId": "22bf4d4f-30ad-4046-bc86-551016a686a3",
        "colab": {
          "base_uri": "https://localhost:8080/",
          "height": 34
        }
      },
      "source": [
        "stats.wilcoxon(posicoes['bra'], posicoes['ger'])"
      ],
      "execution_count": 241,
      "outputs": [
        {
          "output_type": "execute_result",
          "data": {
            "text/plain": [
              "WilcoxonResult(statistic=291900.5, pvalue=0.2359610444112158)"
            ]
          },
          "metadata": {
            "tags": []
          },
          "execution_count": 241
        }
      ]
    },
    {
      "cell_type": "markdown",
      "metadata": {
        "id": "WE5WMHV04gPH"
      },
      "source": [
        "conclução do hipótese de teste para o caso de qual nacionalidade tem melhores posições finais."
      ]
    },
    {
      "cell_type": "markdown",
      "metadata": {
        "id": "8dtAAXkfJHw5"
      },
      "source": [
        "E para finalizar, quem são os maiores vencedores na fórmula 1 de todos os tempos? Vamos à consulta."
      ]
    },
    {
      "cell_type": "code",
      "metadata": {
        "id": "rbszSGwL9efq",
        "outputId": "8b79e2bc-6272-4ac2-f426-9efe2ee8a5ee",
        "colab": {
          "base_uri": "https://localhost:8080/",
          "height": 391
        }
      },
      "source": [
        "topPilotos =df.loc[(df['position'] == 1)].groupby('driverRef')['raceId'].count().sort_values(ascending = False)[:20]\n",
        "topPilotos = topPilotos.sort_values()\n",
        "topPilotos"
      ],
      "execution_count": 242,
      "outputs": [
        {
          "output_type": "execute_result",
          "data": {
            "text/plain": [
              "driverRef\n",
              "jack_brabham          14\n",
              "emerson_fittipaldi    14\n",
              "button                15\n",
              "moss                  16\n",
              "hakkinen              20\n",
              "raikkonen             20\n",
              "damon_hill            22\n",
              "piquet                23\n",
              "rosberg               23\n",
              "fangio                24\n",
              "lauda                 25\n",
              "clark                 25\n",
              "stewart               27\n",
              "mansell               31\n",
              "alonso                32\n",
              "senna                 41\n",
              "vettel                47\n",
              "prost                 51\n",
              "hamilton              62\n",
              "michael_schumacher    91\n",
              "Name: raceId, dtype: int64"
            ]
          },
          "metadata": {
            "tags": []
          },
          "execution_count": 242
        }
      ]
    },
    {
      "cell_type": "code",
      "metadata": {
        "id": "6HGpH0zz-1Yg",
        "outputId": "da5700e2-6374-4345-d1a0-9ec3d8517b0b",
        "colab": {
          "base_uri": "https://localhost:8080/",
          "height": 431
        }
      },
      "source": [
        "fig, ax = plt.subplots(figsize = (30, 10))\n",
        "\n",
        "ax.barh(list(topPilotos.index), list(topPilotos.values), color =['white','r'])\n",
        "ax.set_facecolor('k')\n",
        "ax.set(xlabel = 'vitórias'\n",
        "       , ylabel = 'piloto'\n",
        "       , title = 'Quantidade de vitórias por piloto')\n",
        "\n",
        "plt.show()"
      ],
      "execution_count": 243,
      "outputs": [
        {
          "output_type": "display_data",
          "data": {
            "image/png": "[encoded data removed]",
            "text/plain": [
              "<Figure size 2160x720 with 1 Axes>"
            ]
          },
          "metadata": {
            "tags": [],
            "needs_background": "light"
          }
        }
      ]
    },
    {
      "cell_type": "markdown",
      "metadata": {
        "id": "MUznZqsbK7oz"
      },
      "source": [
        "Como podemos ver, esses são os maiores vencedores da fórmula 1 até 2017.\n",
        "\n",
        "Hope you enjoy! :)"
      ]
    }
  ]
}