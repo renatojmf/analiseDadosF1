{
  "nbformat": 4,
  "nbformat_minor": 0,
  "metadata": {
    "colab": {
      "name": "dadosf1.ipynb",
      "provenance": [],
      "collapsed_sections": [],
      "authorship_tag": "ABX9TyNVGVIxR57BBcPe5Iub8mQ3",
      "include_colab_link": true
    },
    "kernelspec": {
      "name": "python3",
      "display_name": "Python 3"
    }
  },
  "cells": [
    {
      "cell_type": "markdown",
      "metadata": {
        "id": "view-in-github",
        "colab_type": "text"
      },
      "source": [
        "<a href=\"https://colab.research.google.com/github/JosenildoVicente/analiseDadosF1/blob/master/dadosf1.ipynb\" target=\"_parent\"><img src=\"https://colab.research.google.com/assets/colab-badge.svg\" alt=\"Open In Colab\"/></a>"
      ]
    },
    {
      "cell_type": "markdown",
      "metadata": {
        "id": "wsuo_XNz_3sZ"
      },
      "source": [
        "Importação dos módulos"
      ]
    },
    {
      "cell_type": "code",
      "metadata": {
        "id": "yIyrgUogDNqP"
      },
      "source": [
        "import pandas as pd\n",
        "import numpy as np"
      ],
      "execution_count": null,
      "outputs": []
    },
    {
      "cell_type": "markdown",
      "metadata": {
        "id": "vGw2jpgdWn4t"
      },
      "source": [
        "Adição dos arquivos csv"
      ]
    },
    {
      "cell_type": "code",
      "metadata": {
        "id": "YyaArg_vEA46"
      },
      "source": [
        "circuitos=pd.read_csv(\"https://raw.githubusercontent.com/JosenildoVicente/analiseDadosF1/master/f1/circuits.csv\", encoding = \"ISO-8859-1\")\n",
        "equipes_resultados=pd.read_csv(\"https://raw.githubusercontent.com/JosenildoVicente/analiseDadosF1/master/f1/constructorResults.csv\", encoding = \"ISO-8859-1\")\n",
        "equipes_classificacao=pd.read_csv(\"https://raw.githubusercontent.com/JosenildoVicente/analiseDadosF1/master/f1/constructorStandings.csv\", encoding = \"ISO-8859-1\")\n",
        "equipes=pd.read_csv(\"https://raw.githubusercontent.com/JosenildoVicente/analiseDadosF1/master/f1/constructors.csv\", encoding = \"ISO-8859-1\")\n",
        "pilotos_classificacao=pd.read_csv(\"https://raw.githubusercontent.com/JosenildoVicente/analiseDadosF1/master/f1/driverStandings.csv\", encoding = \"ISO-8859-1\")\n",
        "pilotos=pd.read_csv(\"https://raw.githubusercontent.com/JosenildoVicente/analiseDadosF1/master/f1/drivers.csv\", encoding = \"ISO-8859-1\")\n",
        "tempos_voltas=pd.read_csv(\"https://raw.githubusercontent.com/JosenildoVicente/analiseDadosF1/master/f1/lapTimes.csv\", encoding = \"ISO-8859-1\")\n",
        "tempos_parada=pd.read_csv(\"https://raw.githubusercontent.com/JosenildoVicente/analiseDadosF1/master/f1/pitStops.csv\", encoding = \"ISO-8859-1\")\n",
        "qualificacao=pd.read_csv(\"https://raw.githubusercontent.com/JosenildoVicente/analiseDadosF1/master/f1/qualifying.csv\", encoding = \"ISO-8859-1\")\n",
        "corridas=pd.read_csv(\"https://raw.githubusercontent.com/JosenildoVicente/analiseDadosF1/master/f1/races.csv\", encoding = \"ISO-8859-1\")\n",
        "resultados=pd.read_csv(\"https://raw.githubusercontent.com/JosenildoVicente/analiseDadosF1/master/f1/results.csv\", encoding = \"ISO-8859-1\")\n",
        "temporadas=pd.read_csv(\"https://raw.githubusercontent.com/JosenildoVicente/analiseDadosF1/master/f1/seasons.csv\", encoding = \"ISO-8859-1\")\n",
        "status=pd.read_csv(\"https://raw.githubusercontent.com/JosenildoVicente/analiseDadosF1/master/f1/status.csv\", encoding = \"ISO-8859-1\")"
      ],
      "execution_count": 22,
      "outputs": []
    },
    {
      "cell_type": "markdown",
      "metadata": {
        "id": "s4uy6x2hE0BY"
      },
      "source": [
        "Pré processamento dos dados:"
      ]
    },
    {
      "cell_type": "code",
      "metadata": {
        "id": "VgMi5e3wLT4H",
        "outputId": "fd744306-adcb-4c20-95a9-705c2cd8c89d",
        "colab": {
          "base_uri": "https://localhost:8080/",
          "height": 34
        }
      },
      "source": [
        "resultados.shape"
      ],
      "execution_count": 66,
      "outputs": [
        {
          "output_type": "execute_result",
          "data": {
            "text/plain": [
              "(23777, 18)"
            ]
          },
          "metadata": {
            "tags": []
          },
          "execution_count": 66
        }
      ]
    },
    {
      "cell_type": "code",
      "metadata": {
        "id": "_Dcqs91TI3TQ",
        "outputId": "12753b4d-7fe7-4388-8470-96b949eb292e",
        "colab": {
          "base_uri": "https://localhost:8080/",
          "height": 340
        }
      },
      "source": [
        "resultados.isnull().sum()"
      ],
      "execution_count": 53,
      "outputs": [
        {
          "output_type": "execute_result",
          "data": {
            "text/plain": [
              "resultId               0\n",
              "raceId                 0\n",
              "driverId               0\n",
              "constructorId          0\n",
              "number                 6\n",
              "grid                   0\n",
              "position           10550\n",
              "positionText           0\n",
              "positionOrder          0\n",
              "points                 0\n",
              "laps                   0\n",
              "time               17773\n",
              "milliseconds       17774\n",
              "fastestLap         18394\n",
              "rank               18246\n",
              "fastestLapTime     18394\n",
              "fastestLapSpeed    18394\n",
              "statusId               0\n",
              "dtype: int64"
            ]
          },
          "metadata": {
            "tags": []
          },
          "execution_count": 53
        }
      ]
    },
    {
      "cell_type": "code",
      "metadata": {
        "id": "vSeE584oVnBJ",
        "outputId": "0d85da2b-94f3-4832-9b33-93a9abfecf09",
        "colab": {
          "base_uri": "https://localhost:8080/",
          "height": 340
        }
      },
      "source": [
        "resultados.dtypes"
      ],
      "execution_count": 101,
      "outputs": [
        {
          "output_type": "execute_result",
          "data": {
            "text/plain": [
              "resultId             int64\n",
              "raceId               int64\n",
              "driverId             int64\n",
              "constructorId        int64\n",
              "number             float64\n",
              "grid                 int64\n",
              "position           float64\n",
              "positionText        object\n",
              "positionOrder        int64\n",
              "points             float64\n",
              "laps                 int64\n",
              "time                object\n",
              "milliseconds       float64\n",
              "fastestLap         float64\n",
              "rank               float64\n",
              "fastestLapTime      object\n",
              "fastestLapSpeed     object\n",
              "statusId             int64\n",
              "dtype: object"
            ]
          },
          "metadata": {
            "tags": []
          },
          "execution_count": 101
        }
      ]
    },
    {
      "cell_type": "code",
      "metadata": {
        "id": "NUI1eWkNOnsa",
        "outputId": "d7258a00-892a-4246-861a-b12adcaaa009",
        "colab": {
          "base_uri": "https://localhost:8080/",
          "height": 34
        }
      },
      "source": [
        "circuitos.shape"
      ],
      "execution_count": 68,
      "outputs": [
        {
          "output_type": "execute_result",
          "data": {
            "text/plain": [
              "(73, 9)"
            ]
          },
          "metadata": {
            "tags": []
          },
          "execution_count": 68
        }
      ]
    },
    {
      "cell_type": "code",
      "metadata": {
        "id": "GWScw1_XO_87",
        "outputId": "b91c5251-3143-4d9c-c6cc-857b43da0bbe",
        "colab": {
          "base_uri": "https://localhost:8080/",
          "height": 187
        }
      },
      "source": [
        "circuitos.isnull().sum()"
      ],
      "execution_count": 70,
      "outputs": [
        {
          "output_type": "execute_result",
          "data": {
            "text/plain": [
              "circuitId      0\n",
              "circuitRef     0\n",
              "name           0\n",
              "location       0\n",
              "country        0\n",
              "lat            0\n",
              "lng            0\n",
              "alt           72\n",
              "url            0\n",
              "dtype: int64"
            ]
          },
          "metadata": {
            "tags": []
          },
          "execution_count": 70
        }
      ]
    },
    {
      "cell_type": "code",
      "metadata": {
        "id": "3Mp3M0EGPscO",
        "outputId": "d0360730-a430-410b-f706-ef7c24f2caa0",
        "colab": {
          "base_uri": "https://localhost:8080/",
          "height": 34
        }
      },
      "source": [
        "pilotos.shape"
      ],
      "execution_count": 73,
      "outputs": [
        {
          "output_type": "execute_result",
          "data": {
            "text/plain": [
              "(842, 9)"
            ]
          },
          "metadata": {
            "tags": []
          },
          "execution_count": 73
        }
      ]
    },
    {
      "cell_type": "code",
      "metadata": {
        "id": "MbxUnMmnPzyC",
        "outputId": "fb5759cb-3950-4636-d941-ed1f38dc277a",
        "colab": {
          "base_uri": "https://localhost:8080/",
          "height": 187
        }
      },
      "source": [
        "pilotos.isnull().sum()"
      ],
      "execution_count": 76,
      "outputs": [
        {
          "output_type": "execute_result",
          "data": {
            "text/plain": [
              "driverId         0\n",
              "driverRef        0\n",
              "number         804\n",
              "code           757\n",
              "forename         0\n",
              "surname          0\n",
              "dob              1\n",
              "nationality      0\n",
              "url              1\n",
              "dtype: int64"
            ]
          },
          "metadata": {
            "tags": []
          },
          "execution_count": 76
        }
      ]
    },
    {
      "cell_type": "code",
      "metadata": {
        "id": "qMilwMQeSLDh",
        "outputId": "d91dd42b-6d53-44f5-dbbe-4de72de4f451",
        "colab": {
          "base_uri": "https://localhost:8080/",
          "height": 34
        }
      },
      "source": [
        "equipes.shape"
      ],
      "execution_count": 96,
      "outputs": [
        {
          "output_type": "execute_result",
          "data": {
            "text/plain": [
              "(208, 6)"
            ]
          },
          "metadata": {
            "tags": []
          },
          "execution_count": 96
        }
      ]
    },
    {
      "cell_type": "code",
      "metadata": {
        "id": "vE6_1Ca2U_9W",
        "outputId": "342b8a3c-ebc4-486a-c580-e4720a4cb242",
        "colab": {
          "base_uri": "https://localhost:8080/",
          "height": 136
        }
      },
      "source": [
        "equipes.isnull().sum()"
      ],
      "execution_count": 98,
      "outputs": [
        {
          "output_type": "execute_result",
          "data": {
            "text/plain": [
              "constructorId       0\n",
              "constructorRef      0\n",
              "name                0\n",
              "nationality         0\n",
              "url                 0\n",
              "Unnamed: 5        208\n",
              "dtype: int64"
            ]
          },
          "metadata": {
            "tags": []
          },
          "execution_count": 98
        }
      ]
    },
    {
      "cell_type": "code",
      "metadata": {
        "id": "vITOTyzhVJMo"
      },
      "source": [
        ""
      ],
      "execution_count": null,
      "outputs": []
    }
  ]
}