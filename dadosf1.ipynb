{
  "nbformat": 4,
  "nbformat_minor": 0,
  "metadata": {
    "colab": {
      "name": "dadosf1.ipynb",
      "provenance": [],
      "collapsed_sections": []
    },
    "kernelspec": {
      "name": "python3",
      "display_name": "Python 3"
    }
  },
  "cells": [
    {
      "cell_type": "markdown",
      "metadata": {
        "id": "wsuo_XNz_3sZ"
      },
      "source": [
        "Importação dos módulos"
      ]
    },
    {
      "cell_type": "code",
      "metadata": {
        "id": "yIyrgUogDNqP"
      },
      "source": [
        "import pandas as pd\n",
        "import numpy as np\n",
        "import os\n",
        "import re\n",
        "from matplotlib import pyplot as plt"
      ],
      "execution_count": 95,
      "outputs": []
    },
    {
      "cell_type": "markdown",
      "metadata": {
        "id": "vGw2jpgdWn4t"
      },
      "source": [
        "\n",
        "\n",
        "**Adição dos arquivos csv**"
      ]
    },
    {
      "cell_type": "code",
      "metadata": {
        "id": "YyaArg_vEA46"
      },
      "source": [
        "circuitos=pd.read_csv(\"https://raw.githubusercontent.com/JosenildoVicente/analiseDadosF1/master/f1/circuits.csv\", encoding = \"ISO-8859-1\")\n",
        "equipes_resultados=pd.read_csv(\"https://raw.githubusercontent.com/JosenildoVicente/analiseDadosF1/master/f1/constructorResults.csv\", encoding = \"ISO-8859-1\")\n",
        "equipes_classificacao=pd.read_csv(\"https://raw.githubusercontent.com/JosenildoVicente/analiseDadosF1/master/f1/constructorStandings.csv\", encoding = \"ISO-8859-1\")\n",
        "equipes=pd.read_csv(\"https://raw.githubusercontent.com/JosenildoVicente/analiseDadosF1/master/f1/constructors.csv\", encoding = \"ISO-8859-1\")\n",
        "pilotos_classificacao=pd.read_csv(\"https://raw.githubusercontent.com/JosenildoVicente/analiseDadosF1/master/f1/driverStandings.csv\", encoding = \"ISO-8859-1\")\n",
        "pilotos=pd.read_csv(\"https://raw.githubusercontent.com/JosenildoVicente/analiseDadosF1/master/f1/drivers.csv\", encoding = \"ISO-8859-1\")\n",
        "tempos_voltas=pd.read_csv(\"https://raw.githubusercontent.com/JosenildoVicente/analiseDadosF1/master/f1/lapTimes.csv\", encoding = \"ISO-8859-1\")\n",
        "tempos_parada=pd.read_csv(\"https://raw.githubusercontent.com/JosenildoVicente/analiseDadosF1/master/f1/pitStops.csv\", encoding = \"ISO-8859-1\")\n",
        "qualificacao=pd.read_csv(\"https://raw.githubusercontent.com/JosenildoVicente/analiseDadosF1/master/f1/qualifying.csv\", encoding = \"ISO-8859-1\")\n",
        "corridas=pd.read_csv(\"https://raw.githubusercontent.com/JosenildoVicente/analiseDadosF1/master/f1/races.csv\", encoding = \"ISO-8859-1\")\n",
        "resultados=pd.read_csv(\"https://raw.githubusercontent.com/JosenildoVicente/analiseDadosF1/master/f1/results.csv\", encoding = \"ISO-8859-1\")\n",
        "temporadas=pd.read_csv(\"https://raw.githubusercontent.com/JosenildoVicente/analiseDadosF1/master/f1/seasons.csv\", encoding = \"ISO-8859-1\")\n",
        "status=pd.read_csv(\"https://raw.githubusercontent.com/JosenildoVicente/analiseDadosF1/master/f1/status.csv\", encoding = \"ISO-8859-1\")"
      ],
      "execution_count": 170,
      "outputs": []
    },
    {
      "cell_type": "markdown",
      "metadata": {
        "id": "s4uy6x2hE0BY"
      },
      "source": [
        "**Pré processamento dos dados:**"
      ]
    },
    {
      "cell_type": "markdown",
      "metadata": {
        "id": "DXOqhOApXh2E"
      },
      "source": [
        "**Verificando as tabelas**"
      ]
    },
    {
      "cell_type": "code",
      "metadata": {
        "id": "vITOTyzhVJMo",
        "outputId": "8c3a12bf-8411-47cb-bb5e-7fa5f64d5ca5",
        "colab": {
          "base_uri": "https://localhost:8080/",
          "height": 204
        }
      },
      "source": [
        "circuitos.head()"
      ],
      "execution_count": 12,
      "outputs": [
        {
          "output_type": "execute_result",
          "data": {
            "text/html": [
              "<div>\n",
              "<style scoped>\n",
              "    .dataframe tbody tr th:only-of-type {\n",
              "        vertical-align: middle;\n",
              "    }\n",
              "\n",
              "    .dataframe tbody tr th {\n",
              "        vertical-align: top;\n",
              "    }\n",
              "\n",
              "    .dataframe thead th {\n",
              "        text-align: right;\n",
              "    }\n",
              "</style>\n",
              "<table border=\"1\" class=\"dataframe\">\n",
              "  <thead>\n",
              "    <tr style=\"text-align: right;\">\n",
              "      <th></th>\n",
              "      <th>circuitId</th>\n",
              "      <th>circuitRef</th>\n",
              "      <th>name</th>\n",
              "      <th>location</th>\n",
              "      <th>country</th>\n",
              "      <th>lat</th>\n",
              "      <th>lng</th>\n",
              "      <th>alt</th>\n",
              "      <th>url</th>\n",
              "    </tr>\n",
              "  </thead>\n",
              "  <tbody>\n",
              "    <tr>\n",
              "      <th>0</th>\n",
              "      <td>1</td>\n",
              "      <td>albert_park</td>\n",
              "      <td>Albert Park Grand Prix Circuit</td>\n",
              "      <td>Melbourne</td>\n",
              "      <td>Australia</td>\n",
              "      <td>-37.84970</td>\n",
              "      <td>144.96800</td>\n",
              "      <td>10.0</td>\n",
              "      <td>http://en.wikipedia.org/wiki/Melbourne_Grand_P...</td>\n",
              "    </tr>\n",
              "    <tr>\n",
              "      <th>1</th>\n",
              "      <td>2</td>\n",
              "      <td>sepang</td>\n",
              "      <td>Sepang International Circuit</td>\n",
              "      <td>Kuala Lumpur</td>\n",
              "      <td>Malaysia</td>\n",
              "      <td>2.76083</td>\n",
              "      <td>101.73800</td>\n",
              "      <td>NaN</td>\n",
              "      <td>http://en.wikipedia.org/wiki/Sepang_Internatio...</td>\n",
              "    </tr>\n",
              "    <tr>\n",
              "      <th>2</th>\n",
              "      <td>3</td>\n",
              "      <td>bahrain</td>\n",
              "      <td>Bahrain International Circuit</td>\n",
              "      <td>Sakhir</td>\n",
              "      <td>Bahrain</td>\n",
              "      <td>26.03250</td>\n",
              "      <td>50.51060</td>\n",
              "      <td>NaN</td>\n",
              "      <td>http://en.wikipedia.org/wiki/Bahrain_Internati...</td>\n",
              "    </tr>\n",
              "    <tr>\n",
              "      <th>3</th>\n",
              "      <td>4</td>\n",
              "      <td>catalunya</td>\n",
              "      <td>Circuit de Barcelona-Catalunya</td>\n",
              "      <td>MontmelÌ_</td>\n",
              "      <td>Spain</td>\n",
              "      <td>41.57000</td>\n",
              "      <td>2.26111</td>\n",
              "      <td>NaN</td>\n",
              "      <td>http://en.wikipedia.org/wiki/Circuit_de_Barcel...</td>\n",
              "    </tr>\n",
              "    <tr>\n",
              "      <th>4</th>\n",
              "      <td>5</td>\n",
              "      <td>istanbul</td>\n",
              "      <td>Istanbul Park</td>\n",
              "      <td>Istanbul</td>\n",
              "      <td>Turkey</td>\n",
              "      <td>40.95170</td>\n",
              "      <td>29.40500</td>\n",
              "      <td>NaN</td>\n",
              "      <td>http://en.wikipedia.org/wiki/Istanbul_Park</td>\n",
              "    </tr>\n",
              "  </tbody>\n",
              "</table>\n",
              "</div>"
            ],
            "text/plain": [
              "   circuitId  ...                                                url\n",
              "0          1  ...  http://en.wikipedia.org/wiki/Melbourne_Grand_P...\n",
              "1          2  ...  http://en.wikipedia.org/wiki/Sepang_Internatio...\n",
              "2          3  ...  http://en.wikipedia.org/wiki/Bahrain_Internati...\n",
              "3          4  ...  http://en.wikipedia.org/wiki/Circuit_de_Barcel...\n",
              "4          5  ...         http://en.wikipedia.org/wiki/Istanbul_Park\n",
              "\n",
              "[5 rows x 9 columns]"
            ]
          },
          "metadata": {
            "tags": []
          },
          "execution_count": 12
        }
      ]
    },
    {
      "cell_type": "code",
      "metadata": {
        "id": "3vOF7R9UX4ZK",
        "outputId": "e8674fa8-ea1a-4b8c-90bb-43e81b8758f3",
        "colab": {
          "base_uri": "https://localhost:8080/",
          "height": 204
        }
      },
      "source": [
        "equipes_resultados.head()"
      ],
      "execution_count": 13,
      "outputs": [
        {
          "output_type": "execute_result",
          "data": {
            "text/html": [
              "<div>\n",
              "<style scoped>\n",
              "    .dataframe tbody tr th:only-of-type {\n",
              "        vertical-align: middle;\n",
              "    }\n",
              "\n",
              "    .dataframe tbody tr th {\n",
              "        vertical-align: top;\n",
              "    }\n",
              "\n",
              "    .dataframe thead th {\n",
              "        text-align: right;\n",
              "    }\n",
              "</style>\n",
              "<table border=\"1\" class=\"dataframe\">\n",
              "  <thead>\n",
              "    <tr style=\"text-align: right;\">\n",
              "      <th></th>\n",
              "      <th>constructorResultsId</th>\n",
              "      <th>raceId</th>\n",
              "      <th>constructorId</th>\n",
              "      <th>points</th>\n",
              "      <th>status</th>\n",
              "    </tr>\n",
              "  </thead>\n",
              "  <tbody>\n",
              "    <tr>\n",
              "      <th>0</th>\n",
              "      <td>1</td>\n",
              "      <td>18</td>\n",
              "      <td>1</td>\n",
              "      <td>14.0</td>\n",
              "      <td>NaN</td>\n",
              "    </tr>\n",
              "    <tr>\n",
              "      <th>1</th>\n",
              "      <td>2</td>\n",
              "      <td>18</td>\n",
              "      <td>2</td>\n",
              "      <td>8.0</td>\n",
              "      <td>NaN</td>\n",
              "    </tr>\n",
              "    <tr>\n",
              "      <th>2</th>\n",
              "      <td>3</td>\n",
              "      <td>18</td>\n",
              "      <td>3</td>\n",
              "      <td>9.0</td>\n",
              "      <td>NaN</td>\n",
              "    </tr>\n",
              "    <tr>\n",
              "      <th>3</th>\n",
              "      <td>4</td>\n",
              "      <td>18</td>\n",
              "      <td>4</td>\n",
              "      <td>5.0</td>\n",
              "      <td>NaN</td>\n",
              "    </tr>\n",
              "    <tr>\n",
              "      <th>4</th>\n",
              "      <td>5</td>\n",
              "      <td>18</td>\n",
              "      <td>5</td>\n",
              "      <td>2.0</td>\n",
              "      <td>NaN</td>\n",
              "    </tr>\n",
              "  </tbody>\n",
              "</table>\n",
              "</div>"
            ],
            "text/plain": [
              "   constructorResultsId  raceId  constructorId  points status\n",
              "0                     1      18              1    14.0    NaN\n",
              "1                     2      18              2     8.0    NaN\n",
              "2                     3      18              3     9.0    NaN\n",
              "3                     4      18              4     5.0    NaN\n",
              "4                     5      18              5     2.0    NaN"
            ]
          },
          "metadata": {
            "tags": []
          },
          "execution_count": 13
        }
      ]
    },
    {
      "cell_type": "code",
      "metadata": {
        "id": "lBcF9p5FX9sk",
        "outputId": "7c5c13b4-15da-41db-84fe-709cf36b35e3",
        "colab": {
          "base_uri": "https://localhost:8080/",
          "height": 204
        }
      },
      "source": [
        "equipes_classificacao.head()"
      ],
      "execution_count": 14,
      "outputs": [
        {
          "output_type": "execute_result",
          "data": {
            "text/html": [
              "<div>\n",
              "<style scoped>\n",
              "    .dataframe tbody tr th:only-of-type {\n",
              "        vertical-align: middle;\n",
              "    }\n",
              "\n",
              "    .dataframe tbody tr th {\n",
              "        vertical-align: top;\n",
              "    }\n",
              "\n",
              "    .dataframe thead th {\n",
              "        text-align: right;\n",
              "    }\n",
              "</style>\n",
              "<table border=\"1\" class=\"dataframe\">\n",
              "  <thead>\n",
              "    <tr style=\"text-align: right;\">\n",
              "      <th></th>\n",
              "      <th>constructorStandingsId</th>\n",
              "      <th>raceId</th>\n",
              "      <th>constructorId</th>\n",
              "      <th>points</th>\n",
              "      <th>position</th>\n",
              "      <th>positionText</th>\n",
              "      <th>wins</th>\n",
              "      <th>Unnamed: 7</th>\n",
              "    </tr>\n",
              "  </thead>\n",
              "  <tbody>\n",
              "    <tr>\n",
              "      <th>0</th>\n",
              "      <td>1</td>\n",
              "      <td>18</td>\n",
              "      <td>1</td>\n",
              "      <td>14.0</td>\n",
              "      <td>1</td>\n",
              "      <td>1</td>\n",
              "      <td>1</td>\n",
              "      <td>NaN</td>\n",
              "    </tr>\n",
              "    <tr>\n",
              "      <th>1</th>\n",
              "      <td>2</td>\n",
              "      <td>18</td>\n",
              "      <td>2</td>\n",
              "      <td>8.0</td>\n",
              "      <td>3</td>\n",
              "      <td>3</td>\n",
              "      <td>0</td>\n",
              "      <td>NaN</td>\n",
              "    </tr>\n",
              "    <tr>\n",
              "      <th>2</th>\n",
              "      <td>3</td>\n",
              "      <td>18</td>\n",
              "      <td>3</td>\n",
              "      <td>9.0</td>\n",
              "      <td>2</td>\n",
              "      <td>2</td>\n",
              "      <td>0</td>\n",
              "      <td>NaN</td>\n",
              "    </tr>\n",
              "    <tr>\n",
              "      <th>3</th>\n",
              "      <td>4</td>\n",
              "      <td>18</td>\n",
              "      <td>4</td>\n",
              "      <td>5.0</td>\n",
              "      <td>4</td>\n",
              "      <td>4</td>\n",
              "      <td>0</td>\n",
              "      <td>NaN</td>\n",
              "    </tr>\n",
              "    <tr>\n",
              "      <th>4</th>\n",
              "      <td>5</td>\n",
              "      <td>18</td>\n",
              "      <td>5</td>\n",
              "      <td>2.0</td>\n",
              "      <td>5</td>\n",
              "      <td>5</td>\n",
              "      <td>0</td>\n",
              "      <td>NaN</td>\n",
              "    </tr>\n",
              "  </tbody>\n",
              "</table>\n",
              "</div>"
            ],
            "text/plain": [
              "   constructorStandingsId  raceId  constructorId  ...  positionText  wins Unnamed: 7\n",
              "0                       1      18              1  ...             1     1        NaN\n",
              "1                       2      18              2  ...             3     0        NaN\n",
              "2                       3      18              3  ...             2     0        NaN\n",
              "3                       4      18              4  ...             4     0        NaN\n",
              "4                       5      18              5  ...             5     0        NaN\n",
              "\n",
              "[5 rows x 8 columns]"
            ]
          },
          "metadata": {
            "tags": []
          },
          "execution_count": 14
        }
      ]
    },
    {
      "cell_type": "code",
      "metadata": {
        "id": "s10rD9WEYBQC",
        "outputId": "fa92ebca-6872-4200-ac20-10d286362fac",
        "colab": {
          "base_uri": "https://localhost:8080/",
          "height": 204
        }
      },
      "source": [
        "equipes.head()"
      ],
      "execution_count": 15,
      "outputs": [
        {
          "output_type": "execute_result",
          "data": {
            "text/html": [
              "<div>\n",
              "<style scoped>\n",
              "    .dataframe tbody tr th:only-of-type {\n",
              "        vertical-align: middle;\n",
              "    }\n",
              "\n",
              "    .dataframe tbody tr th {\n",
              "        vertical-align: top;\n",
              "    }\n",
              "\n",
              "    .dataframe thead th {\n",
              "        text-align: right;\n",
              "    }\n",
              "</style>\n",
              "<table border=\"1\" class=\"dataframe\">\n",
              "  <thead>\n",
              "    <tr style=\"text-align: right;\">\n",
              "      <th></th>\n",
              "      <th>constructorId</th>\n",
              "      <th>constructorRef</th>\n",
              "      <th>name</th>\n",
              "      <th>nationality</th>\n",
              "      <th>url</th>\n",
              "      <th>Unnamed: 5</th>\n",
              "    </tr>\n",
              "  </thead>\n",
              "  <tbody>\n",
              "    <tr>\n",
              "      <th>0</th>\n",
              "      <td>1</td>\n",
              "      <td>mclaren</td>\n",
              "      <td>McLaren</td>\n",
              "      <td>British</td>\n",
              "      <td>http://en.wikipedia.org/wiki/McLaren</td>\n",
              "      <td>NaN</td>\n",
              "    </tr>\n",
              "    <tr>\n",
              "      <th>1</th>\n",
              "      <td>2</td>\n",
              "      <td>bmw_sauber</td>\n",
              "      <td>BMW Sauber</td>\n",
              "      <td>German</td>\n",
              "      <td>http://en.wikipedia.org/wiki/BMW_Sauber</td>\n",
              "      <td>NaN</td>\n",
              "    </tr>\n",
              "    <tr>\n",
              "      <th>2</th>\n",
              "      <td>3</td>\n",
              "      <td>williams</td>\n",
              "      <td>Williams</td>\n",
              "      <td>British</td>\n",
              "      <td>http://en.wikipedia.org/wiki/Williams_Grand_Pr...</td>\n",
              "      <td>NaN</td>\n",
              "    </tr>\n",
              "    <tr>\n",
              "      <th>3</th>\n",
              "      <td>4</td>\n",
              "      <td>renault</td>\n",
              "      <td>Renault</td>\n",
              "      <td>French</td>\n",
              "      <td>http://en.wikipedia.org/wiki/Renault_F1</td>\n",
              "      <td>NaN</td>\n",
              "    </tr>\n",
              "    <tr>\n",
              "      <th>4</th>\n",
              "      <td>5</td>\n",
              "      <td>toro_rosso</td>\n",
              "      <td>Toro Rosso</td>\n",
              "      <td>Italian</td>\n",
              "      <td>http://en.wikipedia.org/wiki/Scuderia_Toro_Rosso</td>\n",
              "      <td>NaN</td>\n",
              "    </tr>\n",
              "  </tbody>\n",
              "</table>\n",
              "</div>"
            ],
            "text/plain": [
              "   constructorId  ... Unnamed: 5\n",
              "0              1  ...        NaN\n",
              "1              2  ...        NaN\n",
              "2              3  ...        NaN\n",
              "3              4  ...        NaN\n",
              "4              5  ...        NaN\n",
              "\n",
              "[5 rows x 6 columns]"
            ]
          },
          "metadata": {
            "tags": []
          },
          "execution_count": 15
        }
      ]
    },
    {
      "cell_type": "code",
      "metadata": {
        "id": "cTgHQoJCYXkv",
        "outputId": "872a3a5d-53eb-4c4c-cdbc-c660c739bacc",
        "colab": {
          "base_uri": "https://localhost:8080/",
          "height": 204
        }
      },
      "source": [
        "pilotos_classificacao.head()"
      ],
      "execution_count": 16,
      "outputs": [
        {
          "output_type": "execute_result",
          "data": {
            "text/html": [
              "<div>\n",
              "<style scoped>\n",
              "    .dataframe tbody tr th:only-of-type {\n",
              "        vertical-align: middle;\n",
              "    }\n",
              "\n",
              "    .dataframe tbody tr th {\n",
              "        vertical-align: top;\n",
              "    }\n",
              "\n",
              "    .dataframe thead th {\n",
              "        text-align: right;\n",
              "    }\n",
              "</style>\n",
              "<table border=\"1\" class=\"dataframe\">\n",
              "  <thead>\n",
              "    <tr style=\"text-align: right;\">\n",
              "      <th></th>\n",
              "      <th>driverStandingsId</th>\n",
              "      <th>raceId</th>\n",
              "      <th>driverId</th>\n",
              "      <th>points</th>\n",
              "      <th>position</th>\n",
              "      <th>positionText</th>\n",
              "      <th>wins</th>\n",
              "    </tr>\n",
              "  </thead>\n",
              "  <tbody>\n",
              "    <tr>\n",
              "      <th>0</th>\n",
              "      <td>1</td>\n",
              "      <td>18</td>\n",
              "      <td>1</td>\n",
              "      <td>10.0</td>\n",
              "      <td>1</td>\n",
              "      <td>1</td>\n",
              "      <td>1</td>\n",
              "    </tr>\n",
              "    <tr>\n",
              "      <th>1</th>\n",
              "      <td>2</td>\n",
              "      <td>18</td>\n",
              "      <td>2</td>\n",
              "      <td>8.0</td>\n",
              "      <td>2</td>\n",
              "      <td>2</td>\n",
              "      <td>0</td>\n",
              "    </tr>\n",
              "    <tr>\n",
              "      <th>2</th>\n",
              "      <td>3</td>\n",
              "      <td>18</td>\n",
              "      <td>3</td>\n",
              "      <td>6.0</td>\n",
              "      <td>3</td>\n",
              "      <td>3</td>\n",
              "      <td>0</td>\n",
              "    </tr>\n",
              "    <tr>\n",
              "      <th>3</th>\n",
              "      <td>4</td>\n",
              "      <td>18</td>\n",
              "      <td>4</td>\n",
              "      <td>5.0</td>\n",
              "      <td>4</td>\n",
              "      <td>4</td>\n",
              "      <td>0</td>\n",
              "    </tr>\n",
              "    <tr>\n",
              "      <th>4</th>\n",
              "      <td>5</td>\n",
              "      <td>18</td>\n",
              "      <td>5</td>\n",
              "      <td>4.0</td>\n",
              "      <td>5</td>\n",
              "      <td>5</td>\n",
              "      <td>0</td>\n",
              "    </tr>\n",
              "  </tbody>\n",
              "</table>\n",
              "</div>"
            ],
            "text/plain": [
              "   driverStandingsId  raceId  driverId  points  position positionText  wins\n",
              "0                  1      18         1    10.0         1            1     1\n",
              "1                  2      18         2     8.0         2            2     0\n",
              "2                  3      18         3     6.0         3            3     0\n",
              "3                  4      18         4     5.0         4            4     0\n",
              "4                  5      18         5     4.0         5            5     0"
            ]
          },
          "metadata": {
            "tags": []
          },
          "execution_count": 16
        }
      ]
    },
    {
      "cell_type": "code",
      "metadata": {
        "id": "sACw4o6RYbz-",
        "outputId": "438ea619-e9e9-4d04-b89a-a9b447d4b9c0",
        "colab": {
          "base_uri": "https://localhost:8080/",
          "height": 204
        }
      },
      "source": [
        "pilotos.head()"
      ],
      "execution_count": 17,
      "outputs": [
        {
          "output_type": "execute_result",
          "data": {
            "text/html": [
              "<div>\n",
              "<style scoped>\n",
              "    .dataframe tbody tr th:only-of-type {\n",
              "        vertical-align: middle;\n",
              "    }\n",
              "\n",
              "    .dataframe tbody tr th {\n",
              "        vertical-align: top;\n",
              "    }\n",
              "\n",
              "    .dataframe thead th {\n",
              "        text-align: right;\n",
              "    }\n",
              "</style>\n",
              "<table border=\"1\" class=\"dataframe\">\n",
              "  <thead>\n",
              "    <tr style=\"text-align: right;\">\n",
              "      <th></th>\n",
              "      <th>driverId</th>\n",
              "      <th>driverRef</th>\n",
              "      <th>number</th>\n",
              "      <th>code</th>\n",
              "      <th>forename</th>\n",
              "      <th>surname</th>\n",
              "      <th>dob</th>\n",
              "      <th>nationality</th>\n",
              "      <th>url</th>\n",
              "    </tr>\n",
              "  </thead>\n",
              "  <tbody>\n",
              "    <tr>\n",
              "      <th>0</th>\n",
              "      <td>1</td>\n",
              "      <td>hamilton</td>\n",
              "      <td>44.0</td>\n",
              "      <td>HAM</td>\n",
              "      <td>Lewis</td>\n",
              "      <td>Hamilton</td>\n",
              "      <td>07/01/1985</td>\n",
              "      <td>British</td>\n",
              "      <td>http://en.wikipedia.org/wiki/Lewis_Hamilton</td>\n",
              "    </tr>\n",
              "    <tr>\n",
              "      <th>1</th>\n",
              "      <td>2</td>\n",
              "      <td>heidfeld</td>\n",
              "      <td>NaN</td>\n",
              "      <td>HEI</td>\n",
              "      <td>Nick</td>\n",
              "      <td>Heidfeld</td>\n",
              "      <td>10/05/1977</td>\n",
              "      <td>German</td>\n",
              "      <td>http://en.wikipedia.org/wiki/Nick_Heidfeld</td>\n",
              "    </tr>\n",
              "    <tr>\n",
              "      <th>2</th>\n",
              "      <td>3</td>\n",
              "      <td>rosberg</td>\n",
              "      <td>6.0</td>\n",
              "      <td>ROS</td>\n",
              "      <td>Nico</td>\n",
              "      <td>Rosberg</td>\n",
              "      <td>27/06/1985</td>\n",
              "      <td>German</td>\n",
              "      <td>http://en.wikipedia.org/wiki/Nico_Rosberg</td>\n",
              "    </tr>\n",
              "    <tr>\n",
              "      <th>3</th>\n",
              "      <td>4</td>\n",
              "      <td>alonso</td>\n",
              "      <td>14.0</td>\n",
              "      <td>ALO</td>\n",
              "      <td>Fernando</td>\n",
              "      <td>Alonso</td>\n",
              "      <td>29/07/1981</td>\n",
              "      <td>Spanish</td>\n",
              "      <td>http://en.wikipedia.org/wiki/Fernando_Alonso</td>\n",
              "    </tr>\n",
              "    <tr>\n",
              "      <th>4</th>\n",
              "      <td>5</td>\n",
              "      <td>kovalainen</td>\n",
              "      <td>NaN</td>\n",
              "      <td>KOV</td>\n",
              "      <td>Heikki</td>\n",
              "      <td>Kovalainen</td>\n",
              "      <td>19/10/1981</td>\n",
              "      <td>Finnish</td>\n",
              "      <td>http://en.wikipedia.org/wiki/Heikki_Kovalainen</td>\n",
              "    </tr>\n",
              "  </tbody>\n",
              "</table>\n",
              "</div>"
            ],
            "text/plain": [
              "   driverId  ...                                             url\n",
              "0         1  ...     http://en.wikipedia.org/wiki/Lewis_Hamilton\n",
              "1         2  ...      http://en.wikipedia.org/wiki/Nick_Heidfeld\n",
              "2         3  ...       http://en.wikipedia.org/wiki/Nico_Rosberg\n",
              "3         4  ...    http://en.wikipedia.org/wiki/Fernando_Alonso\n",
              "4         5  ...  http://en.wikipedia.org/wiki/Heikki_Kovalainen\n",
              "\n",
              "[5 rows x 9 columns]"
            ]
          },
          "metadata": {
            "tags": []
          },
          "execution_count": 17
        }
      ]
    },
    {
      "cell_type": "code",
      "metadata": {
        "id": "Y5UjDPknYey2",
        "outputId": "89b57697-2af1-4e61-ea08-d20888ffc430",
        "colab": {
          "base_uri": "https://localhost:8080/",
          "height": 204
        }
      },
      "source": [
        "tempos_voltas.head()"
      ],
      "execution_count": 18,
      "outputs": [
        {
          "output_type": "execute_result",
          "data": {
            "text/html": [
              "<div>\n",
              "<style scoped>\n",
              "    .dataframe tbody tr th:only-of-type {\n",
              "        vertical-align: middle;\n",
              "    }\n",
              "\n",
              "    .dataframe tbody tr th {\n",
              "        vertical-align: top;\n",
              "    }\n",
              "\n",
              "    .dataframe thead th {\n",
              "        text-align: right;\n",
              "    }\n",
              "</style>\n",
              "<table border=\"1\" class=\"dataframe\">\n",
              "  <thead>\n",
              "    <tr style=\"text-align: right;\">\n",
              "      <th></th>\n",
              "      <th>raceId</th>\n",
              "      <th>driverId</th>\n",
              "      <th>lap</th>\n",
              "      <th>position</th>\n",
              "      <th>time</th>\n",
              "      <th>milliseconds</th>\n",
              "    </tr>\n",
              "  </thead>\n",
              "  <tbody>\n",
              "    <tr>\n",
              "      <th>0</th>\n",
              "      <td>841</td>\n",
              "      <td>20</td>\n",
              "      <td>1</td>\n",
              "      <td>1</td>\n",
              "      <td>1:38.109</td>\n",
              "      <td>98109</td>\n",
              "    </tr>\n",
              "    <tr>\n",
              "      <th>1</th>\n",
              "      <td>841</td>\n",
              "      <td>20</td>\n",
              "      <td>2</td>\n",
              "      <td>1</td>\n",
              "      <td>1:33.006</td>\n",
              "      <td>93006</td>\n",
              "    </tr>\n",
              "    <tr>\n",
              "      <th>2</th>\n",
              "      <td>841</td>\n",
              "      <td>20</td>\n",
              "      <td>3</td>\n",
              "      <td>1</td>\n",
              "      <td>1:32.713</td>\n",
              "      <td>92713</td>\n",
              "    </tr>\n",
              "    <tr>\n",
              "      <th>3</th>\n",
              "      <td>841</td>\n",
              "      <td>20</td>\n",
              "      <td>4</td>\n",
              "      <td>1</td>\n",
              "      <td>1:32.803</td>\n",
              "      <td>92803</td>\n",
              "    </tr>\n",
              "    <tr>\n",
              "      <th>4</th>\n",
              "      <td>841</td>\n",
              "      <td>20</td>\n",
              "      <td>5</td>\n",
              "      <td>1</td>\n",
              "      <td>1:32.342</td>\n",
              "      <td>92342</td>\n",
              "    </tr>\n",
              "  </tbody>\n",
              "</table>\n",
              "</div>"
            ],
            "text/plain": [
              "   raceId  driverId  lap  position      time  milliseconds\n",
              "0     841        20    1         1  1:38.109         98109\n",
              "1     841        20    2         1  1:33.006         93006\n",
              "2     841        20    3         1  1:32.713         92713\n",
              "3     841        20    4         1  1:32.803         92803\n",
              "4     841        20    5         1  1:32.342         92342"
            ]
          },
          "metadata": {
            "tags": []
          },
          "execution_count": 18
        }
      ]
    },
    {
      "cell_type": "code",
      "metadata": {
        "id": "F7YdaX7XYf-g",
        "outputId": "e7949c2c-107e-4cc8-99f6-00635f4147e7",
        "colab": {
          "base_uri": "https://localhost:8080/",
          "height": 204
        }
      },
      "source": [
        "tempos_parada.head()"
      ],
      "execution_count": 24,
      "outputs": [
        {
          "output_type": "execute_result",
          "data": {
            "text/html": [
              "<div>\n",
              "<style scoped>\n",
              "    .dataframe tbody tr th:only-of-type {\n",
              "        vertical-align: middle;\n",
              "    }\n",
              "\n",
              "    .dataframe tbody tr th {\n",
              "        vertical-align: top;\n",
              "    }\n",
              "\n",
              "    .dataframe thead th {\n",
              "        text-align: right;\n",
              "    }\n",
              "</style>\n",
              "<table border=\"1\" class=\"dataframe\">\n",
              "  <thead>\n",
              "    <tr style=\"text-align: right;\">\n",
              "      <th></th>\n",
              "      <th>raceId</th>\n",
              "      <th>driverId</th>\n",
              "      <th>stop</th>\n",
              "      <th>lap</th>\n",
              "      <th>time</th>\n",
              "      <th>duration</th>\n",
              "      <th>milliseconds</th>\n",
              "    </tr>\n",
              "  </thead>\n",
              "  <tbody>\n",
              "    <tr>\n",
              "      <th>0</th>\n",
              "      <td>841</td>\n",
              "      <td>153</td>\n",
              "      <td>1</td>\n",
              "      <td>1</td>\n",
              "      <td>17:05:23</td>\n",
              "      <td>26.898</td>\n",
              "      <td>26898</td>\n",
              "    </tr>\n",
              "    <tr>\n",
              "      <th>1</th>\n",
              "      <td>841</td>\n",
              "      <td>30</td>\n",
              "      <td>1</td>\n",
              "      <td>1</td>\n",
              "      <td>17:05:52</td>\n",
              "      <td>25.021</td>\n",
              "      <td>25021</td>\n",
              "    </tr>\n",
              "    <tr>\n",
              "      <th>2</th>\n",
              "      <td>841</td>\n",
              "      <td>17</td>\n",
              "      <td>1</td>\n",
              "      <td>11</td>\n",
              "      <td>17:20:48</td>\n",
              "      <td>23.426</td>\n",
              "      <td>23426</td>\n",
              "    </tr>\n",
              "    <tr>\n",
              "      <th>3</th>\n",
              "      <td>841</td>\n",
              "      <td>4</td>\n",
              "      <td>1</td>\n",
              "      <td>12</td>\n",
              "      <td>17:22:34</td>\n",
              "      <td>23.251</td>\n",
              "      <td>23251</td>\n",
              "    </tr>\n",
              "    <tr>\n",
              "      <th>4</th>\n",
              "      <td>841</td>\n",
              "      <td>13</td>\n",
              "      <td>1</td>\n",
              "      <td>13</td>\n",
              "      <td>17:24:10</td>\n",
              "      <td>23.842</td>\n",
              "      <td>23842</td>\n",
              "    </tr>\n",
              "  </tbody>\n",
              "</table>\n",
              "</div>"
            ],
            "text/plain": [
              "   raceId  driverId  stop  lap      time duration  milliseconds\n",
              "0     841       153     1    1  17:05:23   26.898         26898\n",
              "1     841        30     1    1  17:05:52   25.021         25021\n",
              "2     841        17     1   11  17:20:48   23.426         23426\n",
              "3     841         4     1   12  17:22:34   23.251         23251\n",
              "4     841        13     1   13  17:24:10   23.842         23842"
            ]
          },
          "metadata": {
            "tags": []
          },
          "execution_count": 24
        }
      ]
    },
    {
      "cell_type": "code",
      "metadata": {
        "id": "qIB4S-MkYhus",
        "outputId": "b38a066b-9f55-4483-912d-62970dc108ab",
        "colab": {
          "base_uri": "https://localhost:8080/",
          "height": 204
        }
      },
      "source": [
        "qualificacao.head()"
      ],
      "execution_count": 20,
      "outputs": [
        {
          "output_type": "execute_result",
          "data": {
            "text/html": [
              "<div>\n",
              "<style scoped>\n",
              "    .dataframe tbody tr th:only-of-type {\n",
              "        vertical-align: middle;\n",
              "    }\n",
              "\n",
              "    .dataframe tbody tr th {\n",
              "        vertical-align: top;\n",
              "    }\n",
              "\n",
              "    .dataframe thead th {\n",
              "        text-align: right;\n",
              "    }\n",
              "</style>\n",
              "<table border=\"1\" class=\"dataframe\">\n",
              "  <thead>\n",
              "    <tr style=\"text-align: right;\">\n",
              "      <th></th>\n",
              "      <th>qualifyId</th>\n",
              "      <th>raceId</th>\n",
              "      <th>driverId</th>\n",
              "      <th>constructorId</th>\n",
              "      <th>number</th>\n",
              "      <th>position</th>\n",
              "      <th>q1</th>\n",
              "      <th>q2</th>\n",
              "      <th>q3</th>\n",
              "    </tr>\n",
              "  </thead>\n",
              "  <tbody>\n",
              "    <tr>\n",
              "      <th>0</th>\n",
              "      <td>1</td>\n",
              "      <td>18</td>\n",
              "      <td>1</td>\n",
              "      <td>1</td>\n",
              "      <td>22</td>\n",
              "      <td>1</td>\n",
              "      <td>1:26.572</td>\n",
              "      <td>1:25.187</td>\n",
              "      <td>1:26.714</td>\n",
              "    </tr>\n",
              "    <tr>\n",
              "      <th>1</th>\n",
              "      <td>2</td>\n",
              "      <td>18</td>\n",
              "      <td>9</td>\n",
              "      <td>2</td>\n",
              "      <td>4</td>\n",
              "      <td>2</td>\n",
              "      <td>1:26.103</td>\n",
              "      <td>1:25.315</td>\n",
              "      <td>1:26.869</td>\n",
              "    </tr>\n",
              "    <tr>\n",
              "      <th>2</th>\n",
              "      <td>3</td>\n",
              "      <td>18</td>\n",
              "      <td>5</td>\n",
              "      <td>1</td>\n",
              "      <td>23</td>\n",
              "      <td>3</td>\n",
              "      <td>1:25.664</td>\n",
              "      <td>1:25.452</td>\n",
              "      <td>1:27.079</td>\n",
              "    </tr>\n",
              "    <tr>\n",
              "      <th>3</th>\n",
              "      <td>4</td>\n",
              "      <td>18</td>\n",
              "      <td>13</td>\n",
              "      <td>6</td>\n",
              "      <td>2</td>\n",
              "      <td>4</td>\n",
              "      <td>1:25.994</td>\n",
              "      <td>1:25.691</td>\n",
              "      <td>1:27.178</td>\n",
              "    </tr>\n",
              "    <tr>\n",
              "      <th>4</th>\n",
              "      <td>5</td>\n",
              "      <td>18</td>\n",
              "      <td>2</td>\n",
              "      <td>2</td>\n",
              "      <td>3</td>\n",
              "      <td>5</td>\n",
              "      <td>1:25.960</td>\n",
              "      <td>1:25.518</td>\n",
              "      <td>1:27.236</td>\n",
              "    </tr>\n",
              "  </tbody>\n",
              "</table>\n",
              "</div>"
            ],
            "text/plain": [
              "   qualifyId  raceId  driverId  ...        q1        q2        q3\n",
              "0          1      18         1  ...  1:26.572  1:25.187  1:26.714\n",
              "1          2      18         9  ...  1:26.103  1:25.315  1:26.869\n",
              "2          3      18         5  ...  1:25.664  1:25.452  1:27.079\n",
              "3          4      18        13  ...  1:25.994  1:25.691  1:27.178\n",
              "4          5      18         2  ...  1:25.960  1:25.518  1:27.236\n",
              "\n",
              "[5 rows x 9 columns]"
            ]
          },
          "metadata": {
            "tags": []
          },
          "execution_count": 20
        }
      ]
    },
    {
      "cell_type": "code",
      "metadata": {
        "id": "XpAEVx7HYkNA",
        "outputId": "018575f0-0792-478c-de15-ad2863f83172",
        "colab": {
          "base_uri": "https://localhost:8080/",
          "height": 204
        }
      },
      "source": [
        "corridas.head()"
      ],
      "execution_count": 39,
      "outputs": [
        {
          "output_type": "execute_result",
          "data": {
            "text/html": [
              "<div>\n",
              "<style scoped>\n",
              "    .dataframe tbody tr th:only-of-type {\n",
              "        vertical-align: middle;\n",
              "    }\n",
              "\n",
              "    .dataframe tbody tr th {\n",
              "        vertical-align: top;\n",
              "    }\n",
              "\n",
              "    .dataframe thead th {\n",
              "        text-align: right;\n",
              "    }\n",
              "</style>\n",
              "<table border=\"1\" class=\"dataframe\">\n",
              "  <thead>\n",
              "    <tr style=\"text-align: right;\">\n",
              "      <th></th>\n",
              "      <th>raceId</th>\n",
              "      <th>year</th>\n",
              "      <th>round</th>\n",
              "      <th>circuitId</th>\n",
              "      <th>name</th>\n",
              "      <th>date</th>\n",
              "      <th>time</th>\n",
              "      <th>url</th>\n",
              "    </tr>\n",
              "  </thead>\n",
              "  <tbody>\n",
              "    <tr>\n",
              "      <th>0</th>\n",
              "      <td>1</td>\n",
              "      <td>2009</td>\n",
              "      <td>1</td>\n",
              "      <td>1</td>\n",
              "      <td>Australian Grand Prix</td>\n",
              "      <td>2009-03-29</td>\n",
              "      <td>06:00:00</td>\n",
              "      <td>http://en.wikipedia.org/wiki/2009_Australian_G...</td>\n",
              "    </tr>\n",
              "    <tr>\n",
              "      <th>1</th>\n",
              "      <td>2</td>\n",
              "      <td>2009</td>\n",
              "      <td>2</td>\n",
              "      <td>2</td>\n",
              "      <td>Malaysian Grand Prix</td>\n",
              "      <td>2009-04-05</td>\n",
              "      <td>09:00:00</td>\n",
              "      <td>http://en.wikipedia.org/wiki/2009_Malaysian_Gr...</td>\n",
              "    </tr>\n",
              "    <tr>\n",
              "      <th>2</th>\n",
              "      <td>3</td>\n",
              "      <td>2009</td>\n",
              "      <td>3</td>\n",
              "      <td>17</td>\n",
              "      <td>Chinese Grand Prix</td>\n",
              "      <td>2009-04-19</td>\n",
              "      <td>07:00:00</td>\n",
              "      <td>http://en.wikipedia.org/wiki/2009_Chinese_Gran...</td>\n",
              "    </tr>\n",
              "    <tr>\n",
              "      <th>3</th>\n",
              "      <td>4</td>\n",
              "      <td>2009</td>\n",
              "      <td>4</td>\n",
              "      <td>3</td>\n",
              "      <td>Bahrain Grand Prix</td>\n",
              "      <td>2009-04-26</td>\n",
              "      <td>12:00:00</td>\n",
              "      <td>http://en.wikipedia.org/wiki/2009_Bahrain_Gran...</td>\n",
              "    </tr>\n",
              "    <tr>\n",
              "      <th>4</th>\n",
              "      <td>5</td>\n",
              "      <td>2009</td>\n",
              "      <td>5</td>\n",
              "      <td>4</td>\n",
              "      <td>Spanish Grand Prix</td>\n",
              "      <td>2009-05-10</td>\n",
              "      <td>12:00:00</td>\n",
              "      <td>http://en.wikipedia.org/wiki/2009_Spanish_Gran...</td>\n",
              "    </tr>\n",
              "  </tbody>\n",
              "</table>\n",
              "</div>"
            ],
            "text/plain": [
              "   raceId  year  ...      time                                                url\n",
              "0       1  2009  ...  06:00:00  http://en.wikipedia.org/wiki/2009_Australian_G...\n",
              "1       2  2009  ...  09:00:00  http://en.wikipedia.org/wiki/2009_Malaysian_Gr...\n",
              "2       3  2009  ...  07:00:00  http://en.wikipedia.org/wiki/2009_Chinese_Gran...\n",
              "3       4  2009  ...  12:00:00  http://en.wikipedia.org/wiki/2009_Bahrain_Gran...\n",
              "4       5  2009  ...  12:00:00  http://en.wikipedia.org/wiki/2009_Spanish_Gran...\n",
              "\n",
              "[5 rows x 8 columns]"
            ]
          },
          "metadata": {
            "tags": []
          },
          "execution_count": 39
        }
      ]
    },
    {
      "cell_type": "code",
      "metadata": {
        "id": "0qekKvbnYnA2",
        "outputId": "720aff39-8b66-4c49-fe8f-b9202286256e",
        "colab": {
          "base_uri": "https://localhost:8080/",
          "height": 204
        }
      },
      "source": [
        "resultados.head()"
      ],
      "execution_count": 22,
      "outputs": [
        {
          "output_type": "execute_result",
          "data": {
            "text/html": [
              "<div>\n",
              "<style scoped>\n",
              "    .dataframe tbody tr th:only-of-type {\n",
              "        vertical-align: middle;\n",
              "    }\n",
              "\n",
              "    .dataframe tbody tr th {\n",
              "        vertical-align: top;\n",
              "    }\n",
              "\n",
              "    .dataframe thead th {\n",
              "        text-align: right;\n",
              "    }\n",
              "</style>\n",
              "<table border=\"1\" class=\"dataframe\">\n",
              "  <thead>\n",
              "    <tr style=\"text-align: right;\">\n",
              "      <th></th>\n",
              "      <th>resultId</th>\n",
              "      <th>raceId</th>\n",
              "      <th>driverId</th>\n",
              "      <th>constructorId</th>\n",
              "      <th>number</th>\n",
              "      <th>grid</th>\n",
              "      <th>position</th>\n",
              "      <th>positionText</th>\n",
              "      <th>positionOrder</th>\n",
              "      <th>points</th>\n",
              "      <th>laps</th>\n",
              "      <th>time</th>\n",
              "      <th>milliseconds</th>\n",
              "      <th>fastestLap</th>\n",
              "      <th>rank</th>\n",
              "      <th>fastestLapTime</th>\n",
              "      <th>fastestLapSpeed</th>\n",
              "      <th>statusId</th>\n",
              "    </tr>\n",
              "  </thead>\n",
              "  <tbody>\n",
              "    <tr>\n",
              "      <th>0</th>\n",
              "      <td>1</td>\n",
              "      <td>18</td>\n",
              "      <td>1</td>\n",
              "      <td>1</td>\n",
              "      <td>22.0</td>\n",
              "      <td>1</td>\n",
              "      <td>1.0</td>\n",
              "      <td>1</td>\n",
              "      <td>1</td>\n",
              "      <td>10.0</td>\n",
              "      <td>58</td>\n",
              "      <td>34:50.6</td>\n",
              "      <td>5690616.0</td>\n",
              "      <td>39.0</td>\n",
              "      <td>2.0</td>\n",
              "      <td>01:27.5</td>\n",
              "      <td>218.3</td>\n",
              "      <td>1</td>\n",
              "    </tr>\n",
              "    <tr>\n",
              "      <th>1</th>\n",
              "      <td>2</td>\n",
              "      <td>18</td>\n",
              "      <td>2</td>\n",
              "      <td>2</td>\n",
              "      <td>3.0</td>\n",
              "      <td>5</td>\n",
              "      <td>2.0</td>\n",
              "      <td>2</td>\n",
              "      <td>2</td>\n",
              "      <td>8.0</td>\n",
              "      <td>58</td>\n",
              "      <td>5.478</td>\n",
              "      <td>5696094.0</td>\n",
              "      <td>41.0</td>\n",
              "      <td>3.0</td>\n",
              "      <td>01:27.7</td>\n",
              "      <td>217.586</td>\n",
              "      <td>1</td>\n",
              "    </tr>\n",
              "    <tr>\n",
              "      <th>2</th>\n",
              "      <td>3</td>\n",
              "      <td>18</td>\n",
              "      <td>3</td>\n",
              "      <td>3</td>\n",
              "      <td>7.0</td>\n",
              "      <td>7</td>\n",
              "      <td>3.0</td>\n",
              "      <td>3</td>\n",
              "      <td>3</td>\n",
              "      <td>6.0</td>\n",
              "      <td>58</td>\n",
              "      <td>8.163</td>\n",
              "      <td>5698779.0</td>\n",
              "      <td>41.0</td>\n",
              "      <td>5.0</td>\n",
              "      <td>01:28.1</td>\n",
              "      <td>216.719</td>\n",
              "      <td>1</td>\n",
              "    </tr>\n",
              "    <tr>\n",
              "      <th>3</th>\n",
              "      <td>4</td>\n",
              "      <td>18</td>\n",
              "      <td>4</td>\n",
              "      <td>4</td>\n",
              "      <td>5.0</td>\n",
              "      <td>11</td>\n",
              "      <td>4.0</td>\n",
              "      <td>4</td>\n",
              "      <td>4</td>\n",
              "      <td>5.0</td>\n",
              "      <td>58</td>\n",
              "      <td>17.181</td>\n",
              "      <td>5707797.0</td>\n",
              "      <td>58.0</td>\n",
              "      <td>7.0</td>\n",
              "      <td>01:28.6</td>\n",
              "      <td>215.464</td>\n",
              "      <td>1</td>\n",
              "    </tr>\n",
              "    <tr>\n",
              "      <th>4</th>\n",
              "      <td>5</td>\n",
              "      <td>18</td>\n",
              "      <td>5</td>\n",
              "      <td>1</td>\n",
              "      <td>23.0</td>\n",
              "      <td>3</td>\n",
              "      <td>5.0</td>\n",
              "      <td>5</td>\n",
              "      <td>5</td>\n",
              "      <td>4.0</td>\n",
              "      <td>58</td>\n",
              "      <td>18.014</td>\n",
              "      <td>5708630.0</td>\n",
              "      <td>43.0</td>\n",
              "      <td>1.0</td>\n",
              "      <td>01:27.4</td>\n",
              "      <td>218.385</td>\n",
              "      <td>1</td>\n",
              "    </tr>\n",
              "  </tbody>\n",
              "</table>\n",
              "</div>"
            ],
            "text/plain": [
              "   resultId  raceId  driverId  ...  fastestLapTime  fastestLapSpeed  statusId\n",
              "0         1      18         1  ...         01:27.5            218.3         1\n",
              "1         2      18         2  ...         01:27.7          217.586         1\n",
              "2         3      18         3  ...         01:28.1          216.719         1\n",
              "3         4      18         4  ...         01:28.6          215.464         1\n",
              "4         5      18         5  ...         01:27.4          218.385         1\n",
              "\n",
              "[5 rows x 18 columns]"
            ]
          },
          "metadata": {
            "tags": []
          },
          "execution_count": 22
        }
      ]
    },
    {
      "cell_type": "code",
      "metadata": {
        "id": "-S4E4n2KYo6a",
        "outputId": "d4f9333e-4faf-41e9-fd0f-3ee66de515f1",
        "colab": {
          "base_uri": "https://localhost:8080/",
          "height": 204
        }
      },
      "source": [
        "temporadas.head()"
      ],
      "execution_count": 23,
      "outputs": [
        {
          "output_type": "execute_result",
          "data": {
            "text/html": [
              "<div>\n",
              "<style scoped>\n",
              "    .dataframe tbody tr th:only-of-type {\n",
              "        vertical-align: middle;\n",
              "    }\n",
              "\n",
              "    .dataframe tbody tr th {\n",
              "        vertical-align: top;\n",
              "    }\n",
              "\n",
              "    .dataframe thead th {\n",
              "        text-align: right;\n",
              "    }\n",
              "</style>\n",
              "<table border=\"1\" class=\"dataframe\">\n",
              "  <thead>\n",
              "    <tr style=\"text-align: right;\">\n",
              "      <th></th>\n",
              "      <th>year</th>\n",
              "      <th>url</th>\n",
              "    </tr>\n",
              "  </thead>\n",
              "  <tbody>\n",
              "    <tr>\n",
              "      <th>0</th>\n",
              "      <td>2009</td>\n",
              "      <td>http://en.wikipedia.org/wiki/2009_Formula_One_...</td>\n",
              "    </tr>\n",
              "    <tr>\n",
              "      <th>1</th>\n",
              "      <td>2008</td>\n",
              "      <td>http://en.wikipedia.org/wiki/2008_Formula_One_...</td>\n",
              "    </tr>\n",
              "    <tr>\n",
              "      <th>2</th>\n",
              "      <td>2007</td>\n",
              "      <td>http://en.wikipedia.org/wiki/2007_Formula_One_...</td>\n",
              "    </tr>\n",
              "    <tr>\n",
              "      <th>3</th>\n",
              "      <td>2006</td>\n",
              "      <td>http://en.wikipedia.org/wiki/2006_Formula_One_...</td>\n",
              "    </tr>\n",
              "    <tr>\n",
              "      <th>4</th>\n",
              "      <td>2005</td>\n",
              "      <td>http://en.wikipedia.org/wiki/2005_Formula_One_...</td>\n",
              "    </tr>\n",
              "  </tbody>\n",
              "</table>\n",
              "</div>"
            ],
            "text/plain": [
              "   year                                                url\n",
              "0  2009  http://en.wikipedia.org/wiki/2009_Formula_One_...\n",
              "1  2008  http://en.wikipedia.org/wiki/2008_Formula_One_...\n",
              "2  2007  http://en.wikipedia.org/wiki/2007_Formula_One_...\n",
              "3  2006  http://en.wikipedia.org/wiki/2006_Formula_One_...\n",
              "4  2005  http://en.wikipedia.org/wiki/2005_Formula_One_..."
            ]
          },
          "metadata": {
            "tags": []
          },
          "execution_count": 23
        }
      ]
    },
    {
      "cell_type": "code",
      "metadata": {
        "id": "Wgc-Q-g1dR89",
        "outputId": "c3d5f0f0-4a38-4731-b9aa-ab4571ea93ff",
        "colab": {
          "base_uri": "https://localhost:8080/",
          "height": 638
        }
      },
      "source": [
        "#apenas para verificar algumas consultas\n",
        "races_by_year = pd.merge(corridas,temporadas, on='year', how = 'inner')\n",
        "races_by_year[races_by_year['year'] == 2010]"
      ],
      "execution_count": 75,
      "outputs": [
        {
          "output_type": "execute_result",
          "data": {
            "text/html": [
              "<div>\n",
              "<style scoped>\n",
              "    .dataframe tbody tr th:only-of-type {\n",
              "        vertical-align: middle;\n",
              "    }\n",
              "\n",
              "    .dataframe tbody tr th {\n",
              "        vertical-align: top;\n",
              "    }\n",
              "\n",
              "    .dataframe thead th {\n",
              "        text-align: right;\n",
              "    }\n",
              "</style>\n",
              "<table border=\"1\" class=\"dataframe\">\n",
              "  <thead>\n",
              "    <tr style=\"text-align: right;\">\n",
              "      <th></th>\n",
              "      <th>raceId</th>\n",
              "      <th>year</th>\n",
              "      <th>round</th>\n",
              "      <th>circuitId</th>\n",
              "      <th>name</th>\n",
              "      <th>date</th>\n",
              "      <th>time</th>\n",
              "      <th>url_x</th>\n",
              "      <th>url_y</th>\n",
              "    </tr>\n",
              "  </thead>\n",
              "  <tbody>\n",
              "    <tr>\n",
              "      <th>336</th>\n",
              "      <td>337</td>\n",
              "      <td>2010</td>\n",
              "      <td>1</td>\n",
              "      <td>3</td>\n",
              "      <td>Bahrain Grand Prix</td>\n",
              "      <td>2010-03-14</td>\n",
              "      <td>12:00:00</td>\n",
              "      <td>http://en.wikipedia.org/wiki/2010_Bahrain_Gran...</td>\n",
              "      <td>http://en.wikipedia.org/wiki/2010_Formula_One_...</td>\n",
              "    </tr>\n",
              "    <tr>\n",
              "      <th>337</th>\n",
              "      <td>338</td>\n",
              "      <td>2010</td>\n",
              "      <td>2</td>\n",
              "      <td>1</td>\n",
              "      <td>Australian Grand Prix</td>\n",
              "      <td>2010-03-28</td>\n",
              "      <td>06:00:00</td>\n",
              "      <td>http://en.wikipedia.org/wiki/2010_Australian_G...</td>\n",
              "      <td>http://en.wikipedia.org/wiki/2010_Formula_One_...</td>\n",
              "    </tr>\n",
              "    <tr>\n",
              "      <th>338</th>\n",
              "      <td>339</td>\n",
              "      <td>2010</td>\n",
              "      <td>3</td>\n",
              "      <td>2</td>\n",
              "      <td>Malaysian Grand Prix</td>\n",
              "      <td>2010-04-04</td>\n",
              "      <td>08:00:00</td>\n",
              "      <td>http://en.wikipedia.org/wiki/2010_Malaysian_Gr...</td>\n",
              "      <td>http://en.wikipedia.org/wiki/2010_Formula_One_...</td>\n",
              "    </tr>\n",
              "    <tr>\n",
              "      <th>339</th>\n",
              "      <td>340</td>\n",
              "      <td>2010</td>\n",
              "      <td>4</td>\n",
              "      <td>17</td>\n",
              "      <td>Chinese Grand Prix</td>\n",
              "      <td>2010-04-18</td>\n",
              "      <td>06:00:00</td>\n",
              "      <td>http://en.wikipedia.org/wiki/2010_Chinese_Gran...</td>\n",
              "      <td>http://en.wikipedia.org/wiki/2010_Formula_One_...</td>\n",
              "    </tr>\n",
              "    <tr>\n",
              "      <th>340</th>\n",
              "      <td>341</td>\n",
              "      <td>2010</td>\n",
              "      <td>5</td>\n",
              "      <td>4</td>\n",
              "      <td>Spanish Grand Prix</td>\n",
              "      <td>2010-05-09</td>\n",
              "      <td>12:00:00</td>\n",
              "      <td>http://en.wikipedia.org/wiki/2010_Spanish_Gran...</td>\n",
              "      <td>http://en.wikipedia.org/wiki/2010_Formula_One_...</td>\n",
              "    </tr>\n",
              "    <tr>\n",
              "      <th>341</th>\n",
              "      <td>342</td>\n",
              "      <td>2010</td>\n",
              "      <td>6</td>\n",
              "      <td>6</td>\n",
              "      <td>Monaco Grand Prix</td>\n",
              "      <td>2010-05-16</td>\n",
              "      <td>12:00:00</td>\n",
              "      <td>http://en.wikipedia.org/wiki/2010_Monaco_Grand...</td>\n",
              "      <td>http://en.wikipedia.org/wiki/2010_Formula_One_...</td>\n",
              "    </tr>\n",
              "    <tr>\n",
              "      <th>342</th>\n",
              "      <td>343</td>\n",
              "      <td>2010</td>\n",
              "      <td>7</td>\n",
              "      <td>5</td>\n",
              "      <td>Turkish Grand Prix</td>\n",
              "      <td>2010-05-30</td>\n",
              "      <td>11:00:00</td>\n",
              "      <td>http://en.wikipedia.org/wiki/2010_Turkish_Gran...</td>\n",
              "      <td>http://en.wikipedia.org/wiki/2010_Formula_One_...</td>\n",
              "    </tr>\n",
              "    <tr>\n",
              "      <th>343</th>\n",
              "      <td>344</td>\n",
              "      <td>2010</td>\n",
              "      <td>8</td>\n",
              "      <td>7</td>\n",
              "      <td>Canadian Grand Prix</td>\n",
              "      <td>2010-06-13</td>\n",
              "      <td>16:00:00</td>\n",
              "      <td>http://en.wikipedia.org/wiki/2010_Canadian_Gra...</td>\n",
              "      <td>http://en.wikipedia.org/wiki/2010_Formula_One_...</td>\n",
              "    </tr>\n",
              "    <tr>\n",
              "      <th>344</th>\n",
              "      <td>345</td>\n",
              "      <td>2010</td>\n",
              "      <td>9</td>\n",
              "      <td>12</td>\n",
              "      <td>European Grand Prix</td>\n",
              "      <td>2010-06-27</td>\n",
              "      <td>12:00:00</td>\n",
              "      <td>http://en.wikipedia.org/wiki/2010_European_Gra...</td>\n",
              "      <td>http://en.wikipedia.org/wiki/2010_Formula_One_...</td>\n",
              "    </tr>\n",
              "    <tr>\n",
              "      <th>345</th>\n",
              "      <td>346</td>\n",
              "      <td>2010</td>\n",
              "      <td>10</td>\n",
              "      <td>9</td>\n",
              "      <td>British Grand Prix</td>\n",
              "      <td>2010-07-11</td>\n",
              "      <td>12:00:00</td>\n",
              "      <td>http://en.wikipedia.org/wiki/2010_British_Gran...</td>\n",
              "      <td>http://en.wikipedia.org/wiki/2010_Formula_One_...</td>\n",
              "    </tr>\n",
              "    <tr>\n",
              "      <th>346</th>\n",
              "      <td>347</td>\n",
              "      <td>2010</td>\n",
              "      <td>11</td>\n",
              "      <td>10</td>\n",
              "      <td>German Grand Prix</td>\n",
              "      <td>2010-07-25</td>\n",
              "      <td>12:00:00</td>\n",
              "      <td>http://en.wikipedia.org/wiki/2010_German_Grand...</td>\n",
              "      <td>http://en.wikipedia.org/wiki/2010_Formula_One_...</td>\n",
              "    </tr>\n",
              "    <tr>\n",
              "      <th>347</th>\n",
              "      <td>348</td>\n",
              "      <td>2010</td>\n",
              "      <td>12</td>\n",
              "      <td>11</td>\n",
              "      <td>Hungarian Grand Prix</td>\n",
              "      <td>2010-08-01</td>\n",
              "      <td>12:00:00</td>\n",
              "      <td>http://en.wikipedia.org/wiki/2010_Hungarian_Gr...</td>\n",
              "      <td>http://en.wikipedia.org/wiki/2010_Formula_One_...</td>\n",
              "    </tr>\n",
              "    <tr>\n",
              "      <th>348</th>\n",
              "      <td>349</td>\n",
              "      <td>2010</td>\n",
              "      <td>13</td>\n",
              "      <td>13</td>\n",
              "      <td>Belgian Grand Prix</td>\n",
              "      <td>2010-08-29</td>\n",
              "      <td>12:00:00</td>\n",
              "      <td>http://en.wikipedia.org/wiki/2010_Belgian_Gran...</td>\n",
              "      <td>http://en.wikipedia.org/wiki/2010_Formula_One_...</td>\n",
              "    </tr>\n",
              "    <tr>\n",
              "      <th>349</th>\n",
              "      <td>350</td>\n",
              "      <td>2010</td>\n",
              "      <td>14</td>\n",
              "      <td>14</td>\n",
              "      <td>Italian Grand Prix</td>\n",
              "      <td>2010-09-12</td>\n",
              "      <td>12:00:00</td>\n",
              "      <td>http://en.wikipedia.org/wiki/2010_Italian_Gran...</td>\n",
              "      <td>http://en.wikipedia.org/wiki/2010_Formula_One_...</td>\n",
              "    </tr>\n",
              "    <tr>\n",
              "      <th>350</th>\n",
              "      <td>351</td>\n",
              "      <td>2010</td>\n",
              "      <td>15</td>\n",
              "      <td>15</td>\n",
              "      <td>Singapore Grand Prix</td>\n",
              "      <td>2010-09-26</td>\n",
              "      <td>12:00:00</td>\n",
              "      <td>http://en.wikipedia.org/wiki/2010_Singapore_Gr...</td>\n",
              "      <td>http://en.wikipedia.org/wiki/2010_Formula_One_...</td>\n",
              "    </tr>\n",
              "    <tr>\n",
              "      <th>351</th>\n",
              "      <td>352</td>\n",
              "      <td>2010</td>\n",
              "      <td>16</td>\n",
              "      <td>22</td>\n",
              "      <td>Japanese Grand Prix</td>\n",
              "      <td>2010-10-10</td>\n",
              "      <td>06:00:00</td>\n",
              "      <td>http://en.wikipedia.org/wiki/2010_Japanese_Gra...</td>\n",
              "      <td>http://en.wikipedia.org/wiki/2010_Formula_One_...</td>\n",
              "    </tr>\n",
              "    <tr>\n",
              "      <th>352</th>\n",
              "      <td>353</td>\n",
              "      <td>2010</td>\n",
              "      <td>17</td>\n",
              "      <td>35</td>\n",
              "      <td>Korean Grand Prix</td>\n",
              "      <td>2010-10-24</td>\n",
              "      <td>05:00:00</td>\n",
              "      <td>http://en.wikipedia.org/wiki/2010_Korean_Grand...</td>\n",
              "      <td>http://en.wikipedia.org/wiki/2010_Formula_One_...</td>\n",
              "    </tr>\n",
              "    <tr>\n",
              "      <th>353</th>\n",
              "      <td>354</td>\n",
              "      <td>2010</td>\n",
              "      <td>18</td>\n",
              "      <td>18</td>\n",
              "      <td>Brazilian Grand Prix</td>\n",
              "      <td>2010-11-07</td>\n",
              "      <td>16:00:00</td>\n",
              "      <td>http://en.wikipedia.org/wiki/2010_Brazilian_Gr...</td>\n",
              "      <td>http://en.wikipedia.org/wiki/2010_Formula_One_...</td>\n",
              "    </tr>\n",
              "    <tr>\n",
              "      <th>354</th>\n",
              "      <td>355</td>\n",
              "      <td>2010</td>\n",
              "      <td>19</td>\n",
              "      <td>24</td>\n",
              "      <td>Abu Dhabi Grand Prix</td>\n",
              "      <td>2010-11-14</td>\n",
              "      <td>13:00:00</td>\n",
              "      <td>http://en.wikipedia.org/wiki/2010_Abu_Dhabi_Gr...</td>\n",
              "      <td>http://en.wikipedia.org/wiki/2010_Formula_One_...</td>\n",
              "    </tr>\n",
              "  </tbody>\n",
              "</table>\n",
              "</div>"
            ],
            "text/plain": [
              "     raceId  ...                                              url_y\n",
              "336     337  ...  http://en.wikipedia.org/wiki/2010_Formula_One_...\n",
              "337     338  ...  http://en.wikipedia.org/wiki/2010_Formula_One_...\n",
              "338     339  ...  http://en.wikipedia.org/wiki/2010_Formula_One_...\n",
              "339     340  ...  http://en.wikipedia.org/wiki/2010_Formula_One_...\n",
              "340     341  ...  http://en.wikipedia.org/wiki/2010_Formula_One_...\n",
              "341     342  ...  http://en.wikipedia.org/wiki/2010_Formula_One_...\n",
              "342     343  ...  http://en.wikipedia.org/wiki/2010_Formula_One_...\n",
              "343     344  ...  http://en.wikipedia.org/wiki/2010_Formula_One_...\n",
              "344     345  ...  http://en.wikipedia.org/wiki/2010_Formula_One_...\n",
              "345     346  ...  http://en.wikipedia.org/wiki/2010_Formula_One_...\n",
              "346     347  ...  http://en.wikipedia.org/wiki/2010_Formula_One_...\n",
              "347     348  ...  http://en.wikipedia.org/wiki/2010_Formula_One_...\n",
              "348     349  ...  http://en.wikipedia.org/wiki/2010_Formula_One_...\n",
              "349     350  ...  http://en.wikipedia.org/wiki/2010_Formula_One_...\n",
              "350     351  ...  http://en.wikipedia.org/wiki/2010_Formula_One_...\n",
              "351     352  ...  http://en.wikipedia.org/wiki/2010_Formula_One_...\n",
              "352     353  ...  http://en.wikipedia.org/wiki/2010_Formula_One_...\n",
              "353     354  ...  http://en.wikipedia.org/wiki/2010_Formula_One_...\n",
              "354     355  ...  http://en.wikipedia.org/wiki/2010_Formula_One_...\n",
              "\n",
              "[19 rows x 9 columns]"
            ]
          },
          "metadata": {
            "tags": []
          },
          "execution_count": 75
        }
      ]
    },
    {
      "cell_type": "code",
      "metadata": {
        "id": "HadyZ4uToqkw",
        "outputId": "08a51704-9afe-4c80-82e4-3d754f6e69c5",
        "colab": {
          "base_uri": "https://localhost:8080/",
          "height": 697
        }
      },
      "source": [
        "resultados['positionText'].value_counts()"
      ],
      "execution_count": 56,
      "outputs": [
        {
          "output_type": "execute_result",
          "data": {
            "text/plain": [
              "R     8517\n",
              "F     1368\n",
              "4      986\n",
              "3      986\n",
              "2      984\n",
              "5      982\n",
              "1      979\n",
              "6      975\n",
              "7      955\n",
              "8      927\n",
              "9      889\n",
              "10     829\n",
              "11     752\n",
              "12     651\n",
              "13     565\n",
              "14     461\n",
              "15     391\n",
              "W      323\n",
              "16     310\n",
              "17     226\n",
              "N      190\n",
              "18     149\n",
              "D      141\n",
              "19     101\n",
              "20      58\n",
              "21      34\n",
              "22      19\n",
              "E        9\n",
              "23       8\n",
              "24       3\n",
              "33       1\n",
              "25       1\n",
              "32       1\n",
              "26       1\n",
              "31       1\n",
              "30       1\n",
              "28       1\n",
              "27       1\n",
              "29       1\n",
              "Name: positionText, dtype: int64"
            ]
          },
          "metadata": {
            "tags": []
          },
          "execution_count": 56
        }
      ]
    },
    {
      "cell_type": "code",
      "metadata": {
        "id": "7VbG5hGgqXAK",
        "outputId": "ea39eab8-7f1e-47d1-abce-b23fbc0c65d3",
        "colab": {
          "base_uri": "https://localhost:8080/",
          "height": 34
        }
      },
      "source": [
        "resultados.shape"
      ],
      "execution_count": 70,
      "outputs": [
        {
          "output_type": "execute_result",
          "data": {
            "text/plain": [
              "(23777, 18)"
            ]
          },
          "metadata": {
            "tags": []
          },
          "execution_count": 70
        }
      ]
    },
    {
      "cell_type": "code",
      "metadata": {
        "id": "ssYFZuIjqcHo",
        "outputId": "4893193f-acd2-4d8e-bf2c-eb40505e23c5",
        "colab": {
          "base_uri": "https://localhost:8080/",
          "height": 34
        }
      },
      "source": [
        "circuitos.shape"
      ],
      "execution_count": 72,
      "outputs": [
        {
          "output_type": "execute_result",
          "data": {
            "text/plain": [
              "(73, 9)"
            ]
          },
          "metadata": {
            "tags": []
          },
          "execution_count": 72
        }
      ]
    },
    {
      "cell_type": "code",
      "metadata": {
        "id": "N6wZny-PqfUf",
        "outputId": "db8ae747-3f5d-418c-fb3e-6cb4ceaca564",
        "colab": {
          "base_uri": "https://localhost:8080/",
          "height": 34
        }
      },
      "source": [
        "pilotos.shape"
      ],
      "execution_count": 73,
      "outputs": [
        {
          "output_type": "execute_result",
          "data": {
            "text/plain": [
              "(842, 9)"
            ]
          },
          "metadata": {
            "tags": []
          },
          "execution_count": 73
        }
      ]
    },
    {
      "cell_type": "code",
      "metadata": {
        "id": "gu6S2x0Vqi-j",
        "outputId": "9b0dc75a-f518-44c0-9cfa-5757e3a0ba52",
        "colab": {
          "base_uri": "https://localhost:8080/",
          "height": 34
        }
      },
      "source": [
        "equipes.shape"
      ],
      "execution_count": 74,
      "outputs": [
        {
          "output_type": "execute_result",
          "data": {
            "text/plain": [
              "(208, 6)"
            ]
          },
          "metadata": {
            "tags": []
          },
          "execution_count": 74
        }
      ]
    },
    {
      "cell_type": "code",
      "metadata": {
        "id": "chfxjrL6vDZz",
        "outputId": "6d300981-da3d-4dcb-b150-89c1806c73ca",
        "colab": {
          "base_uri": "https://localhost:8080/",
          "height": 34
        }
      },
      "source": [
        "corridas.shape"
      ],
      "execution_count": 80,
      "outputs": [
        {
          "output_type": "execute_result",
          "data": {
            "text/plain": [
              "(997, 8)"
            ]
          },
          "metadata": {
            "tags": []
          },
          "execution_count": 80
        }
      ]
    },
    {
      "cell_type": "code",
      "metadata": {
        "id": "vSeE584oVnBJ",
        "outputId": "c28a6c80-0024-40fa-b235-fc3e1e88ee5b",
        "colab": {
          "base_uri": "https://localhost:8080/",
          "height": 340
        }
      },
      "source": [
        "resultados.dtypes"
      ],
      "execution_count": 68,
      "outputs": [
        {
          "output_type": "execute_result",
          "data": {
            "text/plain": [
              "resultId             int64\n",
              "raceId               int64\n",
              "driverId             int64\n",
              "constructorId        int64\n",
              "number             float64\n",
              "grid                 int64\n",
              "position           float64\n",
              "positionText        object\n",
              "positionOrder        int64\n",
              "points             float64\n",
              "laps                 int64\n",
              "time                object\n",
              "milliseconds       float64\n",
              "fastestLap         float64\n",
              "rank               float64\n",
              "fastestLapTime      object\n",
              "fastestLapSpeed     object\n",
              "statusId             int64\n",
              "dtype: object"
            ]
          },
          "metadata": {
            "tags": []
          },
          "execution_count": 68
        }
      ]
    },
    {
      "cell_type": "code",
      "metadata": {
        "id": "_NFAcoCCtW0M",
        "outputId": "9604093d-39d6-49e7-988f-d98146418047",
        "colab": {
          "base_uri": "https://localhost:8080/",
          "height": 136
        }
      },
      "source": [
        "equipes.dtypes"
      ],
      "execution_count": 76,
      "outputs": [
        {
          "output_type": "execute_result",
          "data": {
            "text/plain": [
              "constructorId       int64\n",
              "constructorRef     object\n",
              "name               object\n",
              "nationality        object\n",
              "url                object\n",
              "Unnamed: 5        float64\n",
              "dtype: object"
            ]
          },
          "metadata": {
            "tags": []
          },
          "execution_count": 76
        }
      ]
    },
    {
      "cell_type": "code",
      "metadata": {
        "id": "HJWWfX45tZu_",
        "outputId": "69afa824-dda3-4acf-f116-9ce04c87146e",
        "colab": {
          "base_uri": "https://localhost:8080/",
          "height": 187
        }
      },
      "source": [
        "circuitos.dtypes"
      ],
      "execution_count": 77,
      "outputs": [
        {
          "output_type": "execute_result",
          "data": {
            "text/plain": [
              "circuitId       int64\n",
              "circuitRef     object\n",
              "name           object\n",
              "location       object\n",
              "country        object\n",
              "lat           float64\n",
              "lng           float64\n",
              "alt           float64\n",
              "url            object\n",
              "dtype: object"
            ]
          },
          "metadata": {
            "tags": []
          },
          "execution_count": 77
        }
      ]
    },
    {
      "cell_type": "code",
      "metadata": {
        "id": "cGlxLir5u4A5",
        "outputId": "7c05fe07-380d-44fc-9727-c2835d843618",
        "colab": {
          "base_uri": "https://localhost:8080/",
          "height": 187
        }
      },
      "source": [
        "pilotos.dtypes"
      ],
      "execution_count": 78,
      "outputs": [
        {
          "output_type": "execute_result",
          "data": {
            "text/plain": [
              "driverId         int64\n",
              "driverRef       object\n",
              "number         float64\n",
              "code            object\n",
              "forename        object\n",
              "surname         object\n",
              "dob             object\n",
              "nationality     object\n",
              "url             object\n",
              "dtype: object"
            ]
          },
          "metadata": {
            "tags": []
          },
          "execution_count": 78
        }
      ]
    },
    {
      "cell_type": "code",
      "metadata": {
        "id": "h9-jylL-u6aE",
        "outputId": "7b400179-29c2-4cf1-e5d6-8fe30523aa4a",
        "colab": {
          "base_uri": "https://localhost:8080/",
          "height": 170
        }
      },
      "source": [
        "corridas.dtypes"
      ],
      "execution_count": 79,
      "outputs": [
        {
          "output_type": "execute_result",
          "data": {
            "text/plain": [
              "raceId        int64\n",
              "year          int64\n",
              "round         int64\n",
              "circuitId     int64\n",
              "name         object\n",
              "date         object\n",
              "time         object\n",
              "url          object\n",
              "dtype: object"
            ]
          },
          "metadata": {
            "tags": []
          },
          "execution_count": 79
        }
      ]
    },
    {
      "cell_type": "code",
      "metadata": {
        "id": "m9wAycCno9Pn",
        "outputId": "fff12c2f-95a8-46ec-90c9-234d69eb98dd",
        "colab": {
          "base_uri": "https://localhost:8080/",
          "height": 340
        }
      },
      "source": [
        "resultados.isna().sum()"
      ],
      "execution_count": 67,
      "outputs": [
        {
          "output_type": "execute_result",
          "data": {
            "text/plain": [
              "resultId               0\n",
              "raceId                 0\n",
              "driverId               0\n",
              "constructorId          0\n",
              "number                 6\n",
              "grid                   0\n",
              "position           10550\n",
              "positionText           0\n",
              "positionOrder          0\n",
              "points                 0\n",
              "laps                   0\n",
              "time               17773\n",
              "milliseconds       17774\n",
              "fastestLap         18394\n",
              "rank               18246\n",
              "fastestLapTime     18394\n",
              "fastestLapSpeed    18394\n",
              "statusId               0\n",
              "dtype: int64"
            ]
          },
          "metadata": {
            "tags": []
          },
          "execution_count": 67
        }
      ]
    },
    {
      "cell_type": "code",
      "metadata": {
        "id": "FEOP1tW-qZX6",
        "outputId": "ec138196-c1a3-4b74-a505-f9754dc43ce0",
        "colab": {
          "base_uri": "https://localhost:8080/",
          "height": 187
        }
      },
      "source": [
        "circuitos.isnull().sum()"
      ],
      "execution_count": 71,
      "outputs": [
        {
          "output_type": "execute_result",
          "data": {
            "text/plain": [
              "circuitId      0\n",
              "circuitRef     0\n",
              "name           0\n",
              "location       0\n",
              "country        0\n",
              "lat            0\n",
              "lng            0\n",
              "alt           72\n",
              "url            0\n",
              "dtype: int64"
            ]
          },
          "metadata": {
            "tags": []
          },
          "execution_count": 71
        }
      ]
    },
    {
      "cell_type": "markdown",
      "metadata": {
        "id": "3lJxrDCmZOEE"
      },
      "source": [
        "**Agora vamos ao pré-processamento de fato**\n",
        "\n",
        "Vimos todas as tabelas dos nossos dados e seus atributos, vamos unir em um único dataframe para que possa facilitar nossa vida na hora das análises.\n",
        "\n",
        "Primeiro vamos remover dados que julgamos que não são necessários ou que não farão parte na nossa análise, bem como renomear alguns para maior entendimento do escopo."
      ]
    },
    {
      "cell_type": "code",
      "metadata": {
        "id": "YMEwZkwih-Wa"
      },
      "source": [
        "resultados.drop(columns = ['rank', 'positionOrder'], inplace = True)\n",
        "\n",
        "equipes.drop(columns = ['nationality', 'url', 'Unnamed: 5'], inplace = True)\n",
        "equipes.rename(columns = {'name': 'constructorName'}, inplace = True)\n",
        "\n",
        "corridas.drop(columns = ['time', 'url'], inplace = True)\n",
        "corridas.rename(columns = {'name': 'raceName', 'date': 'raceDate'}, inplace = True)\n",
        "\n",
        "circuitos.drop(columns = ['lat', 'lng', 'alt', 'url'], inplace = True)\n",
        "circuitos.rename(columns = {'name': 'circuitName'}, inplace = True)\n",
        "\n",
        "pilotos.drop(columns = ['number', 'code', 'url'], inplace = True)"
      ],
      "execution_count": 171,
      "outputs": []
    },
    {
      "cell_type": "markdown",
      "metadata": {
        "id": "84C6T2exv4Y2"
      },
      "source": [
        "unindo todos os os dataframes utilizados em um úni dataframe"
      ]
    },
    {
      "cell_type": "code",
      "metadata": {
        "id": "KToTqQfFv70F"
      },
      "source": [
        "df = resultados.copy()\n",
        "df = df.merge(equipes, how = 'left')\n",
        "df = df.merge(corridas, how = 'left')\n",
        "df = df.merge(circuitos, how = 'left')\n",
        "df = df.merge(pilotos, how = 'left')\n",
        "df = df.merge(status, how = 'left')"
      ],
      "execution_count": 172,
      "outputs": []
    },
    {
      "cell_type": "code",
      "metadata": {
        "id": "FqBjF_IPwN1w",
        "outputId": "a73398ab-8214-44fb-dab8-0d612a6826ca",
        "colab": {
          "base_uri": "https://localhost:8080/",
          "height": 34
        }
      },
      "source": [
        "len(df), len(resultados)"
      ],
      "execution_count": 173,
      "outputs": [
        {
          "output_type": "execute_result",
          "data": {
            "text/plain": [
              "(23777, 23777)"
            ]
          },
          "metadata": {
            "tags": []
          },
          "execution_count": 173
        }
      ]
    },
    {
      "cell_type": "markdown",
      "metadata": {
        "id": "OjaXXUANwqOE"
      },
      "source": [
        ""
      ]
    },
    {
      "cell_type": "markdown",
      "metadata": {
        "id": "WUSiOprPwTK1"
      },
      "source": [
        "como podemos perceber acima, os merges foram corretos e não geraram duplicatas."
      ]
    },
    {
      "cell_type": "markdown",
      "metadata": {
        "id": "z2L4M5uBwg5R"
      },
      "source": [
        "**Agora que cobrimos boa parte do pré-processamento, vamos começar a extrair as informações**"
      ]
    },
    {
      "cell_type": "code",
      "metadata": {
        "id": "Nc-MnFXWxkaj",
        "outputId": "073df639-1618-492e-bb36-8f6f8ed5f167",
        "colab": {
          "base_uri": "https://localhost:8080/",
          "height": 394
        }
      },
      "source": [
        "df.head()"
      ],
      "execution_count": 174,
      "outputs": [
        {
          "output_type": "execute_result",
          "data": {
            "text/html": [
              "<div>\n",
              "<style scoped>\n",
              "    .dataframe tbody tr th:only-of-type {\n",
              "        vertical-align: middle;\n",
              "    }\n",
              "\n",
              "    .dataframe tbody tr th {\n",
              "        vertical-align: top;\n",
              "    }\n",
              "\n",
              "    .dataframe thead th {\n",
              "        text-align: right;\n",
              "    }\n",
              "</style>\n",
              "<table border=\"1\" class=\"dataframe\">\n",
              "  <thead>\n",
              "    <tr style=\"text-align: right;\">\n",
              "      <th></th>\n",
              "      <th>resultId</th>\n",
              "      <th>raceId</th>\n",
              "      <th>driverId</th>\n",
              "      <th>constructorId</th>\n",
              "      <th>number</th>\n",
              "      <th>grid</th>\n",
              "      <th>position</th>\n",
              "      <th>positionText</th>\n",
              "      <th>points</th>\n",
              "      <th>laps</th>\n",
              "      <th>time</th>\n",
              "      <th>milliseconds</th>\n",
              "      <th>fastestLap</th>\n",
              "      <th>fastestLapTime</th>\n",
              "      <th>fastestLapSpeed</th>\n",
              "      <th>statusId</th>\n",
              "      <th>constructorRef</th>\n",
              "      <th>constructorName</th>\n",
              "      <th>year</th>\n",
              "      <th>round</th>\n",
              "      <th>circuitId</th>\n",
              "      <th>raceName</th>\n",
              "      <th>raceDate</th>\n",
              "      <th>circuitRef</th>\n",
              "      <th>circuitName</th>\n",
              "      <th>location</th>\n",
              "      <th>country</th>\n",
              "      <th>driverRef</th>\n",
              "      <th>forename</th>\n",
              "      <th>surname</th>\n",
              "      <th>dob</th>\n",
              "      <th>nationality</th>\n",
              "      <th>status</th>\n",
              "    </tr>\n",
              "  </thead>\n",
              "  <tbody>\n",
              "    <tr>\n",
              "      <th>0</th>\n",
              "      <td>1</td>\n",
              "      <td>18</td>\n",
              "      <td>1</td>\n",
              "      <td>1</td>\n",
              "      <td>22.0</td>\n",
              "      <td>1</td>\n",
              "      <td>1.0</td>\n",
              "      <td>1</td>\n",
              "      <td>10.0</td>\n",
              "      <td>58</td>\n",
              "      <td>34:50.6</td>\n",
              "      <td>5690616.0</td>\n",
              "      <td>39.0</td>\n",
              "      <td>01:27.5</td>\n",
              "      <td>218.3</td>\n",
              "      <td>1</td>\n",
              "      <td>mclaren</td>\n",
              "      <td>McLaren</td>\n",
              "      <td>2008</td>\n",
              "      <td>1</td>\n",
              "      <td>1</td>\n",
              "      <td>Australian Grand Prix</td>\n",
              "      <td>2008-03-16</td>\n",
              "      <td>albert_park</td>\n",
              "      <td>Albert Park Grand Prix Circuit</td>\n",
              "      <td>Melbourne</td>\n",
              "      <td>Australia</td>\n",
              "      <td>hamilton</td>\n",
              "      <td>Lewis</td>\n",
              "      <td>Hamilton</td>\n",
              "      <td>07/01/1985</td>\n",
              "      <td>British</td>\n",
              "      <td>Finished</td>\n",
              "    </tr>\n",
              "    <tr>\n",
              "      <th>1</th>\n",
              "      <td>2</td>\n",
              "      <td>18</td>\n",
              "      <td>2</td>\n",
              "      <td>2</td>\n",
              "      <td>3.0</td>\n",
              "      <td>5</td>\n",
              "      <td>2.0</td>\n",
              "      <td>2</td>\n",
              "      <td>8.0</td>\n",
              "      <td>58</td>\n",
              "      <td>5.478</td>\n",
              "      <td>5696094.0</td>\n",
              "      <td>41.0</td>\n",
              "      <td>01:27.7</td>\n",
              "      <td>217.586</td>\n",
              "      <td>1</td>\n",
              "      <td>bmw_sauber</td>\n",
              "      <td>BMW Sauber</td>\n",
              "      <td>2008</td>\n",
              "      <td>1</td>\n",
              "      <td>1</td>\n",
              "      <td>Australian Grand Prix</td>\n",
              "      <td>2008-03-16</td>\n",
              "      <td>albert_park</td>\n",
              "      <td>Albert Park Grand Prix Circuit</td>\n",
              "      <td>Melbourne</td>\n",
              "      <td>Australia</td>\n",
              "      <td>heidfeld</td>\n",
              "      <td>Nick</td>\n",
              "      <td>Heidfeld</td>\n",
              "      <td>10/05/1977</td>\n",
              "      <td>German</td>\n",
              "      <td>Finished</td>\n",
              "    </tr>\n",
              "    <tr>\n",
              "      <th>2</th>\n",
              "      <td>3</td>\n",
              "      <td>18</td>\n",
              "      <td>3</td>\n",
              "      <td>3</td>\n",
              "      <td>7.0</td>\n",
              "      <td>7</td>\n",
              "      <td>3.0</td>\n",
              "      <td>3</td>\n",
              "      <td>6.0</td>\n",
              "      <td>58</td>\n",
              "      <td>8.163</td>\n",
              "      <td>5698779.0</td>\n",
              "      <td>41.0</td>\n",
              "      <td>01:28.1</td>\n",
              "      <td>216.719</td>\n",
              "      <td>1</td>\n",
              "      <td>williams</td>\n",
              "      <td>Williams</td>\n",
              "      <td>2008</td>\n",
              "      <td>1</td>\n",
              "      <td>1</td>\n",
              "      <td>Australian Grand Prix</td>\n",
              "      <td>2008-03-16</td>\n",
              "      <td>albert_park</td>\n",
              "      <td>Albert Park Grand Prix Circuit</td>\n",
              "      <td>Melbourne</td>\n",
              "      <td>Australia</td>\n",
              "      <td>rosberg</td>\n",
              "      <td>Nico</td>\n",
              "      <td>Rosberg</td>\n",
              "      <td>27/06/1985</td>\n",
              "      <td>German</td>\n",
              "      <td>Finished</td>\n",
              "    </tr>\n",
              "    <tr>\n",
              "      <th>3</th>\n",
              "      <td>4</td>\n",
              "      <td>18</td>\n",
              "      <td>4</td>\n",
              "      <td>4</td>\n",
              "      <td>5.0</td>\n",
              "      <td>11</td>\n",
              "      <td>4.0</td>\n",
              "      <td>4</td>\n",
              "      <td>5.0</td>\n",
              "      <td>58</td>\n",
              "      <td>17.181</td>\n",
              "      <td>5707797.0</td>\n",
              "      <td>58.0</td>\n",
              "      <td>01:28.6</td>\n",
              "      <td>215.464</td>\n",
              "      <td>1</td>\n",
              "      <td>renault</td>\n",
              "      <td>Renault</td>\n",
              "      <td>2008</td>\n",
              "      <td>1</td>\n",
              "      <td>1</td>\n",
              "      <td>Australian Grand Prix</td>\n",
              "      <td>2008-03-16</td>\n",
              "      <td>albert_park</td>\n",
              "      <td>Albert Park Grand Prix Circuit</td>\n",
              "      <td>Melbourne</td>\n",
              "      <td>Australia</td>\n",
              "      <td>alonso</td>\n",
              "      <td>Fernando</td>\n",
              "      <td>Alonso</td>\n",
              "      <td>29/07/1981</td>\n",
              "      <td>Spanish</td>\n",
              "      <td>Finished</td>\n",
              "    </tr>\n",
              "    <tr>\n",
              "      <th>4</th>\n",
              "      <td>5</td>\n",
              "      <td>18</td>\n",
              "      <td>5</td>\n",
              "      <td>1</td>\n",
              "      <td>23.0</td>\n",
              "      <td>3</td>\n",
              "      <td>5.0</td>\n",
              "      <td>5</td>\n",
              "      <td>4.0</td>\n",
              "      <td>58</td>\n",
              "      <td>18.014</td>\n",
              "      <td>5708630.0</td>\n",
              "      <td>43.0</td>\n",
              "      <td>01:27.4</td>\n",
              "      <td>218.385</td>\n",
              "      <td>1</td>\n",
              "      <td>mclaren</td>\n",
              "      <td>McLaren</td>\n",
              "      <td>2008</td>\n",
              "      <td>1</td>\n",
              "      <td>1</td>\n",
              "      <td>Australian Grand Prix</td>\n",
              "      <td>2008-03-16</td>\n",
              "      <td>albert_park</td>\n",
              "      <td>Albert Park Grand Prix Circuit</td>\n",
              "      <td>Melbourne</td>\n",
              "      <td>Australia</td>\n",
              "      <td>kovalainen</td>\n",
              "      <td>Heikki</td>\n",
              "      <td>Kovalainen</td>\n",
              "      <td>19/10/1981</td>\n",
              "      <td>Finnish</td>\n",
              "      <td>Finished</td>\n",
              "    </tr>\n",
              "  </tbody>\n",
              "</table>\n",
              "</div>"
            ],
            "text/plain": [
              "   resultId  raceId  driverId  ...         dob  nationality    status\n",
              "0         1      18         1  ...  07/01/1985      British  Finished\n",
              "1         2      18         2  ...  10/05/1977       German  Finished\n",
              "2         3      18         3  ...  27/06/1985       German  Finished\n",
              "3         4      18         4  ...  29/07/1981      Spanish  Finished\n",
              "4         5      18         5  ...  19/10/1981      Finnish  Finished\n",
              "\n",
              "[5 rows x 33 columns]"
            ]
          },
          "metadata": {
            "tags": []
          },
          "execution_count": 174
        }
      ]
    },
    {
      "cell_type": "markdown",
      "metadata": {
        "id": "tQ3m7QGkwrc3"
      },
      "source": [
        "Primeiro vamos ver qual o período de tempo abordado nesse conjunto de dados."
      ]
    },
    {
      "cell_type": "code",
      "metadata": {
        "id": "vyoUkt1KwqbE",
        "outputId": "7ac3382a-94a2-46bd-d5a1-70e5151c4251",
        "colab": {
          "base_uri": "https://localhost:8080/",
          "height": 34
        }
      },
      "source": [
        "df['year'].min(), df['year'].max()"
      ],
      "execution_count": 148,
      "outputs": [
        {
          "output_type": "execute_result",
          "data": {
            "text/plain": [
              "(1950, 2017)"
            ]
          },
          "metadata": {
            "tags": []
          },
          "execution_count": 148
        }
      ]
    },
    {
      "cell_type": "code",
      "metadata": {
        "id": "R0FDMG-EyKpY",
        "outputId": "c8b1be4e-b889-4564-e992-ebc7faef8f2a",
        "colab": {
          "base_uri": "https://localhost:8080/",
          "height": 595
        }
      },
      "source": [
        "df.dtypes"
      ],
      "execution_count": 149,
      "outputs": [
        {
          "output_type": "execute_result",
          "data": {
            "text/plain": [
              "resultId             int64\n",
              "raceId               int64\n",
              "driverId             int64\n",
              "constructorId        int64\n",
              "number             float64\n",
              "grid                 int64\n",
              "position           float64\n",
              "positionText        object\n",
              "points             float64\n",
              "laps                 int64\n",
              "time                object\n",
              "milliseconds       float64\n",
              "fastestLap         float64\n",
              "fastestLapTime      object\n",
              "fastestLapSpeed     object\n",
              "statusId             int64\n",
              "constructorRef      object\n",
              "constructorName     object\n",
              "year                 int64\n",
              "round                int64\n",
              "circuitId            int64\n",
              "raceName            object\n",
              "raceDate            object\n",
              "circuitRef          object\n",
              "circuitName         object\n",
              "location            object\n",
              "country             object\n",
              "driverRef           object\n",
              "forename            object\n",
              "surname             object\n",
              "dob                 object\n",
              "nationality         object\n",
              "status              object\n",
              "dtype: object"
            ]
          },
          "metadata": {
            "tags": []
          },
          "execution_count": 149
        }
      ]
    },
    {
      "cell_type": "markdown",
      "metadata": {
        "id": "X_-yW3XczeU6"
      },
      "source": [
        "Podemos perceber que alguns tipos não estão no formato que deveriam, como o atributo fastesteLapSpeed, portanto vamos converte-lo e seguir com as análises"
      ]
    },
    {
      "cell_type": "code",
      "metadata": {
        "id": "jQ0_eTNnyyK2",
        "outputId": "1c31064b-1180-4a1d-e343-ccb4ddae97f0",
        "colab": {
          "base_uri": "https://localhost:8080/",
          "height": 306
        }
      },
      "source": [
        "df['fastestLapSpeed'].astype('float64')"
      ],
      "execution_count": 150,
      "outputs": [
        {
          "output_type": "error",
          "ename": "ValueError",
          "evalue": "ignored",
          "traceback": [
            "\u001b[0;31m---------------------------------------------------------------------------\u001b[0m",
            "\u001b[0;31mValueError\u001b[0m                                Traceback (most recent call last)",
            "\u001b[0;32m<ipython-input-150-becc457da4eb>\u001b[0m in \u001b[0;36m<module>\u001b[0;34m()\u001b[0m\n\u001b[0;32m----> 1\u001b[0;31m \u001b[0mdf\u001b[0m\u001b[0;34m[\u001b[0m\u001b[0;34m'fastestLapSpeed'\u001b[0m\u001b[0;34m]\u001b[0m\u001b[0;34m.\u001b[0m\u001b[0mastype\u001b[0m\u001b[0;34m(\u001b[0m\u001b[0;34m'float64'\u001b[0m\u001b[0;34m)\u001b[0m\u001b[0;34m\u001b[0m\u001b[0;34m\u001b[0m\u001b[0m\n\u001b[0m",
            "\u001b[0;32m/usr/local/lib/python3.6/dist-packages/pandas/core/generic.py\u001b[0m in \u001b[0;36mastype\u001b[0;34m(self, dtype, copy, errors)\u001b[0m\n\u001b[1;32m   5541\u001b[0m         \u001b[0;32melse\u001b[0m\u001b[0;34m:\u001b[0m\u001b[0;34m\u001b[0m\u001b[0;34m\u001b[0m\u001b[0m\n\u001b[1;32m   5542\u001b[0m             \u001b[0;31m# else, only a single dtype is given\u001b[0m\u001b[0;34m\u001b[0m\u001b[0;34m\u001b[0m\u001b[0;34m\u001b[0m\u001b[0m\n\u001b[0;32m-> 5543\u001b[0;31m             \u001b[0mnew_data\u001b[0m \u001b[0;34m=\u001b[0m \u001b[0mself\u001b[0m\u001b[0;34m.\u001b[0m\u001b[0m_mgr\u001b[0m\u001b[0;34m.\u001b[0m\u001b[0mastype\u001b[0m\u001b[0;34m(\u001b[0m\u001b[0mdtype\u001b[0m\u001b[0;34m=\u001b[0m\u001b[0mdtype\u001b[0m\u001b[0;34m,\u001b[0m \u001b[0mcopy\u001b[0m\u001b[0;34m=\u001b[0m\u001b[0mcopy\u001b[0m\u001b[0;34m,\u001b[0m \u001b[0merrors\u001b[0m\u001b[0;34m=\u001b[0m\u001b[0merrors\u001b[0m\u001b[0;34m,\u001b[0m\u001b[0;34m)\u001b[0m\u001b[0;34m\u001b[0m\u001b[0;34m\u001b[0m\u001b[0m\n\u001b[0m\u001b[1;32m   5544\u001b[0m             \u001b[0;32mreturn\u001b[0m \u001b[0mself\u001b[0m\u001b[0;34m.\u001b[0m\u001b[0m_constructor\u001b[0m\u001b[0;34m(\u001b[0m\u001b[0mnew_data\u001b[0m\u001b[0;34m)\u001b[0m\u001b[0;34m.\u001b[0m\u001b[0m__finalize__\u001b[0m\u001b[0;34m(\u001b[0m\u001b[0mself\u001b[0m\u001b[0;34m,\u001b[0m \u001b[0mmethod\u001b[0m\u001b[0;34m=\u001b[0m\u001b[0;34m\"astype\"\u001b[0m\u001b[0;34m)\u001b[0m\u001b[0;34m\u001b[0m\u001b[0;34m\u001b[0m\u001b[0m\n\u001b[1;32m   5545\u001b[0m \u001b[0;34m\u001b[0m\u001b[0m\n",
            "\u001b[0;32m/usr/local/lib/python3.6/dist-packages/pandas/core/internals/managers.py\u001b[0m in \u001b[0;36mastype\u001b[0;34m(self, dtype, copy, errors)\u001b[0m\n\u001b[1;32m    593\u001b[0m         \u001b[0mself\u001b[0m\u001b[0;34m,\u001b[0m \u001b[0mdtype\u001b[0m\u001b[0;34m,\u001b[0m \u001b[0mcopy\u001b[0m\u001b[0;34m:\u001b[0m \u001b[0mbool\u001b[0m \u001b[0;34m=\u001b[0m \u001b[0;32mFalse\u001b[0m\u001b[0;34m,\u001b[0m \u001b[0merrors\u001b[0m\u001b[0;34m:\u001b[0m \u001b[0mstr\u001b[0m \u001b[0;34m=\u001b[0m \u001b[0;34m\"raise\"\u001b[0m\u001b[0;34m\u001b[0m\u001b[0;34m\u001b[0m\u001b[0m\n\u001b[1;32m    594\u001b[0m     ) -> \"BlockManager\":\n\u001b[0;32m--> 595\u001b[0;31m         \u001b[0;32mreturn\u001b[0m \u001b[0mself\u001b[0m\u001b[0;34m.\u001b[0m\u001b[0mapply\u001b[0m\u001b[0;34m(\u001b[0m\u001b[0;34m\"astype\"\u001b[0m\u001b[0;34m,\u001b[0m \u001b[0mdtype\u001b[0m\u001b[0;34m=\u001b[0m\u001b[0mdtype\u001b[0m\u001b[0;34m,\u001b[0m \u001b[0mcopy\u001b[0m\u001b[0;34m=\u001b[0m\u001b[0mcopy\u001b[0m\u001b[0;34m,\u001b[0m \u001b[0merrors\u001b[0m\u001b[0;34m=\u001b[0m\u001b[0merrors\u001b[0m\u001b[0;34m)\u001b[0m\u001b[0;34m\u001b[0m\u001b[0;34m\u001b[0m\u001b[0m\n\u001b[0m\u001b[1;32m    596\u001b[0m \u001b[0;34m\u001b[0m\u001b[0m\n\u001b[1;32m    597\u001b[0m     def convert(\n",
            "\u001b[0;32m/usr/local/lib/python3.6/dist-packages/pandas/core/internals/managers.py\u001b[0m in \u001b[0;36mapply\u001b[0;34m(self, f, align_keys, **kwargs)\u001b[0m\n\u001b[1;32m    404\u001b[0m                 \u001b[0mapplied\u001b[0m \u001b[0;34m=\u001b[0m \u001b[0mb\u001b[0m\u001b[0;34m.\u001b[0m\u001b[0mapply\u001b[0m\u001b[0;34m(\u001b[0m\u001b[0mf\u001b[0m\u001b[0;34m,\u001b[0m \u001b[0;34m**\u001b[0m\u001b[0mkwargs\u001b[0m\u001b[0;34m)\u001b[0m\u001b[0;34m\u001b[0m\u001b[0;34m\u001b[0m\u001b[0m\n\u001b[1;32m    405\u001b[0m             \u001b[0;32melse\u001b[0m\u001b[0;34m:\u001b[0m\u001b[0;34m\u001b[0m\u001b[0;34m\u001b[0m\u001b[0m\n\u001b[0;32m--> 406\u001b[0;31m                 \u001b[0mapplied\u001b[0m \u001b[0;34m=\u001b[0m \u001b[0mgetattr\u001b[0m\u001b[0;34m(\u001b[0m\u001b[0mb\u001b[0m\u001b[0;34m,\u001b[0m \u001b[0mf\u001b[0m\u001b[0;34m)\u001b[0m\u001b[0;34m(\u001b[0m\u001b[0;34m**\u001b[0m\u001b[0mkwargs\u001b[0m\u001b[0;34m)\u001b[0m\u001b[0;34m\u001b[0m\u001b[0;34m\u001b[0m\u001b[0m\n\u001b[0m\u001b[1;32m    407\u001b[0m             \u001b[0mresult_blocks\u001b[0m \u001b[0;34m=\u001b[0m \u001b[0m_extend_blocks\u001b[0m\u001b[0;34m(\u001b[0m\u001b[0mapplied\u001b[0m\u001b[0;34m,\u001b[0m \u001b[0mresult_blocks\u001b[0m\u001b[0;34m)\u001b[0m\u001b[0;34m\u001b[0m\u001b[0;34m\u001b[0m\u001b[0m\n\u001b[1;32m    408\u001b[0m \u001b[0;34m\u001b[0m\u001b[0m\n",
            "\u001b[0;32m/usr/local/lib/python3.6/dist-packages/pandas/core/internals/blocks.py\u001b[0m in \u001b[0;36mastype\u001b[0;34m(self, dtype, copy, errors)\u001b[0m\n\u001b[1;32m    592\u001b[0m             \u001b[0mvals1d\u001b[0m \u001b[0;34m=\u001b[0m \u001b[0mvalues\u001b[0m\u001b[0;34m.\u001b[0m\u001b[0mravel\u001b[0m\u001b[0;34m(\u001b[0m\u001b[0;34m)\u001b[0m\u001b[0;34m\u001b[0m\u001b[0;34m\u001b[0m\u001b[0m\n\u001b[1;32m    593\u001b[0m             \u001b[0;32mtry\u001b[0m\u001b[0;34m:\u001b[0m\u001b[0;34m\u001b[0m\u001b[0;34m\u001b[0m\u001b[0m\n\u001b[0;32m--> 594\u001b[0;31m                 \u001b[0mvalues\u001b[0m \u001b[0;34m=\u001b[0m \u001b[0mastype_nansafe\u001b[0m\u001b[0;34m(\u001b[0m\u001b[0mvals1d\u001b[0m\u001b[0;34m,\u001b[0m \u001b[0mdtype\u001b[0m\u001b[0;34m,\u001b[0m \u001b[0mcopy\u001b[0m\u001b[0;34m=\u001b[0m\u001b[0;32mTrue\u001b[0m\u001b[0;34m)\u001b[0m\u001b[0;34m\u001b[0m\u001b[0;34m\u001b[0m\u001b[0m\n\u001b[0m\u001b[1;32m    595\u001b[0m             \u001b[0;32mexcept\u001b[0m \u001b[0;34m(\u001b[0m\u001b[0mValueError\u001b[0m\u001b[0;34m,\u001b[0m \u001b[0mTypeError\u001b[0m\u001b[0;34m)\u001b[0m\u001b[0;34m:\u001b[0m\u001b[0;34m\u001b[0m\u001b[0;34m\u001b[0m\u001b[0m\n\u001b[1;32m    596\u001b[0m                 \u001b[0;31m# e.g. astype_nansafe can fail on object-dtype of strings\u001b[0m\u001b[0;34m\u001b[0m\u001b[0;34m\u001b[0m\u001b[0;34m\u001b[0m\u001b[0m\n",
            "\u001b[0;32m/usr/local/lib/python3.6/dist-packages/pandas/core/dtypes/cast.py\u001b[0m in \u001b[0;36mastype_nansafe\u001b[0;34m(arr, dtype, copy, skipna)\u001b[0m\n\u001b[1;32m    988\u001b[0m     \u001b[0;32mif\u001b[0m \u001b[0mcopy\u001b[0m \u001b[0;32mor\u001b[0m \u001b[0mis_object_dtype\u001b[0m\u001b[0;34m(\u001b[0m\u001b[0marr\u001b[0m\u001b[0;34m)\u001b[0m \u001b[0;32mor\u001b[0m \u001b[0mis_object_dtype\u001b[0m\u001b[0;34m(\u001b[0m\u001b[0mdtype\u001b[0m\u001b[0;34m)\u001b[0m\u001b[0;34m:\u001b[0m\u001b[0;34m\u001b[0m\u001b[0;34m\u001b[0m\u001b[0m\n\u001b[1;32m    989\u001b[0m         \u001b[0;31m# Explicit copy, or required since NumPy can't view from / to object.\u001b[0m\u001b[0;34m\u001b[0m\u001b[0;34m\u001b[0m\u001b[0;34m\u001b[0m\u001b[0m\n\u001b[0;32m--> 990\u001b[0;31m         \u001b[0;32mreturn\u001b[0m \u001b[0marr\u001b[0m\u001b[0;34m.\u001b[0m\u001b[0mastype\u001b[0m\u001b[0;34m(\u001b[0m\u001b[0mdtype\u001b[0m\u001b[0;34m,\u001b[0m \u001b[0mcopy\u001b[0m\u001b[0;34m=\u001b[0m\u001b[0;32mTrue\u001b[0m\u001b[0;34m)\u001b[0m\u001b[0;34m\u001b[0m\u001b[0;34m\u001b[0m\u001b[0m\n\u001b[0m\u001b[1;32m    991\u001b[0m \u001b[0;34m\u001b[0m\u001b[0m\n\u001b[1;32m    992\u001b[0m     \u001b[0;32mreturn\u001b[0m \u001b[0marr\u001b[0m\u001b[0;34m.\u001b[0m\u001b[0mview\u001b[0m\u001b[0;34m(\u001b[0m\u001b[0mdtype\u001b[0m\u001b[0;34m)\u001b[0m\u001b[0;34m\u001b[0m\u001b[0;34m\u001b[0m\u001b[0m\n",
            "\u001b[0;31mValueError\u001b[0m: could not convert string to float: '01:42.6'"
          ]
        }
      ]
    },
    {
      "cell_type": "markdown",
      "metadata": {
        "id": "xVMSYeq7znQe"
      },
      "source": [
        "É possível perceber que um erro foi gerado na conversão, para não gerar impactos em análises posteriores vamos verificar o motivo disso estar acontecendo"
      ]
    },
    {
      "cell_type": "code",
      "metadata": {
        "id": "I6vtKhbGztxL",
        "outputId": "894001c3-f4ea-492d-c71a-5881e95afa84",
        "colab": {
          "base_uri": "https://localhost:8080/",
          "height": 80
        }
      },
      "source": [
        "df[df['fastestLapSpeed'] == '01:42.6'][['driverRef','year','country','fastestLapSpeed','fastestLapTime']]"
      ],
      "execution_count": 151,
      "outputs": [
        {
          "output_type": "execute_result",
          "data": {
            "text/html": [
              "<div>\n",
              "<style scoped>\n",
              "    .dataframe tbody tr th:only-of-type {\n",
              "        vertical-align: middle;\n",
              "    }\n",
              "\n",
              "    .dataframe tbody tr th {\n",
              "        vertical-align: top;\n",
              "    }\n",
              "\n",
              "    .dataframe thead th {\n",
              "        text-align: right;\n",
              "    }\n",
              "</style>\n",
              "<table border=\"1\" class=\"dataframe\">\n",
              "  <thead>\n",
              "    <tr style=\"text-align: right;\">\n",
              "      <th></th>\n",
              "      <th>driverRef</th>\n",
              "      <th>year</th>\n",
              "      <th>country</th>\n",
              "      <th>fastestLapSpeed</th>\n",
              "      <th>fastestLapTime</th>\n",
              "    </tr>\n",
              "  </thead>\n",
              "  <tbody>\n",
              "    <tr>\n",
              "      <th>23764</th>\n",
              "      <td>ocon</td>\n",
              "      <td>2017</td>\n",
              "      <td>UAE</td>\n",
              "      <td>01:42.6</td>\n",
              "      <td>01:42.6</td>\n",
              "    </tr>\n",
              "  </tbody>\n",
              "</table>\n",
              "</div>"
            ],
            "text/plain": [
              "      driverRef  year country fastestLapSpeed fastestLapTime\n",
              "23764      ocon  2017     UAE         01:42.6        01:42.6"
            ]
          },
          "metadata": {
            "tags": []
          },
          "execution_count": 151
        }
      ]
    },
    {
      "cell_type": "markdown",
      "metadata": {
        "id": "OqBhbL3w0izW"
      },
      "source": [
        "Para corrigir o problema, vamos utilizar a técnica de relacionar a velocidade dele com a média de velocidade\n",
        "\n",
        "Obs: Como o atributo fastestLapSpeed ainda não foi convertido calculamos manualmente e atribuiremos esse valor."
      ]
    },
    {
      "cell_type": "code",
      "metadata": {
        "id": "3xZ6_mipxjO5",
        "outputId": "56b8bd29-236d-4bfb-eed0-e32d10498dec",
        "colab": {
          "base_uri": "https://localhost:8080/",
          "height": 669
        }
      },
      "source": [
        "df[(df['year'] == 2017) & (df['country'] == 'UAE')][['driverRef', 'fastestLapTime','fastestLapSpeed','position']]"
      ],
      "execution_count": 152,
      "outputs": [
        {
          "output_type": "execute_result",
          "data": {
            "text/html": [
              "<div>\n",
              "<style scoped>\n",
              "    .dataframe tbody tr th:only-of-type {\n",
              "        vertical-align: middle;\n",
              "    }\n",
              "\n",
              "    .dataframe tbody tr th {\n",
              "        vertical-align: top;\n",
              "    }\n",
              "\n",
              "    .dataframe thead th {\n",
              "        text-align: right;\n",
              "    }\n",
              "</style>\n",
              "<table border=\"1\" class=\"dataframe\">\n",
              "  <thead>\n",
              "    <tr style=\"text-align: right;\">\n",
              "      <th></th>\n",
              "      <th>driverRef</th>\n",
              "      <th>fastestLapTime</th>\n",
              "      <th>fastestLapSpeed</th>\n",
              "      <th>position</th>\n",
              "    </tr>\n",
              "  </thead>\n",
              "  <tbody>\n",
              "    <tr>\n",
              "      <th>23757</th>\n",
              "      <td>bottas</td>\n",
              "      <td>01:40.7</td>\n",
              "      <td>198.652</td>\n",
              "      <td>1.0</td>\n",
              "    </tr>\n",
              "    <tr>\n",
              "      <th>23758</th>\n",
              "      <td>hamilton</td>\n",
              "      <td>01:41.5</td>\n",
              "      <td>197.041</td>\n",
              "      <td>2.0</td>\n",
              "    </tr>\n",
              "    <tr>\n",
              "      <th>23759</th>\n",
              "      <td>vettel</td>\n",
              "      <td>01:40.8</td>\n",
              "      <td>198.416</td>\n",
              "      <td>3.0</td>\n",
              "    </tr>\n",
              "    <tr>\n",
              "      <th>23760</th>\n",
              "      <td>raikkonen</td>\n",
              "      <td>01:42.3</td>\n",
              "      <td>195.376</td>\n",
              "      <td>4.0</td>\n",
              "    </tr>\n",
              "    <tr>\n",
              "      <th>23761</th>\n",
              "      <td>max_verstappen</td>\n",
              "      <td>01:42.0</td>\n",
              "      <td>195.969</td>\n",
              "      <td>5.0</td>\n",
              "    </tr>\n",
              "    <tr>\n",
              "      <th>23762</th>\n",
              "      <td>hulkenberg</td>\n",
              "      <td>01:42.4</td>\n",
              "      <td>195.303</td>\n",
              "      <td>6.0</td>\n",
              "    </tr>\n",
              "    <tr>\n",
              "      <th>23763</th>\n",
              "      <td>perez</td>\n",
              "      <td>01:42.7</td>\n",
              "      <td>194.708</td>\n",
              "      <td>7.0</td>\n",
              "    </tr>\n",
              "    <tr>\n",
              "      <th>23764</th>\n",
              "      <td>ocon</td>\n",
              "      <td>01:42.6</td>\n",
              "      <td>01:42.6</td>\n",
              "      <td>8.0</td>\n",
              "    </tr>\n",
              "    <tr>\n",
              "      <th>23765</th>\n",
              "      <td>alonso</td>\n",
              "      <td>01:43.4</td>\n",
              "      <td>193.41</td>\n",
              "      <td>9.0</td>\n",
              "    </tr>\n",
              "    <tr>\n",
              "      <th>23766</th>\n",
              "      <td>massa</td>\n",
              "      <td>01:43.0</td>\n",
              "      <td>194.071</td>\n",
              "      <td>10.0</td>\n",
              "    </tr>\n",
              "    <tr>\n",
              "      <th>23767</th>\n",
              "      <td>grosjean</td>\n",
              "      <td>01:42.4</td>\n",
              "      <td>195.187</td>\n",
              "      <td>11.0</td>\n",
              "    </tr>\n",
              "    <tr>\n",
              "      <th>23768</th>\n",
              "      <td>vandoorne</td>\n",
              "      <td>01:44.0</td>\n",
              "      <td>192.279</td>\n",
              "      <td>12.0</td>\n",
              "    </tr>\n",
              "    <tr>\n",
              "      <th>23769</th>\n",
              "      <td>kevin_magnussen</td>\n",
              "      <td>01:43.9</td>\n",
              "      <td>192.387</td>\n",
              "      <td>13.0</td>\n",
              "    </tr>\n",
              "    <tr>\n",
              "      <th>23770</th>\n",
              "      <td>wehrlein</td>\n",
              "      <td>01:43.9</td>\n",
              "      <td>192.5</td>\n",
              "      <td>14.0</td>\n",
              "    </tr>\n",
              "    <tr>\n",
              "      <th>23771</th>\n",
              "      <td>brendon_hartley</td>\n",
              "      <td>01:43.9</td>\n",
              "      <td>192.444</td>\n",
              "      <td>15.0</td>\n",
              "    </tr>\n",
              "    <tr>\n",
              "      <th>23772</th>\n",
              "      <td>gasly</td>\n",
              "      <td>01:43.8</td>\n",
              "      <td>192.542</td>\n",
              "      <td>16.0</td>\n",
              "    </tr>\n",
              "    <tr>\n",
              "      <th>23773</th>\n",
              "      <td>ericsson</td>\n",
              "      <td>01:43.6</td>\n",
              "      <td>193.057</td>\n",
              "      <td>17.0</td>\n",
              "    </tr>\n",
              "    <tr>\n",
              "      <th>23774</th>\n",
              "      <td>stroll</td>\n",
              "      <td>01:42.3</td>\n",
              "      <td>195.402</td>\n",
              "      <td>18.0</td>\n",
              "    </tr>\n",
              "    <tr>\n",
              "      <th>23775</th>\n",
              "      <td>sainz</td>\n",
              "      <td>01:43.4</td>\n",
              "      <td>193.41</td>\n",
              "      <td>NaN</td>\n",
              "    </tr>\n",
              "    <tr>\n",
              "      <th>23776</th>\n",
              "      <td>ricciardo</td>\n",
              "      <td>01:42.8</td>\n",
              "      <td>194.579</td>\n",
              "      <td>NaN</td>\n",
              "    </tr>\n",
              "  </tbody>\n",
              "</table>\n",
              "</div>"
            ],
            "text/plain": [
              "             driverRef fastestLapTime fastestLapSpeed  position\n",
              "23757           bottas        01:40.7         198.652       1.0\n",
              "23758         hamilton        01:41.5         197.041       2.0\n",
              "23759           vettel        01:40.8         198.416       3.0\n",
              "23760        raikkonen        01:42.3         195.376       4.0\n",
              "23761   max_verstappen        01:42.0         195.969       5.0\n",
              "23762       hulkenberg        01:42.4         195.303       6.0\n",
              "23763            perez        01:42.7         194.708       7.0\n",
              "23764             ocon        01:42.6         01:42.6       8.0\n",
              "23765           alonso        01:43.4          193.41       9.0\n",
              "23766            massa        01:43.0         194.071      10.0\n",
              "23767         grosjean        01:42.4         195.187      11.0\n",
              "23768        vandoorne        01:44.0         192.279      12.0\n",
              "23769  kevin_magnussen        01:43.9         192.387      13.0\n",
              "23770         wehrlein        01:43.9           192.5      14.0\n",
              "23771  brendon_hartley        01:43.9         192.444      15.0\n",
              "23772            gasly        01:43.8         192.542      16.0\n",
              "23773         ericsson        01:43.6         193.057      17.0\n",
              "23774           stroll        01:42.3         195.402      18.0\n",
              "23775            sainz        01:43.4          193.41       NaN\n",
              "23776        ricciardo        01:42.8         194.579       NaN"
            ]
          },
          "metadata": {
            "tags": []
          },
          "execution_count": 152
        }
      ]
    },
    {
      "cell_type": "code",
      "metadata": {
        "id": "SpcmN4qY30G3"
      },
      "source": [
        "df.loc[23764,['fastestLapSpeed']] = '194.551'"
      ],
      "execution_count": 176,
      "outputs": []
    },
    {
      "cell_type": "markdown",
      "metadata": {
        "id": "EJEBwNSI4UDu"
      },
      "source": [
        "Verificando a atualização"
      ]
    },
    {
      "cell_type": "code",
      "metadata": {
        "id": "ppEGKHYm4QWa",
        "outputId": "4fb5b064-9af2-4517-a18f-7ece0649704c",
        "colab": {
          "base_uri": "https://localhost:8080/",
          "height": 669
        }
      },
      "source": [
        "df[(df['year'] == 2017) & (df['country'] == 'UAE')][['driverRef', 'fastestLapTime','fastestLapSpeed','position']]"
      ],
      "execution_count": 177,
      "outputs": [
        {
          "output_type": "execute_result",
          "data": {
            "text/html": [
              "<div>\n",
              "<style scoped>\n",
              "    .dataframe tbody tr th:only-of-type {\n",
              "        vertical-align: middle;\n",
              "    }\n",
              "\n",
              "    .dataframe tbody tr th {\n",
              "        vertical-align: top;\n",
              "    }\n",
              "\n",
              "    .dataframe thead th {\n",
              "        text-align: right;\n",
              "    }\n",
              "</style>\n",
              "<table border=\"1\" class=\"dataframe\">\n",
              "  <thead>\n",
              "    <tr style=\"text-align: right;\">\n",
              "      <th></th>\n",
              "      <th>driverRef</th>\n",
              "      <th>fastestLapTime</th>\n",
              "      <th>fastestLapSpeed</th>\n",
              "      <th>position</th>\n",
              "    </tr>\n",
              "  </thead>\n",
              "  <tbody>\n",
              "    <tr>\n",
              "      <th>23757</th>\n",
              "      <td>bottas</td>\n",
              "      <td>01:40.7</td>\n",
              "      <td>198.652</td>\n",
              "      <td>1.0</td>\n",
              "    </tr>\n",
              "    <tr>\n",
              "      <th>23758</th>\n",
              "      <td>hamilton</td>\n",
              "      <td>01:41.5</td>\n",
              "      <td>197.041</td>\n",
              "      <td>2.0</td>\n",
              "    </tr>\n",
              "    <tr>\n",
              "      <th>23759</th>\n",
              "      <td>vettel</td>\n",
              "      <td>01:40.8</td>\n",
              "      <td>198.416</td>\n",
              "      <td>3.0</td>\n",
              "    </tr>\n",
              "    <tr>\n",
              "      <th>23760</th>\n",
              "      <td>raikkonen</td>\n",
              "      <td>01:42.3</td>\n",
              "      <td>195.376</td>\n",
              "      <td>4.0</td>\n",
              "    </tr>\n",
              "    <tr>\n",
              "      <th>23761</th>\n",
              "      <td>max_verstappen</td>\n",
              "      <td>01:42.0</td>\n",
              "      <td>195.969</td>\n",
              "      <td>5.0</td>\n",
              "    </tr>\n",
              "    <tr>\n",
              "      <th>23762</th>\n",
              "      <td>hulkenberg</td>\n",
              "      <td>01:42.4</td>\n",
              "      <td>195.303</td>\n",
              "      <td>6.0</td>\n",
              "    </tr>\n",
              "    <tr>\n",
              "      <th>23763</th>\n",
              "      <td>perez</td>\n",
              "      <td>01:42.7</td>\n",
              "      <td>194.708</td>\n",
              "      <td>7.0</td>\n",
              "    </tr>\n",
              "    <tr>\n",
              "      <th>23764</th>\n",
              "      <td>ocon</td>\n",
              "      <td>01:42.6</td>\n",
              "      <td>194.551</td>\n",
              "      <td>8.0</td>\n",
              "    </tr>\n",
              "    <tr>\n",
              "      <th>23765</th>\n",
              "      <td>alonso</td>\n",
              "      <td>01:43.4</td>\n",
              "      <td>193.41</td>\n",
              "      <td>9.0</td>\n",
              "    </tr>\n",
              "    <tr>\n",
              "      <th>23766</th>\n",
              "      <td>massa</td>\n",
              "      <td>01:43.0</td>\n",
              "      <td>194.071</td>\n",
              "      <td>10.0</td>\n",
              "    </tr>\n",
              "    <tr>\n",
              "      <th>23767</th>\n",
              "      <td>grosjean</td>\n",
              "      <td>01:42.4</td>\n",
              "      <td>195.187</td>\n",
              "      <td>11.0</td>\n",
              "    </tr>\n",
              "    <tr>\n",
              "      <th>23768</th>\n",
              "      <td>vandoorne</td>\n",
              "      <td>01:44.0</td>\n",
              "      <td>192.279</td>\n",
              "      <td>12.0</td>\n",
              "    </tr>\n",
              "    <tr>\n",
              "      <th>23769</th>\n",
              "      <td>kevin_magnussen</td>\n",
              "      <td>01:43.9</td>\n",
              "      <td>192.387</td>\n",
              "      <td>13.0</td>\n",
              "    </tr>\n",
              "    <tr>\n",
              "      <th>23770</th>\n",
              "      <td>wehrlein</td>\n",
              "      <td>01:43.9</td>\n",
              "      <td>192.5</td>\n",
              "      <td>14.0</td>\n",
              "    </tr>\n",
              "    <tr>\n",
              "      <th>23771</th>\n",
              "      <td>brendon_hartley</td>\n",
              "      <td>01:43.9</td>\n",
              "      <td>192.444</td>\n",
              "      <td>15.0</td>\n",
              "    </tr>\n",
              "    <tr>\n",
              "      <th>23772</th>\n",
              "      <td>gasly</td>\n",
              "      <td>01:43.8</td>\n",
              "      <td>192.542</td>\n",
              "      <td>16.0</td>\n",
              "    </tr>\n",
              "    <tr>\n",
              "      <th>23773</th>\n",
              "      <td>ericsson</td>\n",
              "      <td>01:43.6</td>\n",
              "      <td>193.057</td>\n",
              "      <td>17.0</td>\n",
              "    </tr>\n",
              "    <tr>\n",
              "      <th>23774</th>\n",
              "      <td>stroll</td>\n",
              "      <td>01:42.3</td>\n",
              "      <td>195.402</td>\n",
              "      <td>18.0</td>\n",
              "    </tr>\n",
              "    <tr>\n",
              "      <th>23775</th>\n",
              "      <td>sainz</td>\n",
              "      <td>01:43.4</td>\n",
              "      <td>193.41</td>\n",
              "      <td>NaN</td>\n",
              "    </tr>\n",
              "    <tr>\n",
              "      <th>23776</th>\n",
              "      <td>ricciardo</td>\n",
              "      <td>01:42.8</td>\n",
              "      <td>194.579</td>\n",
              "      <td>NaN</td>\n",
              "    </tr>\n",
              "  </tbody>\n",
              "</table>\n",
              "</div>"
            ],
            "text/plain": [
              "             driverRef fastestLapTime fastestLapSpeed  position\n",
              "23757           bottas        01:40.7         198.652       1.0\n",
              "23758         hamilton        01:41.5         197.041       2.0\n",
              "23759           vettel        01:40.8         198.416       3.0\n",
              "23760        raikkonen        01:42.3         195.376       4.0\n",
              "23761   max_verstappen        01:42.0         195.969       5.0\n",
              "23762       hulkenberg        01:42.4         195.303       6.0\n",
              "23763            perez        01:42.7         194.708       7.0\n",
              "23764             ocon        01:42.6         194.551       8.0\n",
              "23765           alonso        01:43.4          193.41       9.0\n",
              "23766            massa        01:43.0         194.071      10.0\n",
              "23767         grosjean        01:42.4         195.187      11.0\n",
              "23768        vandoorne        01:44.0         192.279      12.0\n",
              "23769  kevin_magnussen        01:43.9         192.387      13.0\n",
              "23770         wehrlein        01:43.9           192.5      14.0\n",
              "23771  brendon_hartley        01:43.9         192.444      15.0\n",
              "23772            gasly        01:43.8         192.542      16.0\n",
              "23773         ericsson        01:43.6         193.057      17.0\n",
              "23774           stroll        01:42.3         195.402      18.0\n",
              "23775            sainz        01:43.4          193.41       NaN\n",
              "23776        ricciardo        01:42.8         194.579       NaN"
            ]
          },
          "metadata": {
            "tags": []
          },
          "execution_count": 177
        }
      ]
    },
    {
      "cell_type": "markdown",
      "metadata": {
        "id": "H4xTadz3AaG1"
      },
      "source": [
        "Agora vamos a conversão"
      ]
    },
    {
      "cell_type": "code",
      "metadata": {
        "id": "j9H0QYPa4YuZ",
        "outputId": "3a09dd5b-fa0c-4520-f6d6-278f5ce4cd23",
        "colab": {
          "base_uri": "https://localhost:8080/",
          "height": 34
        }
      },
      "source": [
        "df['fastestLapSpeed'] = df['fastestLapSpeed'].astype('float64')\n",
        "getMeanSpeed = df[(df['year'] == 2017) & (df['country'] == 'UAE')]\n",
        "getMeanSpeed['fastestLapSpeed'].mean()"
      ],
      "execution_count": 178,
      "outputs": [
        {
          "output_type": "execute_result",
          "data": {
            "text/plain": [
              "194.5642"
            ]
          },
          "metadata": {
            "tags": []
          },
          "execution_count": 178
        }
      ]
    },
    {
      "cell_type": "markdown",
      "metadata": {
        "id": "VGwbon-T73KD"
      },
      "source": [
        "vamos adicionar mais um coluna no dataframe relativa a distância da volta, para calcular a distância sabemos que velocidade = distância/tempo, portanto distância = velocidade * tempo, dessa forma saberemos qual a distância de 1 volta da corrida"
      ]
    },
    {
      "cell_type": "code",
      "metadata": {
        "id": "X6pKuXOd8enb",
        "outputId": "47867e7d-b150-413f-dab7-3dd851deada2",
        "colab": {
          "base_uri": "https://localhost:8080/",
          "height": 119
        }
      },
      "source": [
        "df['fastestLapTimeSeg'] = (df['fastestLapTime'].str.split(':', expand = True)[0].astype('float64') * 60) + df['fastestLapTime'].str.split(':', expand = True)[1].astype('float64')\n",
        "df['fastestLapTimeSeg'].head()\n"
      ],
      "execution_count": 181,
      "outputs": [
        {
          "output_type": "execute_result",
          "data": {
            "text/plain": [
              "0    87.5\n",
              "1    87.7\n",
              "2    88.1\n",
              "3    88.6\n",
              "4    87.4\n",
              "Name: fastestLapTimeSeg, dtype: float64"
            ]
          },
          "metadata": {
            "tags": []
          },
          "execution_count": 181
        }
      ]
    },
    {
      "cell_type": "code",
      "metadata": {
        "id": "xUwqUHajArmo"
      },
      "source": [
        "df['fastestLapSpeedMps'] = 1000 * df['fastestLapSpeed'] / 3600"
      ],
      "execution_count": 182,
      "outputs": []
    },
    {
      "cell_type": "markdown",
      "metadata": {
        "id": "aq5wzctABQUN"
      },
      "source": [
        "uma vez que possuimos a tabela em Metros por segundo, podemos calcular a distância aproximada do circuito conforme a formula s = v * t"
      ]
    },
    {
      "cell_type": "code",
      "metadata": {
        "id": "C9YLued5A-6p",
        "outputId": "9633d722-1196-432b-d351-c94d92a930a2",
        "colab": {
          "base_uri": "https://localhost:8080/",
          "height": 119
        }
      },
      "source": [
        "df['fastestLapDist'] = df['fastestLapTimeSeg'] * df['fastestLapSpeedMps']\n",
        "df['fastestLapDist'].head()"
      ],
      "execution_count": 184,
      "outputs": [
        {
          "output_type": "execute_result",
          "data": {
            "text/plain": [
              "0    5305.902778\n",
              "1    5300.636722\n",
              "2    5303.595528\n",
              "3    5302.808444\n",
              "4    5301.902500\n",
              "Name: fastestLapDist, dtype: float64"
            ]
          },
          "metadata": {
            "tags": []
          },
          "execution_count": 184
        }
      ]
    },
    {
      "cell_type": "code",
      "metadata": {
        "id": "jaIie8aCBxRF",
        "outputId": "5af12cd4-95f4-4935-97a6-37020566a051",
        "colab": {
          "base_uri": "https://localhost:8080/",
          "height": 394
        }
      },
      "source": [
        "df.head()"
      ],
      "execution_count": 185,
      "outputs": [
        {
          "output_type": "execute_result",
          "data": {
            "text/html": [
              "<div>\n",
              "<style scoped>\n",
              "    .dataframe tbody tr th:only-of-type {\n",
              "        vertical-align: middle;\n",
              "    }\n",
              "\n",
              "    .dataframe tbody tr th {\n",
              "        vertical-align: top;\n",
              "    }\n",
              "\n",
              "    .dataframe thead th {\n",
              "        text-align: right;\n",
              "    }\n",
              "</style>\n",
              "<table border=\"1\" class=\"dataframe\">\n",
              "  <thead>\n",
              "    <tr style=\"text-align: right;\">\n",
              "      <th></th>\n",
              "      <th>resultId</th>\n",
              "      <th>raceId</th>\n",
              "      <th>driverId</th>\n",
              "      <th>constructorId</th>\n",
              "      <th>number</th>\n",
              "      <th>grid</th>\n",
              "      <th>position</th>\n",
              "      <th>positionText</th>\n",
              "      <th>points</th>\n",
              "      <th>laps</th>\n",
              "      <th>time</th>\n",
              "      <th>milliseconds</th>\n",
              "      <th>fastestLap</th>\n",
              "      <th>fastestLapTime</th>\n",
              "      <th>fastestLapSpeed</th>\n",
              "      <th>statusId</th>\n",
              "      <th>constructorRef</th>\n",
              "      <th>constructorName</th>\n",
              "      <th>year</th>\n",
              "      <th>round</th>\n",
              "      <th>circuitId</th>\n",
              "      <th>raceName</th>\n",
              "      <th>raceDate</th>\n",
              "      <th>circuitRef</th>\n",
              "      <th>circuitName</th>\n",
              "      <th>location</th>\n",
              "      <th>country</th>\n",
              "      <th>driverRef</th>\n",
              "      <th>forename</th>\n",
              "      <th>surname</th>\n",
              "      <th>dob</th>\n",
              "      <th>nationality</th>\n",
              "      <th>status</th>\n",
              "      <th>fastestLapTimeSeg</th>\n",
              "      <th>fastestLapSpeedMps</th>\n",
              "      <th>fastestLapDist</th>\n",
              "    </tr>\n",
              "  </thead>\n",
              "  <tbody>\n",
              "    <tr>\n",
              "      <th>0</th>\n",
              "      <td>1</td>\n",
              "      <td>18</td>\n",
              "      <td>1</td>\n",
              "      <td>1</td>\n",
              "      <td>22.0</td>\n",
              "      <td>1</td>\n",
              "      <td>1.0</td>\n",
              "      <td>1</td>\n",
              "      <td>10.0</td>\n",
              "      <td>58</td>\n",
              "      <td>34:50.6</td>\n",
              "      <td>5690616.0</td>\n",
              "      <td>39.0</td>\n",
              "      <td>01:27.5</td>\n",
              "      <td>218.300</td>\n",
              "      <td>1</td>\n",
              "      <td>mclaren</td>\n",
              "      <td>McLaren</td>\n",
              "      <td>2008</td>\n",
              "      <td>1</td>\n",
              "      <td>1</td>\n",
              "      <td>Australian Grand Prix</td>\n",
              "      <td>2008-03-16</td>\n",
              "      <td>albert_park</td>\n",
              "      <td>Albert Park Grand Prix Circuit</td>\n",
              "      <td>Melbourne</td>\n",
              "      <td>Australia</td>\n",
              "      <td>hamilton</td>\n",
              "      <td>Lewis</td>\n",
              "      <td>Hamilton</td>\n",
              "      <td>07/01/1985</td>\n",
              "      <td>British</td>\n",
              "      <td>Finished</td>\n",
              "      <td>87.5</td>\n",
              "      <td>60.638889</td>\n",
              "      <td>5305.902778</td>\n",
              "    </tr>\n",
              "    <tr>\n",
              "      <th>1</th>\n",
              "      <td>2</td>\n",
              "      <td>18</td>\n",
              "      <td>2</td>\n",
              "      <td>2</td>\n",
              "      <td>3.0</td>\n",
              "      <td>5</td>\n",
              "      <td>2.0</td>\n",
              "      <td>2</td>\n",
              "      <td>8.0</td>\n",
              "      <td>58</td>\n",
              "      <td>5.478</td>\n",
              "      <td>5696094.0</td>\n",
              "      <td>41.0</td>\n",
              "      <td>01:27.7</td>\n",
              "      <td>217.586</td>\n",
              "      <td>1</td>\n",
              "      <td>bmw_sauber</td>\n",
              "      <td>BMW Sauber</td>\n",
              "      <td>2008</td>\n",
              "      <td>1</td>\n",
              "      <td>1</td>\n",
              "      <td>Australian Grand Prix</td>\n",
              "      <td>2008-03-16</td>\n",
              "      <td>albert_park</td>\n",
              "      <td>Albert Park Grand Prix Circuit</td>\n",
              "      <td>Melbourne</td>\n",
              "      <td>Australia</td>\n",
              "      <td>heidfeld</td>\n",
              "      <td>Nick</td>\n",
              "      <td>Heidfeld</td>\n",
              "      <td>10/05/1977</td>\n",
              "      <td>German</td>\n",
              "      <td>Finished</td>\n",
              "      <td>87.7</td>\n",
              "      <td>60.440556</td>\n",
              "      <td>5300.636722</td>\n",
              "    </tr>\n",
              "    <tr>\n",
              "      <th>2</th>\n",
              "      <td>3</td>\n",
              "      <td>18</td>\n",
              "      <td>3</td>\n",
              "      <td>3</td>\n",
              "      <td>7.0</td>\n",
              "      <td>7</td>\n",
              "      <td>3.0</td>\n",
              "      <td>3</td>\n",
              "      <td>6.0</td>\n",
              "      <td>58</td>\n",
              "      <td>8.163</td>\n",
              "      <td>5698779.0</td>\n",
              "      <td>41.0</td>\n",
              "      <td>01:28.1</td>\n",
              "      <td>216.719</td>\n",
              "      <td>1</td>\n",
              "      <td>williams</td>\n",
              "      <td>Williams</td>\n",
              "      <td>2008</td>\n",
              "      <td>1</td>\n",
              "      <td>1</td>\n",
              "      <td>Australian Grand Prix</td>\n",
              "      <td>2008-03-16</td>\n",
              "      <td>albert_park</td>\n",
              "      <td>Albert Park Grand Prix Circuit</td>\n",
              "      <td>Melbourne</td>\n",
              "      <td>Australia</td>\n",
              "      <td>rosberg</td>\n",
              "      <td>Nico</td>\n",
              "      <td>Rosberg</td>\n",
              "      <td>27/06/1985</td>\n",
              "      <td>German</td>\n",
              "      <td>Finished</td>\n",
              "      <td>88.1</td>\n",
              "      <td>60.199722</td>\n",
              "      <td>5303.595528</td>\n",
              "    </tr>\n",
              "    <tr>\n",
              "      <th>3</th>\n",
              "      <td>4</td>\n",
              "      <td>18</td>\n",
              "      <td>4</td>\n",
              "      <td>4</td>\n",
              "      <td>5.0</td>\n",
              "      <td>11</td>\n",
              "      <td>4.0</td>\n",
              "      <td>4</td>\n",
              "      <td>5.0</td>\n",
              "      <td>58</td>\n",
              "      <td>17.181</td>\n",
              "      <td>5707797.0</td>\n",
              "      <td>58.0</td>\n",
              "      <td>01:28.6</td>\n",
              "      <td>215.464</td>\n",
              "      <td>1</td>\n",
              "      <td>renault</td>\n",
              "      <td>Renault</td>\n",
              "      <td>2008</td>\n",
              "      <td>1</td>\n",
              "      <td>1</td>\n",
              "      <td>Australian Grand Prix</td>\n",
              "      <td>2008-03-16</td>\n",
              "      <td>albert_park</td>\n",
              "      <td>Albert Park Grand Prix Circuit</td>\n",
              "      <td>Melbourne</td>\n",
              "      <td>Australia</td>\n",
              "      <td>alonso</td>\n",
              "      <td>Fernando</td>\n",
              "      <td>Alonso</td>\n",
              "      <td>29/07/1981</td>\n",
              "      <td>Spanish</td>\n",
              "      <td>Finished</td>\n",
              "      <td>88.6</td>\n",
              "      <td>59.851111</td>\n",
              "      <td>5302.808444</td>\n",
              "    </tr>\n",
              "    <tr>\n",
              "      <th>4</th>\n",
              "      <td>5</td>\n",
              "      <td>18</td>\n",
              "      <td>5</td>\n",
              "      <td>1</td>\n",
              "      <td>23.0</td>\n",
              "      <td>3</td>\n",
              "      <td>5.0</td>\n",
              "      <td>5</td>\n",
              "      <td>4.0</td>\n",
              "      <td>58</td>\n",
              "      <td>18.014</td>\n",
              "      <td>5708630.0</td>\n",
              "      <td>43.0</td>\n",
              "      <td>01:27.4</td>\n",
              "      <td>218.385</td>\n",
              "      <td>1</td>\n",
              "      <td>mclaren</td>\n",
              "      <td>McLaren</td>\n",
              "      <td>2008</td>\n",
              "      <td>1</td>\n",
              "      <td>1</td>\n",
              "      <td>Australian Grand Prix</td>\n",
              "      <td>2008-03-16</td>\n",
              "      <td>albert_park</td>\n",
              "      <td>Albert Park Grand Prix Circuit</td>\n",
              "      <td>Melbourne</td>\n",
              "      <td>Australia</td>\n",
              "      <td>kovalainen</td>\n",
              "      <td>Heikki</td>\n",
              "      <td>Kovalainen</td>\n",
              "      <td>19/10/1981</td>\n",
              "      <td>Finnish</td>\n",
              "      <td>Finished</td>\n",
              "      <td>87.4</td>\n",
              "      <td>60.662500</td>\n",
              "      <td>5301.902500</td>\n",
              "    </tr>\n",
              "  </tbody>\n",
              "</table>\n",
              "</div>"
            ],
            "text/plain": [
              "   resultId  raceId  ...  fastestLapSpeedMps  fastestLapDist\n",
              "0         1      18  ...           60.638889     5305.902778\n",
              "1         2      18  ...           60.440556     5300.636722\n",
              "2         3      18  ...           60.199722     5303.595528\n",
              "3         4      18  ...           59.851111     5302.808444\n",
              "4         5      18  ...           60.662500     5301.902500\n",
              "\n",
              "[5 rows x 36 columns]"
            ]
          },
          "metadata": {
            "tags": []
          },
          "execution_count": 185
        }
      ]
    },
    {
      "cell_type": "markdown",
      "metadata": {
        "id": "WxaSSHNR5bcm"
      },
      "source": [
        "Após analisarmos melhor os dados percebemos que a velocidade das voltas estavam sendo medidas em MPH e a distância da pista medida em metros, portanto vamos realizar as respectivas conversões"
      ]
    },
    {
      "cell_type": "code",
      "metadata": {
        "id": "H5s82D2544Gl",
        "outputId": "d6709651-89cd-416f-ecfa-f1dcd1cd7c8a",
        "colab": {
          "base_uri": "https://localhost:8080/",
          "height": 204
        }
      },
      "source": [
        "df['fastestLapSpeed'] = df['fastestLapSpeed']*1.61\n",
        "df['fastestLapDist'] = df['fastestLapDist'] / 1000\n",
        "df[['country','circuitName', 'fastestLapDist','fastestLapSpeed']].head()"
      ],
      "execution_count": 186,
      "outputs": [
        {
          "output_type": "execute_result",
          "data": {
            "text/html": [
              "<div>\n",
              "<style scoped>\n",
              "    .dataframe tbody tr th:only-of-type {\n",
              "        vertical-align: middle;\n",
              "    }\n",
              "\n",
              "    .dataframe tbody tr th {\n",
              "        vertical-align: top;\n",
              "    }\n",
              "\n",
              "    .dataframe thead th {\n",
              "        text-align: right;\n",
              "    }\n",
              "</style>\n",
              "<table border=\"1\" class=\"dataframe\">\n",
              "  <thead>\n",
              "    <tr style=\"text-align: right;\">\n",
              "      <th></th>\n",
              "      <th>country</th>\n",
              "      <th>circuitName</th>\n",
              "      <th>fastestLapDist</th>\n",
              "      <th>fastestLapSpeed</th>\n",
              "    </tr>\n",
              "  </thead>\n",
              "  <tbody>\n",
              "    <tr>\n",
              "      <th>0</th>\n",
              "      <td>Australia</td>\n",
              "      <td>Albert Park Grand Prix Circuit</td>\n",
              "      <td>5.305903</td>\n",
              "      <td>351.46300</td>\n",
              "    </tr>\n",
              "    <tr>\n",
              "      <th>1</th>\n",
              "      <td>Australia</td>\n",
              "      <td>Albert Park Grand Prix Circuit</td>\n",
              "      <td>5.300637</td>\n",
              "      <td>350.31346</td>\n",
              "    </tr>\n",
              "    <tr>\n",
              "      <th>2</th>\n",
              "      <td>Australia</td>\n",
              "      <td>Albert Park Grand Prix Circuit</td>\n",
              "      <td>5.303596</td>\n",
              "      <td>348.91759</td>\n",
              "    </tr>\n",
              "    <tr>\n",
              "      <th>3</th>\n",
              "      <td>Australia</td>\n",
              "      <td>Albert Park Grand Prix Circuit</td>\n",
              "      <td>5.302808</td>\n",
              "      <td>346.89704</td>\n",
              "    </tr>\n",
              "    <tr>\n",
              "      <th>4</th>\n",
              "      <td>Australia</td>\n",
              "      <td>Albert Park Grand Prix Circuit</td>\n",
              "      <td>5.301902</td>\n",
              "      <td>351.59985</td>\n",
              "    </tr>\n",
              "  </tbody>\n",
              "</table>\n",
              "</div>"
            ],
            "text/plain": [
              "     country                     circuitName  fastestLapDist  fastestLapSpeed\n",
              "0  Australia  Albert Park Grand Prix Circuit        5.305903        351.46300\n",
              "1  Australia  Albert Park Grand Prix Circuit        5.300637        350.31346\n",
              "2  Australia  Albert Park Grand Prix Circuit        5.303596        348.91759\n",
              "3  Australia  Albert Park Grand Prix Circuit        5.302808        346.89704\n",
              "4  Australia  Albert Park Grand Prix Circuit        5.301902        351.59985"
            ]
          },
          "metadata": {
            "tags": []
          },
          "execution_count": 186
        }
      ]
    }
  ]
}